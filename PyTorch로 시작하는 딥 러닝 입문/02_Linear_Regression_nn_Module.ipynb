{
  "nbformat": 4,
  "nbformat_minor": 0,
  "metadata": {
    "colab": {
      "name": "02_Linear_Regression_nn.Module.ipynb",
      "provenance": [],
      "toc_visible": true
    },
    "kernelspec": {
      "name": "python3",
      "display_name": "Python 3"
    },
    "language_info": {
      "name": "python"
    }
  },
  "cells": [
    {
      "cell_type": "markdown",
      "source": [
        "# nn.Module로 구현하는 선형 회귀\n",
        "\n",
        "파이토치의 nn은 neural network(신경망)의 약자이다. \n",
        "\n",
        "nn에 정의되어 있는 nn.Linear() 함수와 평균제곱오차 nn.functional.mse_lose()라는 함수로 선형회귀 모델을 구현할 수 있다."
      ],
      "metadata": {
        "id": "tLk4zJxtqXHK"
      }
    },
    {
      "cell_type": "code",
      "source": [
        "import torch.nn as nn\n",
        "# model = nn.Linear(input_dim, output_dim)"
      ],
      "metadata": {
        "id": "HjhglzOLqqM4"
      },
      "execution_count": 2,
      "outputs": []
    },
    {
      "cell_type": "code",
      "source": [
        "import torch.nn.functional as F\n",
        "# cost = F.mse_loss(prediction, y_train) # 손실 함수"
      ],
      "metadata": {
        "id": "LMnJX-GjrtBS"
      },
      "execution_count": 3,
      "outputs": []
    },
    {
      "cell_type": "markdown",
      "source": [
        "## 단순 선형회귀(변수가 1개) 구현"
      ],
      "metadata": {
        "id": "dMogCePXsDsp"
      }
    },
    {
      "cell_type": "code",
      "source": [
        "import torch\n",
        "import torch.nn as nn\n",
        "import torch.nn.functional as F"
      ],
      "metadata": {
        "id": "NQ-reamnsVrz"
      },
      "execution_count": 4,
      "outputs": []
    },
    {
      "cell_type": "code",
      "source": [
        "x_train = torch.FloatTensor([[1], [2], [3]])\n",
        "y_train = torch.FloatTensor([[2], [4], [6]])"
      ],
      "metadata": {
        "id": "mw8MtxJ1sfTB"
      },
      "execution_count": 5,
      "outputs": []
    },
    {
      "cell_type": "code",
      "source": [
        "model = nn.Linear(1,1) # input_dim, output_dim (뉴런의 수)"
      ],
      "metadata": {
        "id": "jFK1bkNBstc4"
      },
      "execution_count": 7,
      "outputs": []
    },
    {
      "cell_type": "code",
      "source": [
        "print(list(model.parameters()))"
      ],
      "metadata": {
        "colab": {
          "base_uri": "https://localhost:8080/"
        },
        "id": "ARIVG68-s_Mp",
        "outputId": "46f53944-3df7-4ec3-84ac-7b0e53514d90"
      },
      "execution_count": 8,
      "outputs": [
        {
          "output_type": "stream",
          "name": "stdout",
          "text": [
            "[Parameter containing:\n",
            "tensor([[-0.5878]], requires_grad=True), Parameter containing:\n",
            "tensor([0.1183], requires_grad=True)]\n"
          ]
        }
      ]
    },
    {
      "cell_type": "markdown",
      "source": [
        "nn.Linear를 통해 모델을 만들게 되면가중치가  **랜덤으로 초기화**된다. 이 값을 model.praameters()로 사용하여 불러올 수 있다.\n",
        "\n",
        "첫번째 값이 W이고, 두번째 값이 b이다.\n",
        "\n",
        "두 값 모두 학습 대상이므로(=반복적으로 수정되어야 하므로) requires_grad = True 인 것을 확인할 수 있다."
      ],
      "metadata": {
        "id": "CvW8N_ZOtU-Q"
      }
    },
    {
      "cell_type": "code",
      "source": [
        "optimizer = torch.optim.SGD(model.parameters(), lr=0.01) # 옵티마이저로 확률적 경사 하강법 사용, 학습률 지정."
      ],
      "metadata": {
        "id": "rCqkfKd2uEQb"
      },
      "execution_count": 9,
      "outputs": []
    },
    {
      "cell_type": "code",
      "source": [
        "nb_epochs = 2000\n",
        "for epoch in range(1, nb_epochs + 1):\n",
        "\n",
        "  prediction = model(x_train)\n",
        "\n",
        "  cost = F.mse_loss(prediction, y_train)\n",
        "\n",
        "  optimizer.zero_grad() # 그레디언트를 0으로 초기화\n",
        "  cost.backward()\n",
        "\n",
        "  optimizer.step()\n",
        "\n",
        "  if epoch % 100 == 0:\n",
        "    print('Epoch {:4d}/{} Cost: {:.6f}'.format(epoch, nb_epochs, cost.item() ))"
      ],
      "metadata": {
        "colab": {
          "base_uri": "https://localhost:8080/"
        },
        "id": "fQEM33cAu0QE",
        "outputId": "6b58385a-16a5-4c01-e4d3-691157de88cb"
      },
      "execution_count": 10,
      "outputs": [
        {
          "output_type": "stream",
          "name": "stdout",
          "text": [
            "Epoch  100/2000 Cost: 0.098756\n",
            "Epoch  200/2000 Cost: 0.061025\n",
            "Epoch  300/2000 Cost: 0.037710\n",
            "Epoch  400/2000 Cost: 0.023302\n",
            "Epoch  500/2000 Cost: 0.014399\n",
            "Epoch  600/2000 Cost: 0.008898\n",
            "Epoch  700/2000 Cost: 0.005498\n",
            "Epoch  800/2000 Cost: 0.003398\n",
            "Epoch  900/2000 Cost: 0.002100\n",
            "Epoch 1000/2000 Cost: 0.001297\n",
            "Epoch 1100/2000 Cost: 0.000802\n",
            "Epoch 1200/2000 Cost: 0.000495\n",
            "Epoch 1300/2000 Cost: 0.000306\n",
            "Epoch 1400/2000 Cost: 0.000189\n",
            "Epoch 1500/2000 Cost: 0.000117\n",
            "Epoch 1600/2000 Cost: 0.000072\n",
            "Epoch 1700/2000 Cost: 0.000045\n",
            "Epoch 1800/2000 Cost: 0.000028\n",
            "Epoch 1900/2000 Cost: 0.000017\n",
            "Epoch 2000/2000 Cost: 0.000011\n"
          ]
        }
      ]
    },
    {
      "cell_type": "markdown",
      "source": [
        "Cost가 작다 = 모델의 예측이 정답과 매우 유사하다"
      ],
      "metadata": {
        "id": "_DWL4_OqwUKi"
      }
    },
    {
      "cell_type": "code",
      "source": [
        "# 실제 모델 테스트\n",
        "\n",
        "var = torch.FloatTensor([[4.0]])\n",
        "pred_y = model(var)\n",
        "print(\"모델에 4를 입력했을 때의 예측값 : \", pred_y)"
      ],
      "metadata": {
        "colab": {
          "base_uri": "https://localhost:8080/"
        },
        "id": "tDtH9v7XwdGp",
        "outputId": "b41e3d0f-14c7-4415-9873-10c78cb212c0"
      },
      "execution_count": 11,
      "outputs": [
        {
          "output_type": "stream",
          "name": "stdout",
          "text": [
            "모델에 4를 입력했을 때의 예측값 :  tensor([[7.9935]], grad_fn=<AddmmBackward0>)\n"
          ]
        }
      ]
    },
    {
      "cell_type": "markdown",
      "source": [
        "이 모델의 정답은 Y = 2x이므로 정답에 근사한 값을 예측하고 있다."
      ],
      "metadata": {
        "id": "UkCpG4QV1HJD"
      }
    },
    {
      "cell_type": "code",
      "source": [
        "# 학습 후의 모델 파라미터 값\n",
        "print(list(model.parameters()))"
      ],
      "metadata": {
        "colab": {
          "base_uri": "https://localhost:8080/"
        },
        "id": "y3ksaN3k1X4Z",
        "outputId": "a6840422-c633-465f-abec-e6cdffa0b97a"
      },
      "execution_count": 12,
      "outputs": [
        {
          "output_type": "stream",
          "name": "stdout",
          "text": [
            "[Parameter containing:\n",
            "tensor([[1.9962]], requires_grad=True), Parameter containing:\n",
            "tensor([0.0085], requires_grad=True)]\n"
          ]
        }
      ]
    },
    {
      "cell_type": "markdown",
      "source": [
        "\"학습\"한다는 것은 입력되는 변수에 곱해질 가중치를 찾는 과정이다. \n",
        "\n",
        "\"학습된 모델\"이라는 것은 찾아낸 가중치로 구한 **\"함수\"**이다.\n",
        "\n",
        "모델 = 함수\n",
        "\n",
        "함수를 구하면 어떠한 입력이 들어와도 출력을 계산할 수 있다. \n",
        "\n",
        "학습의 목적은 어떠한 입력이 들어와도 처리할 수 있는 모델을 만드는 것이다."
      ],
      "metadata": {
        "id": "gx6MCz8e1eOa"
      }
    },
    {
      "cell_type": "markdown",
      "source": [
        "## 다중 선형 회귀(변수가 여러개)"
      ],
      "metadata": {
        "id": "oNA4NYt23PiR"
      }
    },
    {
      "cell_type": "code",
      "source": [
        "import torch\n",
        "import torch.nn as nn\n",
        "import torch.nn.functional as F"
      ],
      "metadata": {
        "id": "C2zqFLT630gJ"
      },
      "execution_count": 13,
      "outputs": []
    },
    {
      "cell_type": "code",
      "source": [
        "x_train = torch.FloatTensor([[73, 80, 75],\n",
        "                             [93, 88, 93],\n",
        "                             [89, 91, 90],\n",
        "                             [96, 98, 100],\n",
        "                             [73, 66, 70]])\n",
        "y_train = torch.FloatTensor([[152], [185], [180], [196], [142]])"
      ],
      "metadata": {
        "id": "d91HNsDV379K"
      },
      "execution_count": 14,
      "outputs": []
    },
    {
      "cell_type": "code",
      "source": [
        "model = nn.Linear(3,1)"
      ],
      "metadata": {
        "id": "CAvgTQi94lS0"
      },
      "execution_count": 15,
      "outputs": []
    },
    {
      "cell_type": "code",
      "source": [
        "print(list(model.parameters()))"
      ],
      "metadata": {
        "colab": {
          "base_uri": "https://localhost:8080/"
        },
        "id": "N-EONXeX43yJ",
        "outputId": "116f2124-bde8-4fb3-93d7-dc93cab1daa9"
      },
      "execution_count": 16,
      "outputs": [
        {
          "output_type": "stream",
          "name": "stdout",
          "text": [
            "[Parameter containing:\n",
            "tensor([[ 0.0548, -0.5195,  0.3339]], requires_grad=True), Parameter containing:\n",
            "tensor([0.4785], requires_grad=True)]\n"
          ]
        }
      ]
    },
    {
      "cell_type": "code",
      "source": [
        "optimizer = torch.optim.SGD(model.parameters(), lr=1e-5)"
      ],
      "metadata": {
        "id": "HSJ6QCUr5QdK"
      },
      "execution_count": 17,
      "outputs": []
    },
    {
      "cell_type": "code",
      "source": [
        "nb_epochs = 2000\n",
        "for epoch in range(1, nb_epochs + 1):\n",
        "\n",
        "  prediction = model(x_train)\n",
        "\n",
        "  cost = F.mse_loss(prediction, y_train)\n",
        "\n",
        "  optimizer.zero_grad() # 그레디언트를 0으로 초기화\n",
        "  cost.backward()\n",
        "\n",
        "  optimizer.step()\n",
        "\n",
        "  if epoch % 100 == 0:\n",
        "    print('Epoch {:4d}/{} Cost: {:.6f}'.format(epoch, nb_epochs, cost.item() ))"
      ],
      "metadata": {
        "colab": {
          "base_uri": "https://localhost:8080/"
        },
        "id": "Yr3P18ORDKqE",
        "outputId": "c9897566-3707-4e20-c526-92aa51f9e329"
      },
      "execution_count": 18,
      "outputs": [
        {
          "output_type": "stream",
          "name": "stdout",
          "text": [
            "Epoch  100/2000 Cost: 1.143385\n",
            "Epoch  200/2000 Cost: 1.118930\n",
            "Epoch  300/2000 Cost: 1.095648\n",
            "Epoch  400/2000 Cost: 1.073444\n",
            "Epoch  500/2000 Cost: 1.052281\n",
            "Epoch  600/2000 Cost: 1.032109\n",
            "Epoch  700/2000 Cost: 1.012860\n",
            "Epoch  800/2000 Cost: 0.994498\n",
            "Epoch  900/2000 Cost: 0.976975\n",
            "Epoch 1000/2000 Cost: 0.960260\n",
            "Epoch 1100/2000 Cost: 0.944265\n",
            "Epoch 1200/2000 Cost: 0.929005\n",
            "Epoch 1300/2000 Cost: 0.914421\n",
            "Epoch 1400/2000 Cost: 0.900468\n",
            "Epoch 1500/2000 Cost: 0.887140\n",
            "Epoch 1600/2000 Cost: 0.874383\n",
            "Epoch 1700/2000 Cost: 0.862168\n",
            "Epoch 1800/2000 Cost: 0.850479\n",
            "Epoch 1900/2000 Cost: 0.839279\n",
            "Epoch 2000/2000 Cost: 0.828548\n"
          ]
        }
      ]
    },
    {
      "cell_type": "code",
      "source": [
        "new_var = torch.FloatTensor([[73, 80, 75]])\n",
        "pred_y = model(new_var)\n",
        "print(\"입력이 73, 80, 75일 때의 예측값 :\", pred_y) "
      ],
      "metadata": {
        "colab": {
          "base_uri": "https://localhost:8080/"
        },
        "id": "dBfys8Q8DZXb",
        "outputId": "36069bc7-fbbb-4240-c98a-cf8e98081939"
      },
      "execution_count": 19,
      "outputs": [
        {
          "output_type": "stream",
          "name": "stdout",
          "text": [
            "입력이 73, 80, 75일 때의 예측값 : tensor([[150.3520]], grad_fn=<AddmmBackward0>)\n"
          ]
        }
      ]
    },
    {
      "cell_type": "code",
      "source": [
        "print(list(model.parameters()))"
      ],
      "metadata": {
        "colab": {
          "base_uri": "https://localhost:8080/"
        },
        "id": "NYBwsk6ZD6O0",
        "outputId": "6a5e821e-be74-4d04-92bc-13ed75c2cad2"
      },
      "execution_count": 21,
      "outputs": [
        {
          "output_type": "stream",
          "name": "stdout",
          "text": [
            "[Parameter containing:\n",
            "tensor([[0.7342, 0.2543, 1.0123]], requires_grad=True), Parameter containing:\n",
            "tensor([0.4901], requires_grad=True)]\n"
          ]
        }
      ]
    },
    {
      "cell_type": "markdown",
      "source": [
        "## 클래스로 파이토치 모델 구현하기\n",
        "\n",
        "대부분 모델을 사용할 때는 클래스(Class)를 사용한다."
      ],
      "metadata": {
        "id": "jlxo6oXZFff0"
      }
    },
    {
      "cell_type": "code",
      "source": [
        "# model = nn.Linear(1,1)"
      ],
      "metadata": {
        "id": "cvun_iqHFiqt"
      },
      "execution_count": 22,
      "outputs": []
    },
    {
      "cell_type": "code",
      "source": [
        "class LinearRegression(nn.Module):\n",
        "  def __init__(self):\n",
        "    super().__init__()\n",
        "    self.linear = nn.Linear(1,1)\n",
        "\n",
        "  def forward(self, x):\n",
        "    return self.linear(x)"
      ],
      "metadata": {
        "id": "khC38r0-F1CW"
      },
      "execution_count": 27,
      "outputs": []
    },
    {
      "cell_type": "code",
      "source": [
        "model = LinearRegression()"
      ],
      "metadata": {
        "id": "dKCn0D0zGS21"
      },
      "execution_count": 28,
      "outputs": []
    },
    {
      "cell_type": "markdown",
      "source": [
        "위와 같은 모델 구현 형식은 대부분의 파이토치 구현체에서 사용하고 있는 방식이므로 반드시 숙지하도록 하자.\n",
        "\n",
        "클래스(class) 형태의 모델은 nn.Module을 상속받는다. \n",
        "\n",
        "그리고 __ init __()에서 모델의 구조와 동작을 정의하는 생성자를 선언한다.\n",
        "\n",
        "파이썬에서는 생성자에서 속성값을 초기화한다.(객체가 생성될 때 자동으로 호출)\n",
        "\n",
        "super() 함수를 호출하면 nn.Module 클래스의 속성들을 가지고 초기화된다.\n",
        "\n",
        "forward() 함수는 학습데이터를 입력받아 정방향 연산을 진행시키는 함수다. 이 함수는 모델이 객체를 **데이터와 함께 호출하면 자동으로 실행**이 된다."
      ],
      "metadata": {
        "id": "Emh37KquGYnc"
      }
    },
    {
      "cell_type": "markdown",
      "source": [
        "### 단순 선형 회귀 클래스 구현 및 훈련"
      ],
      "metadata": {
        "id": "HNZSTslNIqcU"
      }
    },
    {
      "cell_type": "code",
      "source": [
        "import torch\n",
        "import torch.nn\n",
        "import torch.nn.functional as F\n",
        "\n",
        "x_train = torch.FloatTensor([[1], [2], [3]])\n",
        "y_train = torch.FloatTensor([[2], [4], [6]])\n",
        "\n",
        "class LinearRegression(nn.Module):\n",
        "  def __init__(self):\n",
        "    super().__init__()\n",
        "    self.linear = nn.Linear(1,1)\n",
        "\n",
        "  def forward(self, x): # 데이터와 함께 LinearRegression 호출하면 자동으로 실행됨\n",
        "    return self.linear(x)\n",
        "\n",
        "model = LinearRegression()\n",
        "\n",
        "optimizer = torch.optim.SGD(model.parameters(), lr=0.01)\n",
        "\n",
        "nb_epochs = 2000\n",
        "for epoch in range(1, nb_epochs + 1):\n",
        "\n",
        "  prediction = model(x_train) # forward 자동으로 호출됨 -> 랜덤으로 파라미터 초기화됨\n",
        "\n",
        "  cost = F.mse_loss(prediction, y_train)\n",
        "\n",
        "  optimizer.zero_grad() # 그레디언트를 0으로 초기화\n",
        "  cost.backward()\n",
        "\n",
        "  optimizer.step()\n",
        "\n",
        "  if epoch % 100 == 0:\n",
        "    print('Epoch {:4d}/{} Cost: {:.6f}'.format(epoch, nb_epochs, cost.item() ))"
      ],
      "metadata": {
        "colab": {
          "base_uri": "https://localhost:8080/"
        },
        "id": "n9JTAwk0IvCF",
        "outputId": "152ab4fb-bd68-434b-c9bf-5860f048d78f"
      },
      "execution_count": 30,
      "outputs": [
        {
          "output_type": "stream",
          "name": "stdout",
          "text": [
            "Epoch  100/2000 Cost: 0.104637\n",
            "Epoch  200/2000 Cost: 0.064659\n",
            "Epoch  300/2000 Cost: 0.039955\n",
            "Epoch  400/2000 Cost: 0.024690\n",
            "Epoch  500/2000 Cost: 0.015257\n",
            "Epoch  600/2000 Cost: 0.009428\n",
            "Epoch  700/2000 Cost: 0.005826\n",
            "Epoch  800/2000 Cost: 0.003600\n",
            "Epoch  900/2000 Cost: 0.002225\n",
            "Epoch 1000/2000 Cost: 0.001375\n",
            "Epoch 1100/2000 Cost: 0.000849\n",
            "Epoch 1200/2000 Cost: 0.000525\n",
            "Epoch 1300/2000 Cost: 0.000324\n",
            "Epoch 1400/2000 Cost: 0.000200\n",
            "Epoch 1500/2000 Cost: 0.000124\n",
            "Epoch 1600/2000 Cost: 0.000077\n",
            "Epoch 1700/2000 Cost: 0.000047\n",
            "Epoch 1800/2000 Cost: 0.000029\n",
            "Epoch 1900/2000 Cost: 0.000018\n",
            "Epoch 2000/2000 Cost: 0.000011\n"
          ]
        }
      ]
    },
    {
      "cell_type": "markdown",
      "source": [
        "### 다중 선형 회귀 클래스 구현 및 훈련"
      ],
      "metadata": {
        "id": "OP2D4FxCKDLU"
      }
    },
    {
      "cell_type": "code",
      "source": [
        "import torch\n",
        "import torch.nn as nn\n",
        "import torch.nn.functional as F\n",
        "\n",
        "x_train = torch.FloatTensor([[73, 80, 75],\n",
        "                             [93, 88, 93],\n",
        "                             [89, 91, 90],\n",
        "                             [96, 98, 100],\n",
        "                             [73, 66, 70]])\n",
        "y_train = torch.FloatTensor([[152], [185], [180], [196], [142]])\n",
        "\n",
        "class MultivariateLinearRegression(nn.Module):\n",
        "  def __init__(self):\n",
        "    super().__init__()\n",
        "    self.linear = nn.Linear(3,1)\n",
        "\n",
        "  def forward(self, x):\n",
        "    return self.linear(x)\n",
        "\n",
        "model = MultivariateLinearRegression()\n",
        "\n",
        "optimizer = torch.optim.SGD(model.parameters(), lr=1e-5)\n",
        "\n",
        "nb_epochs = 2000\n",
        "for epoch in range(1, nb_epochs + 1):\n",
        "\n",
        "  prediction = model(x_train)\n",
        "\n",
        "  cost = F.mse_loss(prediction, y_train)\n",
        "\n",
        "  optimizer.zero_grad() # 그레디언트를 0으로 초기화\n",
        "  cost.backward()\n",
        "\n",
        "  optimizer.step()\n",
        "\n",
        "  if epoch % 100 == 0:\n",
        "    print('Epoch {:4d}/{} Cost: {:.6f}'.format(epoch, nb_epochs, cost.item() ))"
      ],
      "metadata": {
        "colab": {
          "base_uri": "https://localhost:8080/"
        },
        "id": "ok9QYaXzKSUk",
        "outputId": "638f7941-df95-4334-be8e-c743b856f5d0"
      },
      "execution_count": 31,
      "outputs": [
        {
          "output_type": "stream",
          "name": "stdout",
          "text": [
            "Epoch  100/2000 Cost: 14.743709\n",
            "Epoch  200/2000 Cost: 13.977470\n",
            "Epoch  300/2000 Cost: 13.251581\n",
            "Epoch  400/2000 Cost: 12.564047\n",
            "Epoch  500/2000 Cost: 11.912766\n",
            "Epoch  600/2000 Cost: 11.295761\n",
            "Epoch  700/2000 Cost: 10.711370\n",
            "Epoch  800/2000 Cost: 10.157763\n",
            "Epoch  900/2000 Cost: 9.633334\n",
            "Epoch 1000/2000 Cost: 9.136578\n",
            "Epoch 1100/2000 Cost: 8.666019\n",
            "Epoch 1200/2000 Cost: 8.220268\n",
            "Epoch 1300/2000 Cost: 7.798032\n",
            "Epoch 1400/2000 Cost: 7.398059\n",
            "Epoch 1500/2000 Cost: 7.019191\n",
            "Epoch 1600/2000 Cost: 6.660245\n",
            "Epoch 1700/2000 Cost: 6.320267\n",
            "Epoch 1800/2000 Cost: 5.998233\n",
            "Epoch 1900/2000 Cost: 5.693156\n",
            "Epoch 2000/2000 Cost: 5.404172\n"
          ]
        }
      ]
    }
  ]
}