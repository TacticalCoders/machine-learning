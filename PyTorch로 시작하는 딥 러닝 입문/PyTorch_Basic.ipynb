{
  "nbformat": 4,
  "nbformat_minor": 0,
  "metadata": {
    "colab": {
      "name": "PyTorch_Basic.ipynb",
      "provenance": [],
      "collapsed_sections": [],
      "toc_visible": true
    },
    "kernelspec": {
      "name": "python3",
      "display_name": "Python 3"
    },
    "language_info": {
      "name": "python"
    }
  },
  "cells": [
    {
      "cell_type": "markdown",
      "source": [
        "# **파이토치 기초**"
      ],
      "metadata": {
        "id": "rmfQLWyoWgAn"
      }
    },
    {
      "cell_type": "markdown",
      "source": [
        "## 파이토치 패키지의 기본 구성"
      ],
      "metadata": {
        "id": "UVcCvopZWwz_"
      }
    },
    {
      "cell_type": "markdown",
      "source": [
        "### **torch**\n",
        "---\n",
        "메인 네임스페이스. 텐서 등의 다양한 수학 함수가 포함되어 있으며 Numpy와 유사한 구조를 가진다."
      ],
      "metadata": {
        "id": "a_KXP3FCWzW5"
      }
    },
    {
      "cell_type": "markdown",
      "source": [
        "### **torch.autograd**\n",
        "---\n",
        "자동 미분을 위한 함수들의 포함되어 있다. \n",
        "\n",
        "자동 미분의 on/off를 제어하는 콘텍스트 매니저나(enable_grad/no_grad)나 자체 미분 가능 함수를 정의할 때 사용하는 기반 클래스 'Function'등이 포함되어 있다."
      ],
      "metadata": {
        "id": "hxH4DiJjXrGs"
      }
    },
    {
      "cell_type": "markdown",
      "source": [
        "### **torch.nn**\n",
        "---\n",
        "신경망을 구축하기 위한 다양한 데이터 구조나 레이어 등이 정의되어 있다. RNN, LSTM 같은 **레이어**, ReLu와 같은 **활성화 함수**, MSELoss와 같은 **손실 함수**들이 있다.\n"
      ],
      "metadata": {
        "id": "eHXr2S1xYF0I"
      }
    },
    {
      "cell_type": "markdown",
      "source": [
        "### **torch.optim**\n",
        "---\n",
        "확률적 경사 하강법(Stochastic Gradient Descent, SGD)를 중심으로 한 파라미터 최적화 알고리즘이 구현되어 있다."
      ],
      "metadata": {
        "id": "U9cIazr-YdOP"
      }
    },
    {
      "cell_type": "markdown",
      "source": [
        "### torch.utils.data\n",
        "---\n",
        "SGD의 반복 연산을 실행할 대 사용하는 미니 배치용 유틸리티 함수가 포함되어 있다."
      ],
      "metadata": {
        "id": "Onii8h-VYkQI"
      }
    },
    {
      "cell_type": "markdown",
      "source": [
        "### torch.onnx\n",
        "---\n",
        "ONNX(Open Neural Network Exchange)의 포맷으로 모델을 **익스포트(export)**할 때 사용한다. ONNX는 서로 다른 딥 러닝 프레임워크 간에 **모델을 공유**할 때 사용하는 포맷."
      ],
      "metadata": {
        "id": "jY6nh0MRYz__"
      }
    },
    {
      "cell_type": "markdown",
      "source": [
        "## 텐서 조작하기"
      ],
      "metadata": {
        "id": "n1UM-4lVY9Vn"
      }
    },
    {
      "cell_type": "code",
      "source": [
        "import torch"
      ],
      "metadata": {
        "id": "HXPuww5YaNAR"
      },
      "execution_count": 1,
      "outputs": []
    },
    {
      "cell_type": "markdown",
      "source": [
        "### 1D"
      ],
      "metadata": {
        "id": "4nMOhZWhaZqh"
      }
    },
    {
      "cell_type": "code",
      "source": [
        "t = torch.FloatTensor([0., 1., 2., 3., 4., 5., 6.])\n",
        "print(t)"
      ],
      "metadata": {
        "colab": {
          "base_uri": "https://localhost:8080/"
        },
        "id": "UeYfZhDhai_Y",
        "outputId": "4f67dc3f-9fe3-4c61-89b1-dd44e61d9d3b"
      },
      "execution_count": 2,
      "outputs": [
        {
          "output_type": "stream",
          "name": "stdout",
          "text": [
            "tensor([0., 1., 2., 3., 4., 5., 6.])\n"
          ]
        }
      ]
    },
    {
      "cell_type": "code",
      "source": [
        "print(t.dim())\n",
        "print(t.shape)\n",
        "print(t.size())"
      ],
      "metadata": {
        "colab": {
          "base_uri": "https://localhost:8080/"
        },
        "id": "YWFcV_Mua9x0",
        "outputId": "32c1afa2-f738-4901-9108-e2fe663e7466"
      },
      "execution_count": 3,
      "outputs": [
        {
          "output_type": "stream",
          "name": "stdout",
          "text": [
            "1\n",
            "torch.Size([7])\n",
            "torch.Size([7])\n"
          ]
        }
      ]
    },
    {
      "cell_type": "code",
      "source": [
        "print(t[0], t[1], t[-1])\n",
        "print(t[2:5], t[4:-1])\n",
        "print(t[:2], t[3:])"
      ],
      "metadata": {
        "colab": {
          "base_uri": "https://localhost:8080/"
        },
        "id": "h8hrVa2FcR6Z",
        "outputId": "bc9dd056-ed20-4414-ca1f-c75a191e4305"
      },
      "execution_count": 4,
      "outputs": [
        {
          "output_type": "stream",
          "name": "stdout",
          "text": [
            "tensor(0.) tensor(1.) tensor(6.)\n",
            "tensor([2., 3., 4.]) tensor([4., 5.])\n",
            "tensor([0., 1.]) tensor([3., 4., 5., 6.])\n"
          ]
        }
      ]
    },
    {
      "cell_type": "markdown",
      "source": [
        "### 2D"
      ],
      "metadata": {
        "id": "5aBIDcdddhWe"
      }
    },
    {
      "cell_type": "code",
      "source": [
        "t = torch.FloatTensor([[1., 2., 3.],\n",
        "                       [4., 5., 6.],\n",
        "                       [7., 8., 9.],\n",
        "                       [10., 11., 12.]\n",
        "                       ])\n",
        "print(t)"
      ],
      "metadata": {
        "colab": {
          "base_uri": "https://localhost:8080/"
        },
        "id": "cTO-C6xIi2SQ",
        "outputId": "9979c96f-3e74-4a83-e552-52acf56bd741"
      },
      "execution_count": 6,
      "outputs": [
        {
          "output_type": "stream",
          "name": "stdout",
          "text": [
            "tensor([[ 1.,  2.,  3.],\n",
            "        [ 4.,  5.,  6.],\n",
            "        [ 7.,  8.,  9.],\n",
            "        [10., 11., 12.]])\n"
          ]
        }
      ]
    },
    {
      "cell_type": "code",
      "source": [
        "print(t.dim())\n",
        "print(t.size())"
      ],
      "metadata": {
        "colab": {
          "base_uri": "https://localhost:8080/"
        },
        "id": "vdDlPyB3jNXB",
        "outputId": "f106533d-aa39-41b4-8076-f6466fa7b6dc"
      },
      "execution_count": 7,
      "outputs": [
        {
          "output_type": "stream",
          "name": "stdout",
          "text": [
            "2\n",
            "torch.Size([4, 3])\n"
          ]
        }
      ]
    },
    {
      "cell_type": "code",
      "source": [
        "print(t[:, 1])\n",
        "print(t[:, 1].size())"
      ],
      "metadata": {
        "colab": {
          "base_uri": "https://localhost:8080/"
        },
        "id": "gwDYk0HrjZXR",
        "outputId": "95656518-a733-42c3-d643-fc9b305ad7ee"
      },
      "execution_count": 8,
      "outputs": [
        {
          "output_type": "stream",
          "name": "stdout",
          "text": [
            "tensor([ 2.,  5.,  8., 11.])\n",
            "torch.Size([4])\n"
          ]
        }
      ]
    },
    {
      "cell_type": "code",
      "source": [
        "print(t[:, :-1])"
      ],
      "metadata": {
        "colab": {
          "base_uri": "https://localhost:8080/"
        },
        "id": "Xnh4jI0jjm9g",
        "outputId": "2efe305b-8d65-4b5e-de4a-8614d4f98263"
      },
      "execution_count": 9,
      "outputs": [
        {
          "output_type": "stream",
          "name": "stdout",
          "text": [
            "tensor([[ 1.,  2.],\n",
            "        [ 4.,  5.],\n",
            "        [ 7.,  8.],\n",
            "        [10., 11.]])\n"
          ]
        }
      ]
    },
    {
      "cell_type": "code",
      "source": [
        "print(t[:-1, :])"
      ],
      "metadata": {
        "colab": {
          "base_uri": "https://localhost:8080/"
        },
        "id": "p_sbK3DQj8lY",
        "outputId": "dd366216-4210-46e8-b80c-03438104252b"
      },
      "execution_count": 10,
      "outputs": [
        {
          "output_type": "stream",
          "name": "stdout",
          "text": [
            "tensor([[1., 2., 3.],\n",
            "        [4., 5., 6.],\n",
            "        [7., 8., 9.]])\n"
          ]
        }
      ]
    },
    {
      "cell_type": "code",
      "source": [
        "print(t[:-1, :-1])"
      ],
      "metadata": {
        "colab": {
          "base_uri": "https://localhost:8080/"
        },
        "id": "kJp1ud3zkA-w",
        "outputId": "a86514f5-ea31-44b0-ed8a-f0aad3775c6a"
      },
      "execution_count": 11,
      "outputs": [
        {
          "output_type": "stream",
          "name": "stdout",
          "text": [
            "tensor([[1., 2.],\n",
            "        [4., 5.],\n",
            "        [7., 8.]])\n"
          ]
        }
      ]
    },
    {
      "cell_type": "markdown",
      "source": [
        "### 브로드캐스팅(Broadcasting)\n",
        "\n",
        "두 행렬 A, B의 덧셈과 뺄셈을 위해선 **행렬 A,B의 크기가 같아야** 한다는 조건이 있다. \n",
        "\n",
        "그리고 두 행렬이 곱셈을 할 때에는 **A의 열과 B의 행 차원**이 일치해야 한다는 조건도 있다.\n",
        "\n",
        "하지만 딥러닝을 하다보면 불가피하게 크기가 다른 행렬(혹은 텐서)에 대해 사칙 연산을 수행해야 하는 경우가 생긴다. 파이토치에서는 자동으로 크기를 맞춰서 연산을 수행하게 만드는 **브토드캐스팅** 기능을 제공한다."
      ],
      "metadata": {
        "id": "oaPwdgZSkGT4"
      }
    },
    {
      "cell_type": "code",
      "source": [
        "m1 = torch.FloatTensor([[3, 3]])\n",
        "m2 = torch.FloatTensor([[2, 2]])\n",
        "print(m1 + m2)"
      ],
      "metadata": {
        "colab": {
          "base_uri": "https://localhost:8080/"
        },
        "id": "bSuJQJtSkMwI",
        "outputId": "9526b701-48c0-4f48-bd36-548e1457474c"
      },
      "execution_count": 12,
      "outputs": [
        {
          "output_type": "stream",
          "name": "stdout",
          "text": [
            "tensor([[5., 5.]])\n"
          ]
        }
      ]
    },
    {
      "cell_type": "markdown",
      "source": [
        "1행 2열의 같은 크기의 행렬이기 때문에 문제 없이 덧셈 연산이 가능하다."
      ],
      "metadata": {
        "id": "e-ZEO7ColVLB"
      }
    },
    {
      "cell_type": "code",
      "source": [
        "m1 = torch.FloatTensor([[1, 2]])\n",
        "m2 = torch.FloatTensor([3]) # [3] -> [3, 3]\n",
        "print(m1 + m2)"
      ],
      "metadata": {
        "colab": {
          "base_uri": "https://localhost:8080/"
        },
        "id": "yG2wrQqrlbSh",
        "outputId": "cdcb7ed8-db56-47cc-dab1-bee125da71fb"
      },
      "execution_count": 13,
      "outputs": [
        {
          "output_type": "stream",
          "name": "stdout",
          "text": [
            "tensor([[4., 5.]])\n"
          ]
        }
      ]
    },
    {
      "cell_type": "markdown",
      "source": [
        "원칙적으로는 (1,2)와 (1,)의 크기가 달라 덧셈이 불가능하지만 파이토치는 m2롤 동일한 크기로 변경하여 연산을 수행한다. "
      ],
      "metadata": {
        "id": "TDT_mbYSlgDx"
      }
    },
    {
      "cell_type": "code",
      "source": [
        "# 2 x 1 Vector + 1 x 2 Vector\n",
        "m1 = torch.FloatTensor([[1, 2]])\n",
        "m2 = torch.FloatTensor([[3], [4]])\n",
        "print(m1 + m2)"
      ],
      "metadata": {
        "colab": {
          "base_uri": "https://localhost:8080/"
        },
        "id": "lJ0nkM9emBLx",
        "outputId": "ce2499c2-b806-412f-c4ef-602bad2184e0"
      },
      "execution_count": 14,
      "outputs": [
        {
          "output_type": "stream",
          "name": "stdout",
          "text": [
            "tensor([[4., 5.],\n",
            "        [5., 6.]])\n"
          ]
        }
      ]
    },
    {
      "cell_type": "markdown",
      "source": [
        "[1, 2]\n",
        "==> [[1, 2],\n",
        "     [1, 2]]\n",
        "\n",
        "[3]\n",
        "[4]\n",
        "==> [[3, 3],\n",
        "     [4, 4]]\n",
        "\n",
        "파이토치는 위처럼 자동으로 브로드캐스팅하여 연산을 수행한다.\n",
        "\n",
        "이는 편리한 기능이지만 자동으로 실행되는 기능인 만큼 사용자 입장에서 굉장히 주의해서 사용해야 한다. 크기가 다른 텐서를 크기가 같다고 착각하여 덧셈을 하게 되면 나중에 원하지 않는 결과가 나와도 어디서 문제가 발생했는지 찾기 굉장히 어려울 수 있다."
      ],
      "metadata": {
        "id": "ixEABczlmJup"
      }
    },
    {
      "cell_type": "markdown",
      "source": [
        "### 자주 사용되는 기능"
      ],
      "metadata": {
        "id": "nyPoF4gjmqJw"
      }
    },
    {
      "cell_type": "markdown",
      "source": [
        "#### 행렬 곱셈과 원소별 곱셈(Matrix Multiplication Vs. Multiplication)\n",
        "*   행렬곱셈(.matmul)\n",
        "*   원소 별 곱셈(.mul) = element-wise 곱셈\n"
      ],
      "metadata": {
        "id": "FoJ5wOsVouW5"
      }
    },
    {
      "cell_type": "code",
      "source": [
        "# 행렬곱셈 .matmul\n",
        "m1 = torch.FloatTensor([[1, 2], [3, 4]])\n",
        "m2 = torch.FloatTensor([[1], [2]])\n",
        "print('Shape of Matrix 1: ', m1.shape) # 2 x 2\n",
        "print('Shape of Matrix 2: ', m2.shape) # 2 x 1\n",
        "print(m1.matmul(m2)) # 2 x 1"
      ],
      "metadata": {
        "colab": {
          "base_uri": "https://localhost:8080/"
        },
        "id": "0twXUmWSpHPa",
        "outputId": "e1c07f5b-f976-4fc2-e7e8-0e7c57bc7b67"
      },
      "execution_count": 16,
      "outputs": [
        {
          "output_type": "stream",
          "name": "stdout",
          "text": [
            "Shape of Matrix 1:  torch.Size([2, 2])\n",
            "Shape of Matrix 2:  torch.Size([2, 1])\n",
            "tensor([[ 5.],\n",
            "        [11.]])\n"
          ]
        }
      ]
    },
    {
      "cell_type": "code",
      "source": [
        "# 원소별 곱셈\n",
        "m1 = torch.FloatTensor([[1, 2], [3, 4]])\n",
        "m2 = torch.FloatTensor([[1], [2]])\n",
        "print('Shape of Matrix 1: ', m1.shape) # 2 x 2\n",
        "print('Shape of Matrix 2: ', m2.shape) # 2 x 1\n",
        "print(m1 * m2) # 2 x 2\n",
        "print(m1.mul(m2))"
      ],
      "metadata": {
        "colab": {
          "base_uri": "https://localhost:8080/"
        },
        "id": "L4UIzbjFpVoh",
        "outputId": "3b8a8d80-98b3-4beb-c9d2-167ec9dc0c26"
      },
      "execution_count": 17,
      "outputs": [
        {
          "output_type": "stream",
          "name": "stdout",
          "text": [
            "Shape of Matrix 1:  torch.Size([2, 2])\n",
            "Shape of Matrix 2:  torch.Size([2, 1])\n",
            "tensor([[1., 2.],\n",
            "        [6., 8.]])\n",
            "tensor([[1., 2.],\n",
            "        [6., 8.]])\n"
          ]
        }
      ]
    },
    {
      "cell_type": "markdown",
      "source": [
        "[1]\n",
        "\n",
        "[2]\n",
        "\n",
        "==>\n",
        " [[1, 1],\n",
        "  [2, 2]]\n",
        "\n",
        "  로 브로드캐스팅되어 각 원소별로 곱셈이 수행된 것을 확인할 수 있다."
      ],
      "metadata": {
        "id": "ubrKPEioqFRb"
      }
    },
    {
      "cell_type": "markdown",
      "source": [
        "#### 평균(Mean)"
      ],
      "metadata": {
        "id": "jJSrRb7sqcr5"
      }
    },
    {
      "cell_type": "code",
      "source": [
        "t = torch.FloatTensor([1, 2])\n",
        "print(t.mean())"
      ],
      "metadata": {
        "colab": {
          "base_uri": "https://localhost:8080/"
        },
        "id": "evt1yeZ9qs-y",
        "outputId": "cebe5a9b-9178-47b0-bdf0-30d3b20d827f"
      },
      "execution_count": 18,
      "outputs": [
        {
          "output_type": "stream",
          "name": "stdout",
          "text": [
            "tensor(1.5000)\n"
          ]
        }
      ]
    },
    {
      "cell_type": "code",
      "source": [
        "t = torch.FloatTensor([[1, 2], [3, 4]])\n",
        "print(t)"
      ],
      "metadata": {
        "colab": {
          "base_uri": "https://localhost:8080/"
        },
        "id": "gp4QQpIPqu1y",
        "outputId": "86a0bf17-1c13-4603-dd68-4f12dad104c1"
      },
      "execution_count": 19,
      "outputs": [
        {
          "output_type": "stream",
          "name": "stdout",
          "text": [
            "tensor([[1., 2.],\n",
            "        [3., 4.]])\n"
          ]
        }
      ]
    },
    {
      "cell_type": "code",
      "source": [
        "print(t.mean())"
      ],
      "metadata": {
        "colab": {
          "base_uri": "https://localhost:8080/"
        },
        "id": "YXK7t6tHqxEK",
        "outputId": "06d9e498-450c-4bf9-9966-573d2bd2ce1e"
      },
      "execution_count": 20,
      "outputs": [
        {
          "output_type": "stream",
          "name": "stdout",
          "text": [
            "tensor(2.5000)\n"
          ]
        }
      ]
    },
    {
      "cell_type": "markdown",
      "source": [
        "4개의 원소 평균이 출력됨을 확인할 수 있다."
      ],
      "metadata": {
        "id": "hjCC4Zm_qyY6"
      }
    },
    {
      "cell_type": "code",
      "source": [
        "# 첫 번째 차원(행) 평균\n",
        "print(t.mean(dim=0))"
      ],
      "metadata": {
        "colab": {
          "base_uri": "https://localhost:8080/"
        },
        "id": "fSQaUSG_q9Pp",
        "outputId": "a733d59f-f4d6-4a3f-8b0f-976fd45012df"
      },
      "execution_count": 21,
      "outputs": [
        {
          "output_type": "stream",
          "name": "stdout",
          "text": [
            "tensor([2., 3.])\n"
          ]
        }
      ]
    },
    {
      "cell_type": "markdown",
      "source": [
        "dim은 해당 차원을 제거한다는 의미가 된다. 따라서 행이 제게되고 열끼리 평균을 계산한다는 뜻."
      ],
      "metadata": {
        "id": "RofppwVArDJG"
      }
    },
    {
      "cell_type": "code",
      "source": [
        "print(t.mean(dim=1))"
      ],
      "metadata": {
        "colab": {
          "base_uri": "https://localhost:8080/"
        },
        "id": "onEidxE7rcOR",
        "outputId": "4146bb73-8d06-4185-fc41-914d96659582"
      },
      "execution_count": 22,
      "outputs": [
        {
          "output_type": "stream",
          "name": "stdout",
          "text": [
            "tensor([1.5000, 3.5000])\n"
          ]
        }
      ]
    },
    {
      "cell_type": "code",
      "source": [
        "print(t.mean(dim=-1)) # -1은 마지막을 의미 -> 열을 제거"
      ],
      "metadata": {
        "colab": {
          "base_uri": "https://localhost:8080/"
        },
        "id": "WOnqx2oSrliZ",
        "outputId": "6837263b-b0d9-4d52-9d6f-91d36e51ae7d"
      },
      "execution_count": 24,
      "outputs": [
        {
          "output_type": "stream",
          "name": "stdout",
          "text": [
            "tensor([1.5000, 3.5000])\n"
          ]
        }
      ]
    },
    {
      "cell_type": "markdown",
      "source": [
        "#### 덧셈(sum)"
      ],
      "metadata": {
        "id": "mpSzD4MnsUe6"
      }
    },
    {
      "cell_type": "code",
      "source": [
        "t = torch.FloatTensor([[1, 2], [3, 4]])\n",
        "print(t)"
      ],
      "metadata": {
        "colab": {
          "base_uri": "https://localhost:8080/"
        },
        "id": "d4e5gNYBsXOx",
        "outputId": "9288c685-06e2-4838-8be5-42edcdf2475c"
      },
      "execution_count": 25,
      "outputs": [
        {
          "output_type": "stream",
          "name": "stdout",
          "text": [
            "tensor([[1., 2.],\n",
            "        [3., 4.]])\n"
          ]
        }
      ]
    },
    {
      "cell_type": "code",
      "source": [
        "print(t.sum()) # 단순히 원소 전체의 덧셈을 수행\n",
        "print(t.sum(dim=0)) # 행을 제거\n",
        "print(t.sum(dim=1)) # 열을 제거\n",
        "print(t.sum(dim=-1)) # 열을 제거"
      ],
      "metadata": {
        "colab": {
          "base_uri": "https://localhost:8080/"
        },
        "id": "4xJh8xZ3saTR",
        "outputId": "1eb8e8d0-4454-4c85-a778-ad594df7f3e5"
      },
      "execution_count": 26,
      "outputs": [
        {
          "output_type": "stream",
          "name": "stdout",
          "text": [
            "tensor(10.)\n",
            "tensor([4., 6.])\n",
            "tensor([3., 7.])\n",
            "tensor([3., 7.])\n"
          ]
        }
      ]
    },
    {
      "cell_type": "markdown",
      "source": [
        "sum은 원소를 모두 더해준다"
      ],
      "metadata": {
        "id": "yrtKyWj5sbgZ"
      }
    },
    {
      "cell_type": "markdown",
      "source": [
        "#### 최대(Max)와 아그맥스(ArgMax)\n",
        "\n",
        "Max는 원소의 **최대값**을 리턴하고, **아그맥스(ArgMax)**는 최대값을 가진 **인덱스**를 리턴한다."
      ],
      "metadata": {
        "id": "SM_WP6jQslMi"
      }
    },
    {
      "cell_type": "code",
      "source": [
        "t = torch.FloatTensor([[1, 2], [3, 4]])\n",
        "print(t)"
      ],
      "metadata": {
        "colab": {
          "base_uri": "https://localhost:8080/"
        },
        "id": "8gC-lVmas8Qy",
        "outputId": "3758435a-a7e3-4cd4-b75c-91c4505f95c5"
      },
      "execution_count": 27,
      "outputs": [
        {
          "output_type": "stream",
          "name": "stdout",
          "text": [
            "tensor([[1., 2.],\n",
            "        [3., 4.]])\n"
          ]
        }
      ]
    },
    {
      "cell_type": "code",
      "source": [
        "print(t.max())"
      ],
      "metadata": {
        "colab": {
          "base_uri": "https://localhost:8080/"
        },
        "id": "P8VUpqFdtR6x",
        "outputId": "01d35105-5077-4ad2-9151-9d14b1c9e542"
      },
      "execution_count": 28,
      "outputs": [
        {
          "output_type": "stream",
          "name": "stdout",
          "text": [
            "tensor(4.)\n"
          ]
        }
      ]
    },
    {
      "cell_type": "code",
      "source": [
        "print(t.max(dim=0)) # 열에서 최대"
      ],
      "metadata": {
        "colab": {
          "base_uri": "https://localhost:8080/"
        },
        "id": "fXgrakVEtTWa",
        "outputId": "26e54006-01ac-4a91-ee36-1abae68a7b48"
      },
      "execution_count": 29,
      "outputs": [
        {
          "output_type": "stream",
          "name": "stdout",
          "text": [
            "torch.return_types.max(\n",
            "values=tensor([3., 4.]),\n",
            "indices=tensor([1, 1]))\n"
          ]
        }
      ]
    },
    {
      "cell_type": "markdown",
      "source": [
        "[1, 1]은 argmax로 인덱스를 의미한다. 첫 번째 열에서 3의 인덱스 1, 두 번째 열에서 4의 인덱스 1이 리턴된 것."
      ],
      "metadata": {
        "id": "lfHN00TvtX1q"
      }
    },
    {
      "cell_type": "code",
      "source": [
        "print('Max: ', t.max(dim=0)[0])\n",
        "print('Argmax: ', t.max(dim=0)[1])"
      ],
      "metadata": {
        "id": "D746RuS9tv5p",
        "colab": {
          "base_uri": "https://localhost:8080/"
        },
        "outputId": "f9e90b20-ce07-4d00-8ef4-1f06f0f0e479"
      },
      "execution_count": 30,
      "outputs": [
        {
          "output_type": "stream",
          "name": "stdout",
          "text": [
            "Max:  tensor([3., 4.])\n",
            "Argmax:  tensor([1, 1])\n"
          ]
        }
      ]
    },
    {
      "cell_type": "markdown",
      "source": [
        "만약 max따로 argmax따로 리턴받고 싶다면 리턴값에 인덱스를 부여하면 된다."
      ],
      "metadata": {
        "id": "0QwqYAxot0fy"
      }
    },
    {
      "cell_type": "code",
      "source": [
        "print(t.max(dim=1)) # 행별 최대값 출력\n",
        "print(t.max(dim=-1))"
      ],
      "metadata": {
        "colab": {
          "base_uri": "https://localhost:8080/"
        },
        "id": "oOaqfBUouOPU",
        "outputId": "d0cd1439-7091-4e8f-e472-ea43231b6172"
      },
      "execution_count": 32,
      "outputs": [
        {
          "output_type": "stream",
          "name": "stdout",
          "text": [
            "torch.return_types.max(\n",
            "values=tensor([2., 4.]),\n",
            "indices=tensor([1, 1]))\n",
            "torch.return_types.max(\n",
            "values=tensor([2., 4.]),\n",
            "indices=tensor([1, 1]))\n"
          ]
        }
      ]
    }
  ]
}