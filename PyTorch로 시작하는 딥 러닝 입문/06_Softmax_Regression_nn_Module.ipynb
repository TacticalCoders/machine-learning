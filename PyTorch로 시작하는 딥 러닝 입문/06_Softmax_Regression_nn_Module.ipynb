{
  "nbformat": 4,
  "nbformat_minor": 0,
  "metadata": {
    "colab": {
      "name": "06_Softmax_Regression_nn_Module.ipynb",
      "provenance": [],
      "collapsed_sections": []
    },
    "kernelspec": {
      "name": "python3",
      "display_name": "Python 3"
    },
    "language_info": {
      "name": "python"
    }
  },
  "cells": [
    {
      "cell_type": "code",
      "execution_count": 11,
      "metadata": {
        "id": "Fagi3sLwSedZ"
      },
      "outputs": [],
      "source": [
        "import torch\n",
        "import torch.nn as nn\n",
        "import torch.nn.functional as F\n",
        "import torch.optim as optim"
      ]
    },
    {
      "cell_type": "code",
      "source": [
        "x_train = [[1, 2, 1, 1],\n",
        "           [2, 1, 3, 2],\n",
        "           [3, 1, 3, 4],\n",
        "           [4, 1, 5, 5],\n",
        "           [1, 7, 5, 5],\n",
        "           [1, 2, 5, 6],\n",
        "           [1, 6, 6, 6],\n",
        "           [1, 7, 7, 7]]\n",
        "y_train = [2, 2, 2, 1, 1, 1, 0, 0]\n",
        "x_train = torch.FloatTensor(x_train)\n",
        "y_train = torch.LongTensor(y_train)"
      ],
      "metadata": {
        "id": "aomlo_TYSp0e"
      },
      "execution_count": 2,
      "outputs": []
    },
    {
      "cell_type": "markdown",
      "source": [
        "소프트맥스 회귀에서 y는 정수 라벨링이 된 벡터일 것이다. \n",
        "\n",
        "여기서는 세 개의 클래스가 각각 0, 1, 2 정수 인덱스가 부여되었다고 가정한다."
      ],
      "metadata": {
        "id": "QtjCt26zS6lV"
      }
    },
    {
      "cell_type": "code",
      "source": [
        "print(x_train.shape)"
      ],
      "metadata": {
        "colab": {
          "base_uri": "https://localhost:8080/"
        },
        "id": "HAeD7Z0FT2Cl",
        "outputId": "80eeb31a-921d-45d9-ecff-230365443dbc"
      },
      "execution_count": 4,
      "outputs": [
        {
          "output_type": "stream",
          "name": "stdout",
          "text": [
            "torch.Size([8, 4])\n"
          ]
        }
      ]
    },
    {
      "cell_type": "code",
      "source": [
        "print(y_train.shape)"
      ],
      "metadata": {
        "colab": {
          "base_uri": "https://localhost:8080/"
        },
        "id": "OhWFvl1YT4Ht",
        "outputId": "62a47e90-c850-4c18-d9cc-9ba08adae063"
      },
      "execution_count": 5,
      "outputs": [
        {
          "output_type": "stream",
          "name": "stdout",
          "text": [
            "torch.Size([8])\n"
          ]
        }
      ]
    },
    {
      "cell_type": "code",
      "source": [
        "y_one_hot = torch.zeros(8,3)\n",
        "y_one_hot.scatter_(1, y_train.unsqueeze(1), 1)"
      ],
      "metadata": {
        "colab": {
          "base_uri": "https://localhost:8080/"
        },
        "id": "USCeg921T-Bk",
        "outputId": "b5619b80-b137-4c35-de16-071007085980"
      },
      "execution_count": 9,
      "outputs": [
        {
          "output_type": "execute_result",
          "data": {
            "text/plain": [
              "tensor([[0., 0., 1.],\n",
              "        [0., 0., 1.],\n",
              "        [0., 0., 1.],\n",
              "        [0., 1., 0.],\n",
              "        [0., 1., 0.],\n",
              "        [0., 1., 0.],\n",
              "        [1., 0., 0.],\n",
              "        [1., 0., 0.]])"
            ]
          },
          "metadata": {},
          "execution_count": 9
        }
      ]
    },
    {
      "cell_type": "markdown",
      "source": [
        "소프트맥스에서 target은 원-핫벡터이다. 왜냐하면 모델의 마지막 출력은 각 클래스에 속할 확률이기 때문이다. 따라서 정답은 해당 클래스일 확률이 1인 경우이므로 정답 클래스만 1이고 나머지는 0인 원-핫 벡터를 만들어줘야 한다.\n",
        "\n",
        "unsqueeze는 크기가 1인 차원을 생성해주는 것이다.\n",
        "\n",
        "unsqueeze함수에 인자로 들어가는 값은 차원이 생성될 위치이다. \n",
        "\n",
        "위의 예시에서 현재 y_train은 torch.Size([8])의 1차원 텐서이다. 이를 이차원 텐서로 만들어주는데 1의 위치, 즉 열의 위치에 차원을 추가하겠다는 뜻이다. 따라서 unsqueeze를 하면 [8,1] 크기가 될 것이다.\n",
        "\n",
        "scatter_는 말 그대로 특정 값을 텐서에 흩뿌려준다. 첫 번째 매개변수는 dim즉, 어느 차원을 기준으로 할 것인가, 두 번째는 index로 어느 위치에 값을 지정할지, 세 번째는 src로 어떤 값을 넣을지를 의미한다."
      ],
      "metadata": {
        "id": "e3Im4PoWUdWF"
      }
    },
    {
      "cell_type": "code",
      "source": [
        "class SoftmaxClassifier(nn.Module):\n",
        "  def __init__(self):\n",
        "    super().__init__()\n",
        "    self.linear = nn.Linear(4, 3)\n",
        "\n",
        "  def forward(self, x):\n",
        "    return self.linear(x)"
      ],
      "metadata": {
        "id": "AmqGSltxURSC"
      },
      "execution_count": 13,
      "outputs": []
    },
    {
      "cell_type": "code",
      "source": [
        "model = SoftmaxClassifier()"
      ],
      "metadata": {
        "id": "fum-LPZ-UafS"
      },
      "execution_count": 14,
      "outputs": []
    },
    {
      "cell_type": "code",
      "source": [
        "optimizer = optim.SGD(model.parameters(), lr=0.1)\n",
        "\n",
        "nb_epochs = 1000\n",
        "\n",
        "for epoch in range(nb_epochs + 1):\n",
        "\n",
        "  prediction = model(x_train)\n",
        "\n",
        "  cost = F.cross_entropy(prediction, y_train)\n",
        "\n",
        "  optimizer.zero_grad()\n",
        "  cost.backward()\n",
        "  optimizer.step()\n",
        "\n",
        "  if epoch % 100 == 0:\n",
        "    print('Epoch {:4d}/{} Cost: {:.6f}'.format(\n",
        "        epoch, nb_epochs, cost.item()\n",
        "    ))"
      ],
      "metadata": {
        "colab": {
          "base_uri": "https://localhost:8080/"
        },
        "id": "mVAccQRGZzTV",
        "outputId": "07c34d0a-1e61-4a2d-e7de-d6f968a5c8df"
      },
      "execution_count": 15,
      "outputs": [
        {
          "output_type": "stream",
          "name": "stdout",
          "text": [
            "Epoch    0/1000 Cost: 2.022202\n",
            "Epoch  100/1000 Cost: 0.672347\n",
            "Epoch  200/1000 Cost: 0.579019\n",
            "Epoch  300/1000 Cost: 0.521621\n",
            "Epoch  400/1000 Cost: 0.475899\n",
            "Epoch  500/1000 Cost: 0.435727\n",
            "Epoch  600/1000 Cost: 0.398518\n",
            "Epoch  700/1000 Cost: 0.362696\n",
            "Epoch  800/1000 Cost: 0.327053\n",
            "Epoch  900/1000 Cost: 0.290750\n",
            "Epoch 1000/1000 Cost: 0.255535\n"
          ]
        }
      ]
    }
  ]
}