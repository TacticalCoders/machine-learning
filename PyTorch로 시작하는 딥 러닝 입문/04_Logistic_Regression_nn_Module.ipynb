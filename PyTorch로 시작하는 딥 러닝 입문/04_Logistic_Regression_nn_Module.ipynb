{
  "nbformat": 4,
  "nbformat_minor": 0,
  "metadata": {
    "colab": {
      "name": "04_Logistic_Regression_nn_Module.ipynb",
      "provenance": []
    },
    "kernelspec": {
      "name": "python3",
      "display_name": "Python 3"
    },
    "language_info": {
      "name": "python"
    }
  },
  "cells": [
    {
      "cell_type": "code",
      "execution_count": 19,
      "metadata": {
        "id": "TJeZTi_CEAor"
      },
      "outputs": [],
      "source": [
        "import torch\n",
        "import torch.nn as nn\n",
        "import torch.nn.functional as F\n",
        "import torch.optim as optim"
      ]
    },
    {
      "cell_type": "code",
      "source": [
        "x_data = [[1, 2], [2, 3], [3, 1], [4, 3], [5, 3], [6, 2]]\n",
        "y_data = [[0], [0], [0], [1], [1], [1]]\n",
        "x_train = torch.FloatTensor(x_data)\n",
        "y_train = torch.FloatTensor(y_data)"
      ],
      "metadata": {
        "id": "2sAbRRA9Er9M"
      },
      "execution_count": 20,
      "outputs": []
    },
    {
      "cell_type": "code",
      "source": [
        "# 모델\n",
        "class BinaryClassifier(nn.Module):\n",
        "  def __init__(self):\n",
        "    super().__init__()\n",
        "    self.linear = nn.Linear(2,1)\n",
        "    self.sigmoid = nn.Sigmoid()\n",
        "  \n",
        "  def forward(self, x):\n",
        "    return self.sigmoid(self.linear(x))"
      ],
      "metadata": {
        "id": "k1rM8TiZE4qr"
      },
      "execution_count": 21,
      "outputs": []
    },
    {
      "cell_type": "code",
      "source": [
        "model = BinaryClassifier()"
      ],
      "metadata": {
        "id": "FMnJ81kbFZZ8"
      },
      "execution_count": 22,
      "outputs": []
    },
    {
      "cell_type": "code",
      "source": [
        "optimizer = optim.SGD(model.parameters(), lr=1) # 옵티마이저 설정"
      ],
      "metadata": {
        "id": "cIyZOh0lFg3M"
      },
      "execution_count": 23,
      "outputs": []
    },
    {
      "cell_type": "code",
      "source": [
        "nb_epochs = 1000\n",
        "\n",
        "for epoch in range(1, nb_epochs + 1):\n",
        "\n",
        "  hypothesis = model(x_train) # 데이터와 함께 모델을 호출하면 forward() 실행됨 --> 랜덤으로 초기화된 가중치로 계산값 출력\n",
        "\n",
        "  cost = F.binary_cross_entropy(hypothesis, y_train) # 이진 크로스 엔트로피로 손실계산\n",
        "\n",
        "  optimizer.zero_grad()\n",
        "  cost.backward() # 각 매개변수에 그레디언트 값 저장\n",
        "  optimizer.step() # 가중치 갱신\n",
        "\n",
        "  if epoch % 10 == 0:\n",
        "    prediction = hypothesis >= torch.FloatTensor([0.5])\n",
        "    correct_prediction = prediction.float() == y_train\n",
        "    accuracy = correct_prediction.sum().item() / len(correct_prediction) # 6개의 배치에서 올바로 예측한 확률. item은 텐서에서 값만 가져올 때 사용.\n",
        "    print('Epoch {:4d}/{} Cost: {:.6f} Accuracy {:2.2f}%'.format(epoch, nb_epochs, cost.item(), accuracy *100))"
      ],
      "metadata": {
        "colab": {
          "base_uri": "https://localhost:8080/"
        },
        "id": "EDNlIHvTFu5v",
        "outputId": "088f07e8-2cd4-4aca-ddc0-f20b161f4b92"
      },
      "execution_count": 24,
      "outputs": [
        {
          "output_type": "stream",
          "name": "stdout",
          "text": [
            "Epoch   10/1000 Cost: 0.672841 Accuracy 83.33%\n",
            "Epoch   20/1000 Cost: 0.675174 Accuracy 83.33%\n",
            "Epoch   30/1000 Cost: 0.555805 Accuracy 83.33%\n",
            "Epoch   40/1000 Cost: 0.466793 Accuracy 83.33%\n",
            "Epoch   50/1000 Cost: 0.382037 Accuracy 83.33%\n",
            "Epoch   60/1000 Cost: 0.301802 Accuracy 83.33%\n",
            "Epoch   70/1000 Cost: 0.230883 Accuracy 83.33%\n",
            "Epoch   80/1000 Cost: 0.179861 Accuracy 100.00%\n",
            "Epoch   90/1000 Cost: 0.154498 Accuracy 100.00%\n",
            "Epoch  100/1000 Cost: 0.142208 Accuracy 100.00%\n",
            "Epoch  110/1000 Cost: 0.132665 Accuracy 100.00%\n",
            "Epoch  120/1000 Cost: 0.124362 Accuracy 100.00%\n",
            "Epoch  130/1000 Cost: 0.117055 Accuracy 100.00%\n",
            "Epoch  140/1000 Cost: 0.110575 Accuracy 100.00%\n",
            "Epoch  150/1000 Cost: 0.104789 Accuracy 100.00%\n",
            "Epoch  160/1000 Cost: 0.099592 Accuracy 100.00%\n",
            "Epoch  170/1000 Cost: 0.094897 Accuracy 100.00%\n",
            "Epoch  180/1000 Cost: 0.090636 Accuracy 100.00%\n",
            "Epoch  190/1000 Cost: 0.086749 Accuracy 100.00%\n",
            "Epoch  200/1000 Cost: 0.083191 Accuracy 100.00%\n",
            "Epoch  210/1000 Cost: 0.079920 Accuracy 100.00%\n",
            "Epoch  220/1000 Cost: 0.076903 Accuracy 100.00%\n",
            "Epoch  230/1000 Cost: 0.074111 Accuracy 100.00%\n",
            "Epoch  240/1000 Cost: 0.071519 Accuracy 100.00%\n",
            "Epoch  250/1000 Cost: 0.069107 Accuracy 100.00%\n",
            "Epoch  260/1000 Cost: 0.066856 Accuracy 100.00%\n",
            "Epoch  270/1000 Cost: 0.064751 Accuracy 100.00%\n",
            "Epoch  280/1000 Cost: 0.062778 Accuracy 100.00%\n",
            "Epoch  290/1000 Cost: 0.060924 Accuracy 100.00%\n",
            "Epoch  300/1000 Cost: 0.059178 Accuracy 100.00%\n",
            "Epoch  310/1000 Cost: 0.057533 Accuracy 100.00%\n",
            "Epoch  320/1000 Cost: 0.055978 Accuracy 100.00%\n",
            "Epoch  330/1000 Cost: 0.054507 Accuracy 100.00%\n",
            "Epoch  340/1000 Cost: 0.053113 Accuracy 100.00%\n",
            "Epoch  350/1000 Cost: 0.051790 Accuracy 100.00%\n",
            "Epoch  360/1000 Cost: 0.050533 Accuracy 100.00%\n",
            "Epoch  370/1000 Cost: 0.049336 Accuracy 100.00%\n",
            "Epoch  380/1000 Cost: 0.048196 Accuracy 100.00%\n",
            "Epoch  390/1000 Cost: 0.047108 Accuracy 100.00%\n",
            "Epoch  400/1000 Cost: 0.046070 Accuracy 100.00%\n",
            "Epoch  410/1000 Cost: 0.045077 Accuracy 100.00%\n",
            "Epoch  420/1000 Cost: 0.044127 Accuracy 100.00%\n",
            "Epoch  430/1000 Cost: 0.043216 Accuracy 100.00%\n",
            "Epoch  440/1000 Cost: 0.042344 Accuracy 100.00%\n",
            "Epoch  450/1000 Cost: 0.041506 Accuracy 100.00%\n",
            "Epoch  460/1000 Cost: 0.040701 Accuracy 100.00%\n",
            "Epoch  470/1000 Cost: 0.039928 Accuracy 100.00%\n",
            "Epoch  480/1000 Cost: 0.039184 Accuracy 100.00%\n",
            "Epoch  490/1000 Cost: 0.038467 Accuracy 100.00%\n",
            "Epoch  500/1000 Cost: 0.037777 Accuracy 100.00%\n",
            "Epoch  510/1000 Cost: 0.037111 Accuracy 100.00%\n",
            "Epoch  520/1000 Cost: 0.036469 Accuracy 100.00%\n",
            "Epoch  530/1000 Cost: 0.035849 Accuracy 100.00%\n",
            "Epoch  540/1000 Cost: 0.035250 Accuracy 100.00%\n",
            "Epoch  550/1000 Cost: 0.034671 Accuracy 100.00%\n",
            "Epoch  560/1000 Cost: 0.034111 Accuracy 100.00%\n",
            "Epoch  570/1000 Cost: 0.033569 Accuracy 100.00%\n",
            "Epoch  580/1000 Cost: 0.033044 Accuracy 100.00%\n",
            "Epoch  590/1000 Cost: 0.032535 Accuracy 100.00%\n",
            "Epoch  600/1000 Cost: 0.032043 Accuracy 100.00%\n",
            "Epoch  610/1000 Cost: 0.031565 Accuracy 100.00%\n",
            "Epoch  620/1000 Cost: 0.031101 Accuracy 100.00%\n",
            "Epoch  630/1000 Cost: 0.030651 Accuracy 100.00%\n",
            "Epoch  640/1000 Cost: 0.030214 Accuracy 100.00%\n",
            "Epoch  650/1000 Cost: 0.029789 Accuracy 100.00%\n",
            "Epoch  660/1000 Cost: 0.029376 Accuracy 100.00%\n",
            "Epoch  670/1000 Cost: 0.028975 Accuracy 100.00%\n",
            "Epoch  680/1000 Cost: 0.028584 Accuracy 100.00%\n",
            "Epoch  690/1000 Cost: 0.028205 Accuracy 100.00%\n",
            "Epoch  700/1000 Cost: 0.027835 Accuracy 100.00%\n",
            "Epoch  710/1000 Cost: 0.027475 Accuracy 100.00%\n",
            "Epoch  720/1000 Cost: 0.027124 Accuracy 100.00%\n",
            "Epoch  730/1000 Cost: 0.026782 Accuracy 100.00%\n",
            "Epoch  740/1000 Cost: 0.026448 Accuracy 100.00%\n",
            "Epoch  750/1000 Cost: 0.026123 Accuracy 100.00%\n",
            "Epoch  760/1000 Cost: 0.025806 Accuracy 100.00%\n",
            "Epoch  770/1000 Cost: 0.025497 Accuracy 100.00%\n",
            "Epoch  780/1000 Cost: 0.025195 Accuracy 100.00%\n",
            "Epoch  790/1000 Cost: 0.024900 Accuracy 100.00%\n",
            "Epoch  800/1000 Cost: 0.024612 Accuracy 100.00%\n",
            "Epoch  810/1000 Cost: 0.024331 Accuracy 100.00%\n",
            "Epoch  820/1000 Cost: 0.024056 Accuracy 100.00%\n",
            "Epoch  830/1000 Cost: 0.023787 Accuracy 100.00%\n",
            "Epoch  840/1000 Cost: 0.023524 Accuracy 100.00%\n",
            "Epoch  850/1000 Cost: 0.023267 Accuracy 100.00%\n",
            "Epoch  860/1000 Cost: 0.023016 Accuracy 100.00%\n",
            "Epoch  870/1000 Cost: 0.022770 Accuracy 100.00%\n",
            "Epoch  880/1000 Cost: 0.022529 Accuracy 100.00%\n",
            "Epoch  890/1000 Cost: 0.022294 Accuracy 100.00%\n",
            "Epoch  900/1000 Cost: 0.022063 Accuracy 100.00%\n",
            "Epoch  910/1000 Cost: 0.021837 Accuracy 100.00%\n",
            "Epoch  920/1000 Cost: 0.021616 Accuracy 100.00%\n",
            "Epoch  930/1000 Cost: 0.021399 Accuracy 100.00%\n",
            "Epoch  940/1000 Cost: 0.021186 Accuracy 100.00%\n",
            "Epoch  950/1000 Cost: 0.020978 Accuracy 100.00%\n",
            "Epoch  960/1000 Cost: 0.020774 Accuracy 100.00%\n",
            "Epoch  970/1000 Cost: 0.020574 Accuracy 100.00%\n",
            "Epoch  980/1000 Cost: 0.020377 Accuracy 100.00%\n",
            "Epoch  990/1000 Cost: 0.020185 Accuracy 100.00%\n",
            "Epoch 1000/1000 Cost: 0.019996 Accuracy 100.00%\n"
          ]
        }
      ]
    }
  ]
}