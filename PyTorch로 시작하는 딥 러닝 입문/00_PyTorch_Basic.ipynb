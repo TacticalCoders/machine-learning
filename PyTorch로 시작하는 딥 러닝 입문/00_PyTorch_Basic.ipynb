{
  "nbformat": 4,
  "nbformat_minor": 0,
  "metadata": {
    "colab": {
      "name": "PyTorch_Basic.ipynb",
      "provenance": [],
      "collapsed_sections": [],
      "toc_visible": true
    },
    "kernelspec": {
      "name": "python3",
      "display_name": "Python 3"
    },
    "language_info": {
      "name": "python"
    }
  },
  "cells": [
    {
      "cell_type": "markdown",
      "source": [
        "# **파이토치 기초**"
      ],
      "metadata": {
        "id": "rmfQLWyoWgAn"
      }
    },
    {
      "cell_type": "markdown",
      "source": [
        "## 파이토치 패키지의 기본 구성"
      ],
      "metadata": {
        "id": "UVcCvopZWwz_"
      }
    },
    {
      "cell_type": "markdown",
      "source": [
        "### **torch**\n",
        "---\n",
        "메인 네임스페이스. 텐서 등의 다양한 수학 함수가 포함되어 있으며 Numpy와 유사한 구조를 가진다."
      ],
      "metadata": {
        "id": "a_KXP3FCWzW5"
      }
    },
    {
      "cell_type": "markdown",
      "source": [
        "### **torch.autograd**\n",
        "---\n",
        "자동 미분을 위한 함수들의 포함되어 있다. \n",
        "\n",
        "자동 미분의 on/off를 제어하는 콘텍스트 매니저나(enable_grad/no_grad)나 자체 미분 가능 함수를 정의할 때 사용하는 기반 클래스 'Function'등이 포함되어 있다."
      ],
      "metadata": {
        "id": "hxH4DiJjXrGs"
      }
    },
    {
      "cell_type": "markdown",
      "source": [
        "### **torch.nn**\n",
        "---\n",
        "신경망을 구축하기 위한 다양한 데이터 구조나 레이어 등이 정의되어 있다. RNN, LSTM 같은 **레이어**, ReLu와 같은 **활성화 함수**, MSELoss와 같은 **손실 함수**들이 있다.\n"
      ],
      "metadata": {
        "id": "eHXr2S1xYF0I"
      }
    },
    {
      "cell_type": "markdown",
      "source": [
        "### **torch.optim**\n",
        "---\n",
        "확률적 경사 하강법(Stochastic Gradient Descent, SGD)를 중심으로 한 파라미터 최적화 알고리즘이 구현되어 있다."
      ],
      "metadata": {
        "id": "U9cIazr-YdOP"
      }
    },
    {
      "cell_type": "markdown",
      "source": [
        "### torch.utils.data\n",
        "---\n",
        "SGD의 반복 연산을 실행할 대 사용하는 미니 배치용 유틸리티 함수가 포함되어 있다."
      ],
      "metadata": {
        "id": "Onii8h-VYkQI"
      }
    },
    {
      "cell_type": "markdown",
      "source": [
        "### torch.onnx\n",
        "---\n",
        "ONNX(Open Neural Network Exchange)의 포맷으로 모델을 **익스포트(export)**할 때 사용한다. ONNX는 서로 다른 딥 러닝 프레임워크 간에 **모델을 공유**할 때 사용하는 포맷."
      ],
      "metadata": {
        "id": "jY6nh0MRYz__"
      }
    },
    {
      "cell_type": "markdown",
      "source": [
        "## 텐서 조작하기"
      ],
      "metadata": {
        "id": "n1UM-4lVY9Vn"
      }
    },
    {
      "cell_type": "code",
      "source": [
        "import torch"
      ],
      "metadata": {
        "id": "HXPuww5YaNAR"
      },
      "execution_count": 2,
      "outputs": []
    },
    {
      "cell_type": "markdown",
      "source": [
        "### 1D"
      ],
      "metadata": {
        "id": "4nMOhZWhaZqh"
      }
    },
    {
      "cell_type": "code",
      "source": [
        "t = torch.FloatTensor([0., 1., 2., 3., 4., 5., 6.])\n",
        "print(t)"
      ],
      "metadata": {
        "colab": {
          "base_uri": "https://localhost:8080/"
        },
        "id": "UeYfZhDhai_Y",
        "outputId": "d71eaa67-d9d1-4b15-c9db-4b2edc036ec9"
      },
      "execution_count": 3,
      "outputs": [
        {
          "output_type": "stream",
          "name": "stdout",
          "text": [
            "tensor([0., 1., 2., 3., 4., 5., 6.])\n"
          ]
        }
      ]
    },
    {
      "cell_type": "code",
      "source": [
        "print(t.dim())\n",
        "print(t.shape)\n",
        "print(t.size())"
      ],
      "metadata": {
        "colab": {
          "base_uri": "https://localhost:8080/"
        },
        "id": "YWFcV_Mua9x0",
        "outputId": "b05698a7-929b-4bb3-d04b-b9a8ff1cf07c"
      },
      "execution_count": 4,
      "outputs": [
        {
          "output_type": "stream",
          "name": "stdout",
          "text": [
            "1\n",
            "torch.Size([7])\n",
            "torch.Size([7])\n"
          ]
        }
      ]
    },
    {
      "cell_type": "code",
      "source": [
        "print(t[0], t[1], t[-1])\n",
        "print(t[2:5], t[4:-1])\n",
        "print(t[:2], t[3:])"
      ],
      "metadata": {
        "colab": {
          "base_uri": "https://localhost:8080/"
        },
        "id": "h8hrVa2FcR6Z",
        "outputId": "b1533582-7967-4cb9-d4f0-1dc9cab5af97"
      },
      "execution_count": 5,
      "outputs": [
        {
          "output_type": "stream",
          "name": "stdout",
          "text": [
            "tensor(0.) tensor(1.) tensor(6.)\n",
            "tensor([2., 3., 4.]) tensor([4., 5.])\n",
            "tensor([0., 1.]) tensor([3., 4., 5., 6.])\n"
          ]
        }
      ]
    },
    {
      "cell_type": "markdown",
      "source": [
        "### 2D"
      ],
      "metadata": {
        "id": "5aBIDcdddhWe"
      }
    },
    {
      "cell_type": "code",
      "source": [
        "t = torch.FloatTensor([[1., 2., 3.],\n",
        "                       [4., 5., 6.],\n",
        "                       [7., 8., 9.],\n",
        "                       [10., 11., 12.]\n",
        "                       ])\n",
        "print(t)"
      ],
      "metadata": {
        "colab": {
          "base_uri": "https://localhost:8080/"
        },
        "id": "cTO-C6xIi2SQ",
        "outputId": "fc3df92f-c222-4d28-8031-5fc4ad829459"
      },
      "execution_count": 6,
      "outputs": [
        {
          "output_type": "stream",
          "name": "stdout",
          "text": [
            "tensor([[ 1.,  2.,  3.],\n",
            "        [ 4.,  5.,  6.],\n",
            "        [ 7.,  8.,  9.],\n",
            "        [10., 11., 12.]])\n"
          ]
        }
      ]
    },
    {
      "cell_type": "code",
      "source": [
        "print(t.dim())\n",
        "print(t.size())"
      ],
      "metadata": {
        "colab": {
          "base_uri": "https://localhost:8080/"
        },
        "id": "vdDlPyB3jNXB",
        "outputId": "e4048d88-9d8d-46fa-e572-916796372757"
      },
      "execution_count": 7,
      "outputs": [
        {
          "output_type": "stream",
          "name": "stdout",
          "text": [
            "2\n",
            "torch.Size([4, 3])\n"
          ]
        }
      ]
    },
    {
      "cell_type": "code",
      "source": [
        "print(t[:, 1])\n",
        "print(t[:, 1].size())"
      ],
      "metadata": {
        "colab": {
          "base_uri": "https://localhost:8080/"
        },
        "id": "gwDYk0HrjZXR",
        "outputId": "fe12c115-06ff-47b4-e806-454051a60c89"
      },
      "execution_count": 8,
      "outputs": [
        {
          "output_type": "stream",
          "name": "stdout",
          "text": [
            "tensor([ 2.,  5.,  8., 11.])\n",
            "torch.Size([4])\n"
          ]
        }
      ]
    },
    {
      "cell_type": "code",
      "source": [
        "print(t[:, :-1])"
      ],
      "metadata": {
        "colab": {
          "base_uri": "https://localhost:8080/"
        },
        "id": "Xnh4jI0jjm9g",
        "outputId": "d40bf137-d81a-41ba-f736-b066451f10e9"
      },
      "execution_count": 9,
      "outputs": [
        {
          "output_type": "stream",
          "name": "stdout",
          "text": [
            "tensor([[ 1.,  2.],\n",
            "        [ 4.,  5.],\n",
            "        [ 7.,  8.],\n",
            "        [10., 11.]])\n"
          ]
        }
      ]
    },
    {
      "cell_type": "code",
      "source": [
        "print(t[:-1, :])"
      ],
      "metadata": {
        "colab": {
          "base_uri": "https://localhost:8080/"
        },
        "id": "p_sbK3DQj8lY",
        "outputId": "fd0742ef-63d1-4c57-d285-bc0551d507f7"
      },
      "execution_count": 10,
      "outputs": [
        {
          "output_type": "stream",
          "name": "stdout",
          "text": [
            "tensor([[1., 2., 3.],\n",
            "        [4., 5., 6.],\n",
            "        [7., 8., 9.]])\n"
          ]
        }
      ]
    },
    {
      "cell_type": "code",
      "source": [
        "print(t[:-1, :-1])"
      ],
      "metadata": {
        "colab": {
          "base_uri": "https://localhost:8080/"
        },
        "id": "kJp1ud3zkA-w",
        "outputId": "c288f34c-d5bf-4029-b6f3-bed9d9d5f717"
      },
      "execution_count": 11,
      "outputs": [
        {
          "output_type": "stream",
          "name": "stdout",
          "text": [
            "tensor([[1., 2.],\n",
            "        [4., 5.],\n",
            "        [7., 8.]])\n"
          ]
        }
      ]
    },
    {
      "cell_type": "markdown",
      "source": [
        "### 브로드캐스팅(Broadcasting)\n",
        "\n",
        "두 행렬 A, B의 덧셈과 뺄셈을 위해선 **행렬 A,B의 크기가 같아야** 한다는 조건이 있다. \n",
        "\n",
        "그리고 두 행렬이 곱셈을 할 때에는 **A의 열과 B의 행 차원**이 일치해야 한다는 조건도 있다.\n",
        "\n",
        "하지만 딥러닝을 하다보면 불가피하게 크기가 다른 행렬(혹은 텐서)에 대해 사칙 연산을 수행해야 하는 경우가 생긴다. 파이토치에서는 자동으로 크기를 맞춰서 연산을 수행하게 만드는 **브토드캐스팅** 기능을 제공한다."
      ],
      "metadata": {
        "id": "oaPwdgZSkGT4"
      }
    },
    {
      "cell_type": "code",
      "source": [
        "m1 = torch.FloatTensor([[3, 3]])\n",
        "m2 = torch.FloatTensor([[2, 2]])\n",
        "print(m1 + m2)"
      ],
      "metadata": {
        "colab": {
          "base_uri": "https://localhost:8080/"
        },
        "id": "bSuJQJtSkMwI",
        "outputId": "17a14169-a119-4d54-f15b-8e8c248ceede"
      },
      "execution_count": 12,
      "outputs": [
        {
          "output_type": "stream",
          "name": "stdout",
          "text": [
            "tensor([[5., 5.]])\n"
          ]
        }
      ]
    },
    {
      "cell_type": "markdown",
      "source": [
        "1행 2열의 같은 크기의 행렬이기 때문에 문제 없이 덧셈 연산이 가능하다."
      ],
      "metadata": {
        "id": "e-ZEO7ColVLB"
      }
    },
    {
      "cell_type": "code",
      "source": [
        "m1 = torch.FloatTensor([[1, 2]])\n",
        "m2 = torch.FloatTensor([3]) # [3] -> [3, 3]\n",
        "print(m1 + m2)"
      ],
      "metadata": {
        "colab": {
          "base_uri": "https://localhost:8080/"
        },
        "id": "yG2wrQqrlbSh",
        "outputId": "ea906b38-1c87-48a7-8ebb-08c91636c287"
      },
      "execution_count": 13,
      "outputs": [
        {
          "output_type": "stream",
          "name": "stdout",
          "text": [
            "tensor([[4., 5.]])\n"
          ]
        }
      ]
    },
    {
      "cell_type": "markdown",
      "source": [
        "원칙적으로는 (1,2)와 (1,)의 크기가 달라 덧셈이 불가능하지만 파이토치는 m2롤 동일한 크기로 변경하여 연산을 수행한다. "
      ],
      "metadata": {
        "id": "TDT_mbYSlgDx"
      }
    },
    {
      "cell_type": "code",
      "source": [
        "# 2 x 1 Vector + 1 x 2 Vector\n",
        "m1 = torch.FloatTensor([[1, 2]])\n",
        "m2 = torch.FloatTensor([[3], [4]])\n",
        "print(m1 + m2)"
      ],
      "metadata": {
        "colab": {
          "base_uri": "https://localhost:8080/"
        },
        "id": "lJ0nkM9emBLx",
        "outputId": "046002b3-47e6-4b29-817b-aa17b5a3dd0a"
      },
      "execution_count": 14,
      "outputs": [
        {
          "output_type": "stream",
          "name": "stdout",
          "text": [
            "tensor([[4., 5.],\n",
            "        [5., 6.]])\n"
          ]
        }
      ]
    },
    {
      "cell_type": "markdown",
      "source": [
        "[1, 2]\n",
        "==> [[1, 2],\n",
        "     [1, 2]]\n",
        "\n",
        "[3]\n",
        "[4]\n",
        "==> [[3, 3],\n",
        "     [4, 4]]\n",
        "\n",
        "파이토치는 위처럼 자동으로 브로드캐스팅하여 연산을 수행한다.\n",
        "\n",
        "이는 편리한 기능이지만 자동으로 실행되는 기능인 만큼 사용자 입장에서 굉장히 주의해서 사용해야 한다. 크기가 다른 텐서를 크기가 같다고 착각하여 덧셈을 하게 되면 나중에 원하지 않는 결과가 나와도 어디서 문제가 발생했는지 찾기 굉장히 어려울 수 있다."
      ],
      "metadata": {
        "id": "ixEABczlmJup"
      }
    },
    {
      "cell_type": "markdown",
      "source": [
        "### 자주 사용되는 기능"
      ],
      "metadata": {
        "id": "nyPoF4gjmqJw"
      }
    },
    {
      "cell_type": "markdown",
      "source": [
        "#### 행렬 곱셈과 원소별 곱셈(Matrix Multiplication Vs. Multiplication)\n",
        "*   행렬곱셈(.matmul)\n",
        "*   원소 별 곱셈(.mul) = element-wise 곱셈\n"
      ],
      "metadata": {
        "id": "FoJ5wOsVouW5"
      }
    },
    {
      "cell_type": "code",
      "source": [
        "# 행렬곱셈 .matmul\n",
        "m1 = torch.FloatTensor([[1, 2], [3, 4]])\n",
        "m2 = torch.FloatTensor([[1], [2]])\n",
        "print('Shape of Matrix 1: ', m1.shape) # 2 x 2\n",
        "print('Shape of Matrix 2: ', m2.shape) # 2 x 1\n",
        "print(m1.matmul(m2)) # 2 x 1"
      ],
      "metadata": {
        "colab": {
          "base_uri": "https://localhost:8080/"
        },
        "id": "0twXUmWSpHPa",
        "outputId": "fd93397d-ca7e-4eb9-8d09-2518148dc294"
      },
      "execution_count": 15,
      "outputs": [
        {
          "output_type": "stream",
          "name": "stdout",
          "text": [
            "Shape of Matrix 1:  torch.Size([2, 2])\n",
            "Shape of Matrix 2:  torch.Size([2, 1])\n",
            "tensor([[ 5.],\n",
            "        [11.]])\n"
          ]
        }
      ]
    },
    {
      "cell_type": "code",
      "source": [
        "# 원소별 곱셈\n",
        "m1 = torch.FloatTensor([[1, 2], [3, 4]])\n",
        "m2 = torch.FloatTensor([[1], [2]])\n",
        "print('Shape of Matrix 1: ', m1.shape) # 2 x 2\n",
        "print('Shape of Matrix 2: ', m2.shape) # 2 x 1\n",
        "print(m1 * m2) # 2 x 2\n",
        "print(m1.mul(m2))"
      ],
      "metadata": {
        "colab": {
          "base_uri": "https://localhost:8080/"
        },
        "id": "L4UIzbjFpVoh",
        "outputId": "f6aa0fec-57c1-413c-a78d-3f5d6e52beb1"
      },
      "execution_count": 16,
      "outputs": [
        {
          "output_type": "stream",
          "name": "stdout",
          "text": [
            "Shape of Matrix 1:  torch.Size([2, 2])\n",
            "Shape of Matrix 2:  torch.Size([2, 1])\n",
            "tensor([[1., 2.],\n",
            "        [6., 8.]])\n",
            "tensor([[1., 2.],\n",
            "        [6., 8.]])\n"
          ]
        }
      ]
    },
    {
      "cell_type": "markdown",
      "source": [
        "[1]\n",
        "\n",
        "[2]\n",
        "\n",
        "==>\n",
        " [[1, 1],\n",
        "  [2, 2]]\n",
        "\n",
        "  로 브로드캐스팅되어 각 원소별로 곱셈이 수행된 것을 확인할 수 있다."
      ],
      "metadata": {
        "id": "ubrKPEioqFRb"
      }
    },
    {
      "cell_type": "markdown",
      "source": [
        "#### 평균(Mean)"
      ],
      "metadata": {
        "id": "jJSrRb7sqcr5"
      }
    },
    {
      "cell_type": "code",
      "source": [
        "t = torch.FloatTensor([1, 2])\n",
        "print(t.mean())"
      ],
      "metadata": {
        "colab": {
          "base_uri": "https://localhost:8080/"
        },
        "id": "evt1yeZ9qs-y",
        "outputId": "46d481ee-41c0-4b4a-b5d0-a1d10fe8e1bf"
      },
      "execution_count": 17,
      "outputs": [
        {
          "output_type": "stream",
          "name": "stdout",
          "text": [
            "tensor(1.5000)\n"
          ]
        }
      ]
    },
    {
      "cell_type": "code",
      "source": [
        "t = torch.FloatTensor([[1, 2], [3, 4]])\n",
        "print(t)"
      ],
      "metadata": {
        "colab": {
          "base_uri": "https://localhost:8080/"
        },
        "id": "gp4QQpIPqu1y",
        "outputId": "03c8bf18-e54b-4015-e798-b0daf5422eac"
      },
      "execution_count": 18,
      "outputs": [
        {
          "output_type": "stream",
          "name": "stdout",
          "text": [
            "tensor([[1., 2.],\n",
            "        [3., 4.]])\n"
          ]
        }
      ]
    },
    {
      "cell_type": "code",
      "source": [
        "print(t.mean())"
      ],
      "metadata": {
        "colab": {
          "base_uri": "https://localhost:8080/"
        },
        "id": "YXK7t6tHqxEK",
        "outputId": "0be81e1d-8cd4-490e-b9e4-8763d669658d"
      },
      "execution_count": 19,
      "outputs": [
        {
          "output_type": "stream",
          "name": "stdout",
          "text": [
            "tensor(2.5000)\n"
          ]
        }
      ]
    },
    {
      "cell_type": "markdown",
      "source": [
        "4개의 원소 평균이 출력됨을 확인할 수 있다."
      ],
      "metadata": {
        "id": "hjCC4Zm_qyY6"
      }
    },
    {
      "cell_type": "code",
      "source": [
        "# 첫 번째 차원(행) 평균\n",
        "print(t.mean(dim=0))"
      ],
      "metadata": {
        "colab": {
          "base_uri": "https://localhost:8080/"
        },
        "id": "fSQaUSG_q9Pp",
        "outputId": "15448aac-a97e-40c9-d0bf-8eb7fb14c5f7"
      },
      "execution_count": 20,
      "outputs": [
        {
          "output_type": "stream",
          "name": "stdout",
          "text": [
            "tensor([2., 3.])\n"
          ]
        }
      ]
    },
    {
      "cell_type": "markdown",
      "source": [
        "dim은 해당 차원을 제거한다는 의미가 된다. 따라서 행이 제게되고 열끼리 평균을 계산한다는 뜻."
      ],
      "metadata": {
        "id": "RofppwVArDJG"
      }
    },
    {
      "cell_type": "code",
      "source": [
        "print(t.mean(dim=1))"
      ],
      "metadata": {
        "colab": {
          "base_uri": "https://localhost:8080/"
        },
        "id": "onEidxE7rcOR",
        "outputId": "b698cfa5-c303-4a83-97ba-19123c0bbd01"
      },
      "execution_count": 21,
      "outputs": [
        {
          "output_type": "stream",
          "name": "stdout",
          "text": [
            "tensor([1.5000, 3.5000])\n"
          ]
        }
      ]
    },
    {
      "cell_type": "code",
      "source": [
        "print(t.mean(dim=-1)) # -1은 마지막을 의미 -> 열을 제거"
      ],
      "metadata": {
        "colab": {
          "base_uri": "https://localhost:8080/"
        },
        "id": "WOnqx2oSrliZ",
        "outputId": "7b3e5f6b-7120-456a-f8be-76d0022a7933"
      },
      "execution_count": 22,
      "outputs": [
        {
          "output_type": "stream",
          "name": "stdout",
          "text": [
            "tensor([1.5000, 3.5000])\n"
          ]
        }
      ]
    },
    {
      "cell_type": "markdown",
      "source": [
        "#### 덧셈(sum)"
      ],
      "metadata": {
        "id": "mpSzD4MnsUe6"
      }
    },
    {
      "cell_type": "code",
      "source": [
        "t = torch.FloatTensor([[1, 2], [3, 4]])\n",
        "print(t)"
      ],
      "metadata": {
        "colab": {
          "base_uri": "https://localhost:8080/"
        },
        "id": "d4e5gNYBsXOx",
        "outputId": "dda16ac9-03bf-489c-c904-3cbc52831c63"
      },
      "execution_count": 23,
      "outputs": [
        {
          "output_type": "stream",
          "name": "stdout",
          "text": [
            "tensor([[1., 2.],\n",
            "        [3., 4.]])\n"
          ]
        }
      ]
    },
    {
      "cell_type": "code",
      "source": [
        "print(t.sum()) # 단순히 원소 전체의 덧셈을 수행\n",
        "print(t.sum(dim=0)) # 행을 제거\n",
        "print(t.sum(dim=1)) # 열을 제거\n",
        "print(t.sum(dim=-1)) # 열을 제거"
      ],
      "metadata": {
        "colab": {
          "base_uri": "https://localhost:8080/"
        },
        "id": "4xJh8xZ3saTR",
        "outputId": "ecaed1aa-8d4f-4261-f318-69af63e1faaf"
      },
      "execution_count": 24,
      "outputs": [
        {
          "output_type": "stream",
          "name": "stdout",
          "text": [
            "tensor(10.)\n",
            "tensor([4., 6.])\n",
            "tensor([3., 7.])\n",
            "tensor([3., 7.])\n"
          ]
        }
      ]
    },
    {
      "cell_type": "markdown",
      "source": [
        "sum은 원소를 모두 더해준다"
      ],
      "metadata": {
        "id": "yrtKyWj5sbgZ"
      }
    },
    {
      "cell_type": "markdown",
      "source": [
        "#### 최대(Max)와 아그맥스(ArgMax)\n",
        "\n",
        "Max는 원소의 **최대값**을 리턴하고, **아그맥스(ArgMax)**는 최대값을 가진 **인덱스**를 리턴한다."
      ],
      "metadata": {
        "id": "SM_WP6jQslMi"
      }
    },
    {
      "cell_type": "code",
      "source": [
        "t = torch.FloatTensor([[1, 2], [3, 4]])\n",
        "print(t)"
      ],
      "metadata": {
        "colab": {
          "base_uri": "https://localhost:8080/"
        },
        "id": "8gC-lVmas8Qy",
        "outputId": "4bc1e2b0-85bb-421b-f61b-276d5dc0db37"
      },
      "execution_count": 25,
      "outputs": [
        {
          "output_type": "stream",
          "name": "stdout",
          "text": [
            "tensor([[1., 2.],\n",
            "        [3., 4.]])\n"
          ]
        }
      ]
    },
    {
      "cell_type": "code",
      "source": [
        "print(t.max())"
      ],
      "metadata": {
        "colab": {
          "base_uri": "https://localhost:8080/"
        },
        "id": "P8VUpqFdtR6x",
        "outputId": "23292846-3086-4f78-da9e-18f07da9e0e6"
      },
      "execution_count": 26,
      "outputs": [
        {
          "output_type": "stream",
          "name": "stdout",
          "text": [
            "tensor(4.)\n"
          ]
        }
      ]
    },
    {
      "cell_type": "code",
      "source": [
        "print(t.max(dim=0)) # 열에서 최대"
      ],
      "metadata": {
        "colab": {
          "base_uri": "https://localhost:8080/"
        },
        "id": "fXgrakVEtTWa",
        "outputId": "8b963030-b1d8-4966-88ac-426b17c4bb71"
      },
      "execution_count": 27,
      "outputs": [
        {
          "output_type": "stream",
          "name": "stdout",
          "text": [
            "torch.return_types.max(\n",
            "values=tensor([3., 4.]),\n",
            "indices=tensor([1, 1]))\n"
          ]
        }
      ]
    },
    {
      "cell_type": "markdown",
      "source": [
        "[1, 1]은 argmax로 인덱스를 의미한다. 첫 번째 열에서 3의 인덱스 1, 두 번째 열에서 4의 인덱스 1이 리턴된 것."
      ],
      "metadata": {
        "id": "lfHN00TvtX1q"
      }
    },
    {
      "cell_type": "code",
      "source": [
        "print('Max: ', t.max(dim=0)[0])\n",
        "print('Argmax: ', t.max(dim=0)[1])"
      ],
      "metadata": {
        "id": "D746RuS9tv5p",
        "colab": {
          "base_uri": "https://localhost:8080/"
        },
        "outputId": "65db1c31-9b83-49d9-f491-9e9bcadf9979"
      },
      "execution_count": 28,
      "outputs": [
        {
          "output_type": "stream",
          "name": "stdout",
          "text": [
            "Max:  tensor([3., 4.])\n",
            "Argmax:  tensor([1, 1])\n"
          ]
        }
      ]
    },
    {
      "cell_type": "markdown",
      "source": [
        "만약 max따로 argmax따로 리턴받고 싶다면 리턴값에 인덱스를 부여하면 된다."
      ],
      "metadata": {
        "id": "0QwqYAxot0fy"
      }
    },
    {
      "cell_type": "code",
      "source": [
        "print(t.max(dim=1)) # 행별 최대값 출력\n",
        "print(t.max(dim=-1))"
      ],
      "metadata": {
        "colab": {
          "base_uri": "https://localhost:8080/"
        },
        "id": "oOaqfBUouOPU",
        "outputId": "460d9453-b8e5-471d-fdb0-2a09ec565039"
      },
      "execution_count": 29,
      "outputs": [
        {
          "output_type": "stream",
          "name": "stdout",
          "text": [
            "torch.return_types.max(\n",
            "values=tensor([2., 4.]),\n",
            "indices=tensor([1, 1]))\n",
            "torch.return_types.max(\n",
            "values=tensor([2., 4.]),\n",
            "indices=tensor([1, 1]))\n"
          ]
        }
      ]
    },
    {
      "cell_type": "markdown",
      "source": [
        "#### 뷰(View) - 원소의 수를 유지하면서 텐서의 크기 변경하기(매우 중요)"
      ],
      "metadata": {
        "id": "XX72oWJ-Ncm5"
      }
    },
    {
      "cell_type": "code",
      "source": [
        "import numpy as np\n",
        "\n",
        "t = np.array([[[0, 1, 2],\n",
        "               [3, 4, 5]],\n",
        "              [[6, 7, 8],\n",
        "               [9, 10, 11]]])\n",
        "ft = torch.FloatTensor(t)"
      ],
      "metadata": {
        "id": "OV1I-pbONjYv"
      },
      "execution_count": 30,
      "outputs": []
    },
    {
      "cell_type": "code",
      "source": [
        "print(ft.shape)"
      ],
      "metadata": {
        "colab": {
          "base_uri": "https://localhost:8080/"
        },
        "id": "RSmH2q4PNrh_",
        "outputId": "3795be6a-6a3a-46e1-c228-58aa35c2f0ae"
      },
      "execution_count": 31,
      "outputs": [
        {
          "output_type": "stream",
          "name": "stdout",
          "text": [
            "torch.Size([2, 2, 3])\n"
          ]
        }
      ]
    },
    {
      "cell_type": "code",
      "source": [
        "# 3차원 텐서에서 2차원 텐서로 변경\n",
        "print(ft.view([-1,3])) # -1은 행이 몇 개가 되는 3열짜리 텐서로 만들라는 의미.\n",
        "print(ft.view([-1,3]).shape)"
      ],
      "metadata": {
        "colab": {
          "base_uri": "https://localhost:8080/"
        },
        "id": "F6vKzNDRNuk3",
        "outputId": "0c373fbe-cab1-4f95-9c7e-71a71c85ccf7"
      },
      "execution_count": 32,
      "outputs": [
        {
          "output_type": "stream",
          "name": "stdout",
          "text": [
            "tensor([[ 0.,  1.,  2.],\n",
            "        [ 3.,  4.,  5.],\n",
            "        [ 6.,  7.,  8.],\n",
            "        [ 9., 10., 11.]])\n",
            "torch.Size([4, 3])\n"
          ]
        }
      ]
    },
    {
      "cell_type": "code",
      "source": [
        "# 3차원 텐서의 크기 변경\n",
        "print(ft.view([-1, 1, 3]))\n",
        "print(ft.view([-1, 1, 3]).shape)"
      ],
      "metadata": {
        "id": "NH7RkixHOTLn",
        "colab": {
          "base_uri": "https://localhost:8080/"
        },
        "outputId": "9e5e6cf5-3ec5-4f8e-9a66-671d4edd465a"
      },
      "execution_count": 33,
      "outputs": [
        {
          "output_type": "stream",
          "name": "stdout",
          "text": [
            "tensor([[[ 0.,  1.,  2.]],\n",
            "\n",
            "        [[ 3.,  4.,  5.]],\n",
            "\n",
            "        [[ 6.,  7.,  8.]],\n",
            "\n",
            "        [[ 9., 10., 11.]]])\n",
            "torch.Size([4, 1, 3])\n"
          ]
        }
      ]
    },
    {
      "cell_type": "markdown",
      "source": [
        "#### 스퀴즈(Squeeze) - 크기가 1인 차원을 제거\n",
        "\n",
        "차원이 1인 경우 해당 차원 제거."
      ],
      "metadata": {
        "id": "-qOjmsD5r8l6"
      }
    },
    {
      "cell_type": "code",
      "source": [
        "ft = torch.FloatTensor([[0], [1], [2]])\n",
        "print(ft)\n",
        "print(ft.shape)"
      ],
      "metadata": {
        "colab": {
          "base_uri": "https://localhost:8080/"
        },
        "id": "0DSA5WzBsgeZ",
        "outputId": "0532572d-011d-4255-89f0-bce5636adff3"
      },
      "execution_count": 34,
      "outputs": [
        {
          "output_type": "stream",
          "name": "stdout",
          "text": [
            "tensor([[0.],\n",
            "        [1.],\n",
            "        [2.]])\n",
            "torch.Size([3, 1])\n"
          ]
        }
      ]
    },
    {
      "cell_type": "code",
      "source": [
        "print(ft.squeeze())\n",
        "print(ft.squeeze().shape)"
      ],
      "metadata": {
        "colab": {
          "base_uri": "https://localhost:8080/"
        },
        "id": "xp4zKLoAsseS",
        "outputId": "72bb8db5-dee2-46c6-8618-9926a1166449"
      },
      "execution_count": 35,
      "outputs": [
        {
          "output_type": "stream",
          "name": "stdout",
          "text": [
            "tensor([0., 1., 2.])\n",
            "torch.Size([3])\n"
          ]
        }
      ]
    },
    {
      "cell_type": "markdown",
      "source": [
        "squeeze는 손으로 무언가를 짜내는 것을 뜻한다. 즉, 불필요하게 차원이 존재하는 경우 차원을 제거하여 적은 차원으로 압축하는 것이라 생각할 수 있다."
      ],
      "metadata": {
        "id": "Wg2o8mdos08y"
      }
    },
    {
      "cell_type": "markdown",
      "source": [
        "#### 언스퀴즈(Unsqueeze) - 크기가 1인 차원을 추가\n"
      ],
      "metadata": {
        "id": "2E6-zeWStQux"
      }
    },
    {
      "cell_type": "code",
      "source": [
        "ft = torch.Tensor([0, 1, 2])\n",
        "print(ft.shape)"
      ],
      "metadata": {
        "colab": {
          "base_uri": "https://localhost:8080/"
        },
        "id": "gDRhLaFCthgj",
        "outputId": "5bd567da-6002-4cde-cbc9-b4efd9e915fb"
      },
      "execution_count": 36,
      "outputs": [
        {
          "output_type": "stream",
          "name": "stdout",
          "text": [
            "torch.Size([3])\n"
          ]
        }
      ]
    },
    {
      "cell_type": "code",
      "source": [
        "print(ft.unsqueeze(0)) # 0은 차원을 추가할 위치를 의미 \n",
        "print(ft.unsqueeze(0).shape)"
      ],
      "metadata": {
        "colab": {
          "base_uri": "https://localhost:8080/"
        },
        "id": "ke8y8VUotjpa",
        "outputId": "6f237806-3cb5-40ee-9a85-02cd9e1e8d12"
      },
      "execution_count": 37,
      "outputs": [
        {
          "output_type": "stream",
          "name": "stdout",
          "text": [
            "tensor([[0., 1., 2.]])\n",
            "torch.Size([1, 3])\n"
          ]
        }
      ]
    },
    {
      "cell_type": "code",
      "source": [
        "print(ft.unsqueeze(1))\n",
        "print(ft.unsqueeze(1).shape)"
      ],
      "metadata": {
        "colab": {
          "base_uri": "https://localhost:8080/"
        },
        "id": "tjcIeULvtm_C",
        "outputId": "6b2271ac-ff38-416e-e426-df594a377577"
      },
      "execution_count": 38,
      "outputs": [
        {
          "output_type": "stream",
          "name": "stdout",
          "text": [
            "tensor([[0.],\n",
            "        [1.],\n",
            "        [2.]])\n",
            "torch.Size([3, 1])\n"
          ]
        }
      ]
    },
    {
      "cell_type": "code",
      "source": [
        "print(ft.unsqueeze(-1)) # -1은 마지막 차원을 의미\n",
        "print(ft.unsqueeze(-1).shape)"
      ],
      "metadata": {
        "colab": {
          "base_uri": "https://localhost:8080/"
        },
        "id": "G9LhnjgTt1r6",
        "outputId": "31f226ba-9940-4905-ed4b-abca79fec7f0"
      },
      "execution_count": 39,
      "outputs": [
        {
          "output_type": "stream",
          "name": "stdout",
          "text": [
            "tensor([[0.],\n",
            "        [1.],\n",
            "        [2.]])\n",
            "torch.Size([3, 1])\n"
          ]
        }
      ]
    },
    {
      "cell_type": "markdown",
      "source": [
        "지금까지 살펴본 view(), squeeze(), unsqueeze()는 텐서의 **원소 수를 그대로 유지**하면서 모양과 차원을 바꾼다."
      ],
      "metadata": {
        "id": "6EFB5lXkuCfD"
      }
    },
    {
      "cell_type": "markdown",
      "source": [
        "#### 타입 캐스팅(Type Casting)\n",
        "\n",
        "텐서에는 자료형이 있다. 각 데이터형(Float, Long,..)별로 정의되어 있는데, 이 자료형을 변환하는 것을 **타입 캐스팅**이라고 한다."
      ],
      "metadata": {
        "id": "zUPmKP5peJsM"
      }
    },
    {
      "cell_type": "code",
      "source": [
        "lt = torch.LongTensor([1,2,3,4])\n",
        "print(lt)"
      ],
      "metadata": {
        "colab": {
          "base_uri": "https://localhost:8080/"
        },
        "id": "iVxfxQ7deiSE",
        "outputId": "1715fe85-df5a-40bc-bf42-87b183d6ba7b"
      },
      "execution_count": 40,
      "outputs": [
        {
          "output_type": "stream",
          "name": "stdout",
          "text": [
            "tensor([1, 2, 3, 4])\n"
          ]
        }
      ]
    },
    {
      "cell_type": "code",
      "source": [
        "print(lt.float()) # float 형으로 타입 변경"
      ],
      "metadata": {
        "colab": {
          "base_uri": "https://localhost:8080/"
        },
        "id": "5R25WFpHeomL",
        "outputId": "dfc0fdd3-c8a1-4e90-f0e8-68bc059ad740"
      },
      "execution_count": 41,
      "outputs": [
        {
          "output_type": "stream",
          "name": "stdout",
          "text": [
            "tensor([1., 2., 3., 4.])\n"
          ]
        }
      ]
    },
    {
      "cell_type": "code",
      "source": [
        "bt = torch.ByteTensor([True, False, False, True])\n",
        "print(bt)"
      ],
      "metadata": {
        "colab": {
          "base_uri": "https://localhost:8080/"
        },
        "id": "W_Y9954Be05l",
        "outputId": "d3b15ae1-b836-4a40-e015-e194d9676e3b"
      },
      "execution_count": 42,
      "outputs": [
        {
          "output_type": "stream",
          "name": "stdout",
          "text": [
            "tensor([1, 0, 0, 1], dtype=torch.uint8)\n"
          ]
        }
      ]
    },
    {
      "cell_type": "code",
      "source": [
        "print(bt.long())\n",
        "print(bt.float())"
      ],
      "metadata": {
        "colab": {
          "base_uri": "https://localhost:8080/"
        },
        "id": "4xXytur3e-RD",
        "outputId": "3c8243fe-c202-4e97-a686-22cae6ff8b1a"
      },
      "execution_count": 43,
      "outputs": [
        {
          "output_type": "stream",
          "name": "stdout",
          "text": [
            "tensor([1, 0, 0, 1])\n",
            "tensor([1., 0., 0., 1.])\n"
          ]
        }
      ]
    },
    {
      "cell_type": "markdown",
      "source": [
        "#### 연결하기(concatenate)\n"
      ],
      "metadata": {
        "id": "xslP0REKfFAE"
      }
    },
    {
      "cell_type": "code",
      "source": [
        "x = torch.FloatTensor([[1,2], [3,4]])\n",
        "y = torch.FloatTensor([[5,6], [7,8]])"
      ],
      "metadata": {
        "id": "RMGEPYd-fJ6j"
      },
      "execution_count": 44,
      "outputs": []
    },
    {
      "cell_type": "code",
      "source": [
        "# cat으로 연결\n",
        "print(torch.cat([x,y], dim=0)) # 0번째 차원을 늘려라"
      ],
      "metadata": {
        "colab": {
          "base_uri": "https://localhost:8080/"
        },
        "id": "NzriLP-5iCA8",
        "outputId": "2be72efc-8910-49a9-80a4-c328af51b780"
      },
      "execution_count": 45,
      "outputs": [
        {
          "output_type": "stream",
          "name": "stdout",
          "text": [
            "tensor([[1., 2.],\n",
            "        [3., 4.],\n",
            "        [5., 6.],\n",
            "        [7., 8.]])\n"
          ]
        }
      ]
    },
    {
      "cell_type": "code",
      "source": [
        "print(torch.cat([x,y], dim=1))"
      ],
      "metadata": {
        "colab": {
          "base_uri": "https://localhost:8080/"
        },
        "id": "L4sXtnDaiSk0",
        "outputId": "cb470177-9cf5-4a3a-a5cc-da80d48efd11"
      },
      "execution_count": 46,
      "outputs": [
        {
          "output_type": "stream",
          "name": "stdout",
          "text": [
            "tensor([[1., 2., 5., 6.],\n",
            "        [3., 4., 7., 8.]])\n"
          ]
        }
      ]
    },
    {
      "cell_type": "markdown",
      "source": [
        "#### 스택킹(Stacking)"
      ],
      "metadata": {
        "id": "fENbO__hiYq0"
      }
    },
    {
      "cell_type": "code",
      "source": [
        "x = torch.FloatTensor([1,4])\n",
        "y = torch.FloatTensor([2,5])\n",
        "z = torch.FloatTensor([3,6])"
      ],
      "metadata": {
        "id": "ZLDcY_C9qhtY"
      },
      "execution_count": 47,
      "outputs": []
    },
    {
      "cell_type": "code",
      "source": [
        "print(torch.stack([x,y,z]))"
      ],
      "metadata": {
        "colab": {
          "base_uri": "https://localhost:8080/"
        },
        "id": "tFJuDq2Tqs-o",
        "outputId": "e55afc2e-c872-466e-806d-3c9adc51b5d9"
      },
      "execution_count": 48,
      "outputs": [
        {
          "output_type": "stream",
          "name": "stdout",
          "text": [
            "tensor([[1., 4.],\n",
            "        [2., 5.],\n",
            "        [3., 6.]])\n"
          ]
        }
      ]
    },
    {
      "cell_type": "code",
      "source": [
        "print(torch.stack([x,y,z], dim=1))"
      ],
      "metadata": {
        "colab": {
          "base_uri": "https://localhost:8080/"
        },
        "id": "j3siFmqsq2sv",
        "outputId": "493ef1a0-3634-45d6-88f5-df3cd12d0e6f"
      },
      "execution_count": 49,
      "outputs": [
        {
          "output_type": "stream",
          "name": "stdout",
          "text": [
            "tensor([[1., 2., 3.],\n",
            "        [4., 5., 6.]])\n"
          ]
        }
      ]
    },
    {
      "cell_type": "markdown",
      "source": [
        "#### 0으로 채워진 텐서와 1로 채워진 텐서"
      ],
      "metadata": {
        "id": "Sb-Stes_rCg5"
      }
    },
    {
      "cell_type": "code",
      "source": [
        "x = torch.FloatTensor([[0, 1, 2], [2, 1, 0]])\n",
        "print(x)"
      ],
      "metadata": {
        "colab": {
          "base_uri": "https://localhost:8080/"
        },
        "id": "5jZn4mLmrMwq",
        "outputId": "390e768f-5f4b-4d3c-8966-a9bfde68e439"
      },
      "execution_count": 50,
      "outputs": [
        {
          "output_type": "stream",
          "name": "stdout",
          "text": [
            "tensor([[0., 1., 2.],\n",
            "        [2., 1., 0.]])\n"
          ]
        }
      ]
    },
    {
      "cell_type": "code",
      "source": [
        "print(torch.ones_like(x))"
      ],
      "metadata": {
        "colab": {
          "base_uri": "https://localhost:8080/"
        },
        "id": "k-LgaBg7rW9Z",
        "outputId": "5132ce27-b15d-4ef0-f706-b1d3fd5adba3"
      },
      "execution_count": 51,
      "outputs": [
        {
          "output_type": "stream",
          "name": "stdout",
          "text": [
            "tensor([[1., 1., 1.],\n",
            "        [1., 1., 1.]])\n"
          ]
        }
      ]
    },
    {
      "cell_type": "code",
      "source": [
        "print(torch.zeros_like(x))"
      ],
      "metadata": {
        "colab": {
          "base_uri": "https://localhost:8080/"
        },
        "id": "sq3hT7qzrdbY",
        "outputId": "d820baa7-f552-40dd-949b-e8751868d21c"
      },
      "execution_count": 52,
      "outputs": [
        {
          "output_type": "stream",
          "name": "stdout",
          "text": [
            "tensor([[0., 0., 0.],\n",
            "        [0., 0., 0.]])\n"
          ]
        }
      ]
    },
    {
      "cell_type": "markdown",
      "source": [
        "#### in-place Operation(덮어쓰기 연산)"
      ],
      "metadata": {
        "id": "nG4D7Nmqrg4I"
      }
    },
    {
      "cell_type": "code",
      "source": [
        "x = torch.FloatTensor([[1, 2], [3, 4]])"
      ],
      "metadata": {
        "id": "Y8WGAOP9rpgI"
      },
      "execution_count": 53,
      "outputs": []
    },
    {
      "cell_type": "code",
      "source": [
        "print(x.mul(2.))\n",
        "print(x)"
      ],
      "metadata": {
        "colab": {
          "base_uri": "https://localhost:8080/"
        },
        "id": "l0mpxqpvr05I",
        "outputId": "9c729c81-e742-48af-9d7e-edf5e3d68466"
      },
      "execution_count": 54,
      "outputs": [
        {
          "output_type": "stream",
          "name": "stdout",
          "text": [
            "tensor([[2., 4.],\n",
            "        [6., 8.]])\n",
            "tensor([[1., 2.],\n",
            "        [3., 4.]])\n"
          ]
        }
      ]
    },
    {
      "cell_type": "markdown",
      "source": [
        "x 값은 변하지 않았다. 하지만 연산 뒤에 _를 붙이면 기존의 값을 덮어쓴다."
      ],
      "metadata": {
        "id": "CuPmO3Jar8nA"
      }
    },
    {
      "cell_type": "code",
      "source": [
        "print(x.mul_(2.))\n",
        "print(x)"
      ],
      "metadata": {
        "colab": {
          "base_uri": "https://localhost:8080/"
        },
        "id": "kOICeflYsHWA",
        "outputId": "33553f27-5822-46eb-d8fb-9366641fe3ac"
      },
      "execution_count": 55,
      "outputs": [
        {
          "output_type": "stream",
          "name": "stdout",
          "text": [
            "tensor([[2., 4.],\n",
            "        [6., 8.]])\n",
            "tensor([[2., 4.],\n",
            "        [6., 8.]])\n"
          ]
        }
      ]
    }
  ]
}