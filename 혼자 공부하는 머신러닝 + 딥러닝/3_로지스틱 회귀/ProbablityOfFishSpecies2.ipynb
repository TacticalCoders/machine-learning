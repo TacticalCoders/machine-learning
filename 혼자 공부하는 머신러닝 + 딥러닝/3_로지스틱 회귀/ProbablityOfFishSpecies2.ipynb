{
  "nbformat": 4,
  "nbformat_minor": 0,
  "metadata": {
    "colab": {
      "name": "ProbablityOfFishSpecies2.ipynb",
      "provenance": [],
      "toc_visible": true,
      "authorship_tag": "ABX9TyPAwYh2QVnFtzPwRFBMXrry",
      "include_colab_link": true
    },
    "kernelspec": {
      "name": "python3",
      "display_name": "Python 3"
    },
    "language_info": {
      "name": "python"
    }
  },
  "cells": [
    {
      "cell_type": "markdown",
      "metadata": {
        "id": "view-in-github",
        "colab_type": "text"
      },
      "source": [
        "<a href=\"https://colab.research.google.com/github/TacticalCoders/machine-learning/blob/main/ProbablityOfFishSpecies2.ipynb\" target=\"_parent\"><img src=\"https://colab.research.google.com/assets/colab-badge.svg\" alt=\"Open In Colab\"/></a>"
      ]
    },
    {
      "cell_type": "markdown",
      "source": [
        "# **확률적 경사 하강법**\n",
        "\n"
      ],
      "metadata": {
        "id": "elhD5L72Y_jw"
      }
    },
    {
      "cell_type": "markdown",
      "source": [
        "## 점진적인 학습\n",
        "\n",
        "럭키박스에 **새로운 생선의 종류가 추가** 된다면 모델을 다시 훈련시켜야 할 것이다.\n",
        "\n",
        "문제는 (새로운 생선의) 훈련 데이터가 한 번에 준비되는 것이 아니라 조금씩 전달되는 상황이라면 어떻게 해야할까? 데이터가 충분히 쌓일 때까지 기다린다음 학습시켜야 할까?\n",
        "\n",
        "그것보다는 기존의 훈련 데이터에 새로운 데이터를 추가하여 모델을 계속해서 훈련시킬 수 있을 것이다. 하지만 그렇게 데이터가 계속 쌓이다보면 서버 용량을 늘려야 하는 시점이 올 것이다. 따라서 이런 방식은 지속가능한 방식이라고 보기 어렵다.\n",
        "\n",
        "그럼 새로운 데이터를 추가할 때, 이전 데이터를 버리면되지 않을까? 하지만 중요한 데이터를 버리면 오히려 성능이 저하되는 문제가 발생할 수 있다. 그리고 이는 기존의 모델을 아예 버리고 새 모델을 만드는 것이기에 생산성이 좋다고 보기 힘들다.\n",
        "\n",
        "그래서 등장한 것이 **점진적 학습** (온라인 학습)이다. 즉, 기존의 모델을 버리지 않고 새로운 데이터에 대해서 조금씩 더 훈련하는 것이다.\n",
        "\n",
        "대표적인 점진적 학습 알고리즘은 **확률적 경사 하강법(Stochastic Gradient Descent)**이다."
      ],
      "metadata": {
        "id": "8sRuNZ1YZYi5"
      }
    },
    {
      "cell_type": "markdown",
      "source": [
        "## **확률적 경사 하강법**\n",
        "\n",
        "우선 여기서 **확률적**이라는 말은 **무작위하게** 즉 **랜덤하게** 라는 뜻이다.\n",
        "\n",
        "경사는 기울기를 뜻하고, 하강법은 내려가는 방법이다. 따라서 경사 하강법은 **기울기를 따라 내려가는 방법**이다.\n",
        "\n",
        "이해를 위해 산에서 내려오는 상황을 생각해보자. 가장 빠른 길은 가장 경사가 가파른 길이다. 그렇지만 하산 할때는 천천히 조금씩 내려와야 한다. 한 번에 너무 큰 걸음을 내딛게 되면 다른 산 중턱에 걸리는일이 생길 수 있다는 것이다.\n",
        "\n",
        "경사 하강법에서도 가장 가파른 길을 천천히 조금씩 내려오는 방식으로 학습한다.\n",
        "\n",
        "그럼 가장 가파른 길을 어떻게 찾을 수 있을까? \n",
        "\n",
        "훈련 세트에서 랜덤하게 하나의 샘플을 선택하여 가파른 경사를 조금 내려간다. 가 다음 또 랜덤하게 또 다른  샘플을 선택하여 가파른 경사를 조금 내려간다. 이런 식으로 전체 샘플을 모두 사용할 때까지 계속한다.\n",
        "\n",
        "그래도 산을 다 내려오지 못했다면 다시 처음부터 시작한다. 훈련 세트에 모든 샘플을 다시 채워 넣고 그다음 랜덤하게 하나의 샘플을 선택해 경사를 내려간다. 만족할만한 위치에 도달할 때까지 계속 반복한다. 확률적 경사 하강법에서 훈련 세트를 한 번 모두 사용하느 과정을 **에포크(epoch)**라고 하는데 일반적으로 경사 하강법은 **수십, 수백 번 이상 에포크를 수행한다**.\n",
        "\n",
        "하지만 랜덤하게 1개의 샘플만을 뽑을 수도 있지만 **여러 개**를 뽑을 수도 있다. 여러 개의 샘플을 사용해 경사 하강법을 수행하는 방식을 **미니배치 경사 하강법(minibatch gradient descent)**라고 한다.\n",
        "\n",
        "극단적으로 한 번 경사로를 따라 이동하기 위해 **전체 샘플**을 사용할 수 있는데, 이를 **배치 경사 하강법(batch gradient descent)**라고 부른다. 전체 데이터를 사용하기 때문에 가장 안정정이지만 컴퓨터 자원을 너무 많이 사용하게 될 수 있다는 단점이 있다.\n"
      ],
      "metadata": {
        "id": "Mt9fayCeZx2I"
      }
    },
    {
      "cell_type": "markdown",
      "source": [
        "### 확률적 경사 하강법과 **신경망 알고리즘**\n",
        "\n",
        "신경망 알고리즘은 일반적으로 많은 데이터를 사용하기 때문에 한 번에 모든 데이터를 사용하기 어렵다. 또 모델이 매우 복잡해 수학적인 방법으로 해답을 얻기도 어렵다. 따라서 **신경망 모델은 확률적 경사 하강법이나 미니배치 경사 하강법을 꼭 사용한다.**"
      ],
      "metadata": {
        "id": "3r6g6mGdkgRL"
      }
    },
    {
      "cell_type": "markdown",
      "source": [
        "### **손실함수(loss function)**\n",
        "\n",
        "지금까지 산이라고 불러왔지만 실제로 모델이 빠른 길을 찾아 내려가려고 하는 것은 무엇일까? 바로 **손실함수**이다. \n",
        "\n",
        "손실함수는 어떤 문제에서 ***머신러닝 알고리즘이 얼마나 엉터리인지***를 측정하는 기준이다. (값이 작을수록 좋다.)\n",
        "\n",
        "문제는 **어떤 값이 최솟값인지 알지 못하**므로 가능한 많이 찾아보고 만족할만한 수준이라면 산을 다 내려왔다고 인정해야 한다.\n",
        "\n",
        "손실함수는 미분가능해야 한다. 그러므로 손실함수는 연속적인 함수다. "
      ],
      "metadata": {
        "id": "Knd_PN7hlojD"
      }
    },
    {
      "cell_type": "markdown",
      "source": [
        "#### **로지스틱 손실 함수(logistic loss function)**\n",
        "\n",
        "맨 처음 만든 도미와 빙어 이진 분류 모델의 손실함수를 구해보자.\n",
        "\n",
        "도미는 1이고, 빙어는 0이다.(양성클래스, 음성클래스)\n",
        "\n",
        "모델이 1 0 0 1로 예측했고, 각각의 0.9, 0.3, 0.2, 0.8의 확률로 예측했다고 가정한다."
      ],
      "metadata": {
        "id": "a0-A-r5fzDBk"
      }
    },
    {
      "cell_type": "code",
      "source": [
        "-(0.9 * 1) # 1은 타깃(정답)"
      ],
      "metadata": {
        "colab": {
          "base_uri": "https://localhost:8080/"
        },
        "id": "BtJIYKSa0DHy",
        "outputId": "cce016e2-12f2-4b02-d002-911075236f73"
      },
      "execution_count": 1,
      "outputs": [
        {
          "output_type": "execute_result",
          "data": {
            "text/plain": [
              "-0.9"
            ]
          },
          "metadata": {},
          "execution_count": 1
        }
      ]
    },
    {
      "cell_type": "code",
      "source": [
        "-(0.3 * 1) "
      ],
      "metadata": {
        "colab": {
          "base_uri": "https://localhost:8080/"
        },
        "id": "HWzyx-F60OFr",
        "outputId": "5e15eb0a-e010-4804-ee28-ee56e1b59a6e"
      },
      "execution_count": 2,
      "outputs": [
        {
          "output_type": "execute_result",
          "data": {
            "text/plain": [
              "-0.3"
            ]
          },
          "metadata": {},
          "execution_count": 2
        }
      ]
    },
    {
      "cell_type": "code",
      "source": [
        "# 음성클래스는 확률과 타깃모두 1에서 뺀 값으로 계산한다. #모두 0으로 만들어버리기 때문.\n",
        "-(0.8 * 1) # 원래는 0.2 * 0 "
      ],
      "metadata": {
        "colab": {
          "base_uri": "https://localhost:8080/"
        },
        "id": "oPOLRKzO0Xd7",
        "outputId": "08f032d4-5689-4de7-a2ba-84e4c3bd98e6"
      },
      "execution_count": 3,
      "outputs": [
        {
          "output_type": "execute_result",
          "data": {
            "text/plain": [
              "-0.8"
            ]
          },
          "metadata": {},
          "execution_count": 3
        }
      ]
    },
    {
      "cell_type": "code",
      "source": [
        "-(0.2 * 1) # 원래는 0.8 * 0"
      ],
      "metadata": {
        "colab": {
          "base_uri": "https://localhost:8080/"
        },
        "id": "qteib-c_1CfL",
        "outputId": "62201c6f-b9f6-4ec4-9fe9-c671334e518f"
      },
      "execution_count": 4,
      "outputs": [
        {
          "output_type": "execute_result",
          "data": {
            "text/plain": [
              "-0.2"
            ]
          },
          "metadata": {},
          "execution_count": 4
        }
      ]
    },
    {
      "cell_type": "markdown",
      "source": [
        "이처럼 예측 확률을 활용하여 연속적인 손실 함수를 얻을 수 있다.\n",
        "\n",
        "여기서 예측 확률에 로그 함수를 적용하면 좋다. 예측 확률의 범위는 0~1이다. 로그 함수는 0과 1사이에서 음수이므로 음수 * 음수가 되어 최종 손실값을 양수로 볼 수 있게 된다. \n",
        "\n",
        "이 손실 함수를 로지스틱 손실 함수라고하고 다른 말로 **이진 크로스엔트로피 손실 함수(binary cross-entropy loss function)**라고도 한다.\n",
        "\n",
        "다중 분류에서도 비슷한 손실 함수를 사용하는데 다중 분류에서 사용하는 손실 함수를 크로스엔트로피 손실 함수**(cross-entropy loss function)**라고 한다.\n",
        "\n",
        "이런 손실함수들이 이미 개발되어 있어 직접 손실 함수를 만들일은 거의 없다."
      ],
      "metadata": {
        "id": "7ro_FTk41InD"
      }
    },
    {
      "cell_type": "markdown",
      "source": [
        "## 데이터 준비하기"
      ],
      "metadata": {
        "id": "__3SnFaa3U2a"
      }
    },
    {
      "cell_type": "code",
      "source": [
        "import pandas as pd\n",
        "fish = pd.read_csv('https://bit.ly/fish_csv_data')"
      ],
      "metadata": {
        "id": "BvGDcYa43YBy"
      },
      "execution_count": 6,
      "outputs": []
    },
    {
      "cell_type": "code",
      "source": [
        "fish"
      ],
      "metadata": {
        "colab": {
          "base_uri": "https://localhost:8080/",
          "height": 424
        },
        "id": "0MOusHpV3hNa",
        "outputId": "45174603-1d59-4a78-eee9-3782fde13ff8"
      },
      "execution_count": 7,
      "outputs": [
        {
          "output_type": "execute_result",
          "data": {
            "text/plain": [
              "    Species  Weight  Length  Diagonal   Height   Width\n",
              "0     Bream   242.0    25.4      30.0  11.5200  4.0200\n",
              "1     Bream   290.0    26.3      31.2  12.4800  4.3056\n",
              "2     Bream   340.0    26.5      31.1  12.3778  4.6961\n",
              "3     Bream   363.0    29.0      33.5  12.7300  4.4555\n",
              "4     Bream   430.0    29.0      34.0  12.4440  5.1340\n",
              "..      ...     ...     ...       ...      ...     ...\n",
              "154   Smelt    12.2    12.2      13.4   2.0904  1.3936\n",
              "155   Smelt    13.4    12.4      13.5   2.4300  1.2690\n",
              "156   Smelt    12.2    13.0      13.8   2.2770  1.2558\n",
              "157   Smelt    19.7    14.3      15.2   2.8728  2.0672\n",
              "158   Smelt    19.9    15.0      16.2   2.9322  1.8792\n",
              "\n",
              "[159 rows x 6 columns]"
            ],
            "text/html": [
              "\n",
              "  <div id=\"df-c586d12e-c716-4136-8b20-4d3397ea5870\">\n",
              "    <div class=\"colab-df-container\">\n",
              "      <div>\n",
              "<style scoped>\n",
              "    .dataframe tbody tr th:only-of-type {\n",
              "        vertical-align: middle;\n",
              "    }\n",
              "\n",
              "    .dataframe tbody tr th {\n",
              "        vertical-align: top;\n",
              "    }\n",
              "\n",
              "    .dataframe thead th {\n",
              "        text-align: right;\n",
              "    }\n",
              "</style>\n",
              "<table border=\"1\" class=\"dataframe\">\n",
              "  <thead>\n",
              "    <tr style=\"text-align: right;\">\n",
              "      <th></th>\n",
              "      <th>Species</th>\n",
              "      <th>Weight</th>\n",
              "      <th>Length</th>\n",
              "      <th>Diagonal</th>\n",
              "      <th>Height</th>\n",
              "      <th>Width</th>\n",
              "    </tr>\n",
              "  </thead>\n",
              "  <tbody>\n",
              "    <tr>\n",
              "      <th>0</th>\n",
              "      <td>Bream</td>\n",
              "      <td>242.0</td>\n",
              "      <td>25.4</td>\n",
              "      <td>30.0</td>\n",
              "      <td>11.5200</td>\n",
              "      <td>4.0200</td>\n",
              "    </tr>\n",
              "    <tr>\n",
              "      <th>1</th>\n",
              "      <td>Bream</td>\n",
              "      <td>290.0</td>\n",
              "      <td>26.3</td>\n",
              "      <td>31.2</td>\n",
              "      <td>12.4800</td>\n",
              "      <td>4.3056</td>\n",
              "    </tr>\n",
              "    <tr>\n",
              "      <th>2</th>\n",
              "      <td>Bream</td>\n",
              "      <td>340.0</td>\n",
              "      <td>26.5</td>\n",
              "      <td>31.1</td>\n",
              "      <td>12.3778</td>\n",
              "      <td>4.6961</td>\n",
              "    </tr>\n",
              "    <tr>\n",
              "      <th>3</th>\n",
              "      <td>Bream</td>\n",
              "      <td>363.0</td>\n",
              "      <td>29.0</td>\n",
              "      <td>33.5</td>\n",
              "      <td>12.7300</td>\n",
              "      <td>4.4555</td>\n",
              "    </tr>\n",
              "    <tr>\n",
              "      <th>4</th>\n",
              "      <td>Bream</td>\n",
              "      <td>430.0</td>\n",
              "      <td>29.0</td>\n",
              "      <td>34.0</td>\n",
              "      <td>12.4440</td>\n",
              "      <td>5.1340</td>\n",
              "    </tr>\n",
              "    <tr>\n",
              "      <th>...</th>\n",
              "      <td>...</td>\n",
              "      <td>...</td>\n",
              "      <td>...</td>\n",
              "      <td>...</td>\n",
              "      <td>...</td>\n",
              "      <td>...</td>\n",
              "    </tr>\n",
              "    <tr>\n",
              "      <th>154</th>\n",
              "      <td>Smelt</td>\n",
              "      <td>12.2</td>\n",
              "      <td>12.2</td>\n",
              "      <td>13.4</td>\n",
              "      <td>2.0904</td>\n",
              "      <td>1.3936</td>\n",
              "    </tr>\n",
              "    <tr>\n",
              "      <th>155</th>\n",
              "      <td>Smelt</td>\n",
              "      <td>13.4</td>\n",
              "      <td>12.4</td>\n",
              "      <td>13.5</td>\n",
              "      <td>2.4300</td>\n",
              "      <td>1.2690</td>\n",
              "    </tr>\n",
              "    <tr>\n",
              "      <th>156</th>\n",
              "      <td>Smelt</td>\n",
              "      <td>12.2</td>\n",
              "      <td>13.0</td>\n",
              "      <td>13.8</td>\n",
              "      <td>2.2770</td>\n",
              "      <td>1.2558</td>\n",
              "    </tr>\n",
              "    <tr>\n",
              "      <th>157</th>\n",
              "      <td>Smelt</td>\n",
              "      <td>19.7</td>\n",
              "      <td>14.3</td>\n",
              "      <td>15.2</td>\n",
              "      <td>2.8728</td>\n",
              "      <td>2.0672</td>\n",
              "    </tr>\n",
              "    <tr>\n",
              "      <th>158</th>\n",
              "      <td>Smelt</td>\n",
              "      <td>19.9</td>\n",
              "      <td>15.0</td>\n",
              "      <td>16.2</td>\n",
              "      <td>2.9322</td>\n",
              "      <td>1.8792</td>\n",
              "    </tr>\n",
              "  </tbody>\n",
              "</table>\n",
              "<p>159 rows × 6 columns</p>\n",
              "</div>\n",
              "      <button class=\"colab-df-convert\" onclick=\"convertToInteractive('df-c586d12e-c716-4136-8b20-4d3397ea5870')\"\n",
              "              title=\"Convert this dataframe to an interactive table.\"\n",
              "              style=\"display:none;\">\n",
              "        \n",
              "  <svg xmlns=\"http://www.w3.org/2000/svg\" height=\"24px\"viewBox=\"0 0 24 24\"\n",
              "       width=\"24px\">\n",
              "    <path d=\"M0 0h24v24H0V0z\" fill=\"none\"/>\n",
              "    <path d=\"M18.56 5.44l.94 2.06.94-2.06 2.06-.94-2.06-.94-.94-2.06-.94 2.06-2.06.94zm-11 1L8.5 8.5l.94-2.06 2.06-.94-2.06-.94L8.5 2.5l-.94 2.06-2.06.94zm10 10l.94 2.06.94-2.06 2.06-.94-2.06-.94-.94-2.06-.94 2.06-2.06.94z\"/><path d=\"M17.41 7.96l-1.37-1.37c-.4-.4-.92-.59-1.43-.59-.52 0-1.04.2-1.43.59L10.3 9.45l-7.72 7.72c-.78.78-.78 2.05 0 2.83L4 21.41c.39.39.9.59 1.41.59.51 0 1.02-.2 1.41-.59l7.78-7.78 2.81-2.81c.8-.78.8-2.07 0-2.86zM5.41 20L4 18.59l7.72-7.72 1.47 1.35L5.41 20z\"/>\n",
              "  </svg>\n",
              "      </button>\n",
              "      \n",
              "  <style>\n",
              "    .colab-df-container {\n",
              "      display:flex;\n",
              "      flex-wrap:wrap;\n",
              "      gap: 12px;\n",
              "    }\n",
              "\n",
              "    .colab-df-convert {\n",
              "      background-color: #E8F0FE;\n",
              "      border: none;\n",
              "      border-radius: 50%;\n",
              "      cursor: pointer;\n",
              "      display: none;\n",
              "      fill: #1967D2;\n",
              "      height: 32px;\n",
              "      padding: 0 0 0 0;\n",
              "      width: 32px;\n",
              "    }\n",
              "\n",
              "    .colab-df-convert:hover {\n",
              "      background-color: #E2EBFA;\n",
              "      box-shadow: 0px 1px 2px rgba(60, 64, 67, 0.3), 0px 1px 3px 1px rgba(60, 64, 67, 0.15);\n",
              "      fill: #174EA6;\n",
              "    }\n",
              "\n",
              "    [theme=dark] .colab-df-convert {\n",
              "      background-color: #3B4455;\n",
              "      fill: #D2E3FC;\n",
              "    }\n",
              "\n",
              "    [theme=dark] .colab-df-convert:hover {\n",
              "      background-color: #434B5C;\n",
              "      box-shadow: 0px 1px 3px 1px rgba(0, 0, 0, 0.15);\n",
              "      filter: drop-shadow(0px 1px 2px rgba(0, 0, 0, 0.3));\n",
              "      fill: #FFFFFF;\n",
              "    }\n",
              "  </style>\n",
              "\n",
              "      <script>\n",
              "        const buttonEl =\n",
              "          document.querySelector('#df-c586d12e-c716-4136-8b20-4d3397ea5870 button.colab-df-convert');\n",
              "        buttonEl.style.display =\n",
              "          google.colab.kernel.accessAllowed ? 'block' : 'none';\n",
              "\n",
              "        async function convertToInteractive(key) {\n",
              "          const element = document.querySelector('#df-c586d12e-c716-4136-8b20-4d3397ea5870');\n",
              "          const dataTable =\n",
              "            await google.colab.kernel.invokeFunction('convertToInteractive',\n",
              "                                                     [key], {});\n",
              "          if (!dataTable) return;\n",
              "\n",
              "          const docLinkHtml = 'Like what you see? Visit the ' +\n",
              "            '<a target=\"_blank\" href=https://colab.research.google.com/notebooks/data_table.ipynb>data table notebook</a>'\n",
              "            + ' to learn more about interactive tables.';\n",
              "          element.innerHTML = '';\n",
              "          dataTable['output_type'] = 'display_data';\n",
              "          await google.colab.output.renderOutput(dataTable, element);\n",
              "          const docLink = document.createElement('div');\n",
              "          docLink.innerHTML = docLinkHtml;\n",
              "          element.appendChild(docLink);\n",
              "        }\n",
              "      </script>\n",
              "    </div>\n",
              "  </div>\n",
              "  "
            ]
          },
          "metadata": {},
          "execution_count": 7
        }
      ]
    },
    {
      "cell_type": "code",
      "source": [
        "fish_input = fish[['Weight', 'Length', 'Diagonal','Height','Width']].to_numpy()\n",
        "fish_target = fish['Species'].to_numpy()"
      ],
      "metadata": {
        "id": "7ctuGamS3k5g"
      },
      "execution_count": 8,
      "outputs": []
    },
    {
      "cell_type": "code",
      "source": [
        "fish_input[:5]"
      ],
      "metadata": {
        "colab": {
          "base_uri": "https://localhost:8080/"
        },
        "id": "dAJJPP-h348h",
        "outputId": "b68c5656-9e82-49f7-f7a6-7504e9728cf1"
      },
      "execution_count": 11,
      "outputs": [
        {
          "output_type": "execute_result",
          "data": {
            "text/plain": [
              "array([[242.    ,  25.4   ,  30.    ,  11.52  ,   4.02  ],\n",
              "       [290.    ,  26.3   ,  31.2   ,  12.48  ,   4.3056],\n",
              "       [340.    ,  26.5   ,  31.1   ,  12.3778,   4.6961],\n",
              "       [363.    ,  29.    ,  33.5   ,  12.73  ,   4.4555],\n",
              "       [430.    ,  29.    ,  34.    ,  12.444 ,   5.134 ]])"
            ]
          },
          "metadata": {},
          "execution_count": 11
        }
      ]
    },
    {
      "cell_type": "code",
      "source": [
        "fish_target"
      ],
      "metadata": {
        "colab": {
          "base_uri": "https://localhost:8080/"
        },
        "id": "zLcOtTdg374x",
        "outputId": "da999f63-70d0-4736-d916-2df0039671e6"
      },
      "execution_count": 12,
      "outputs": [
        {
          "output_type": "execute_result",
          "data": {
            "text/plain": [
              "array(['Bream', 'Bream', 'Bream', 'Bream', 'Bream', 'Bream', 'Bream',\n",
              "       'Bream', 'Bream', 'Bream', 'Bream', 'Bream', 'Bream', 'Bream',\n",
              "       'Bream', 'Bream', 'Bream', 'Bream', 'Bream', 'Bream', 'Bream',\n",
              "       'Bream', 'Bream', 'Bream', 'Bream', 'Bream', 'Bream', 'Bream',\n",
              "       'Bream', 'Bream', 'Bream', 'Bream', 'Bream', 'Bream', 'Bream',\n",
              "       'Roach', 'Roach', 'Roach', 'Roach', 'Roach', 'Roach', 'Roach',\n",
              "       'Roach', 'Roach', 'Roach', 'Roach', 'Roach', 'Roach', 'Roach',\n",
              "       'Roach', 'Roach', 'Roach', 'Roach', 'Roach', 'Roach', 'Whitefish',\n",
              "       'Whitefish', 'Whitefish', 'Whitefish', 'Whitefish', 'Whitefish',\n",
              "       'Parkki', 'Parkki', 'Parkki', 'Parkki', 'Parkki', 'Parkki',\n",
              "       'Parkki', 'Parkki', 'Parkki', 'Parkki', 'Parkki', 'Perch', 'Perch',\n",
              "       'Perch', 'Perch', 'Perch', 'Perch', 'Perch', 'Perch', 'Perch',\n",
              "       'Perch', 'Perch', 'Perch', 'Perch', 'Perch', 'Perch', 'Perch',\n",
              "       'Perch', 'Perch', 'Perch', 'Perch', 'Perch', 'Perch', 'Perch',\n",
              "       'Perch', 'Perch', 'Perch', 'Perch', 'Perch', 'Perch', 'Perch',\n",
              "       'Perch', 'Perch', 'Perch', 'Perch', 'Perch', 'Perch', 'Perch',\n",
              "       'Perch', 'Perch', 'Perch', 'Perch', 'Perch', 'Perch', 'Perch',\n",
              "       'Perch', 'Perch', 'Perch', 'Perch', 'Perch', 'Perch', 'Perch',\n",
              "       'Perch', 'Perch', 'Perch', 'Perch', 'Perch', 'Pike', 'Pike',\n",
              "       'Pike', 'Pike', 'Pike', 'Pike', 'Pike', 'Pike', 'Pike', 'Pike',\n",
              "       'Pike', 'Pike', 'Pike', 'Pike', 'Pike', 'Pike', 'Pike', 'Smelt',\n",
              "       'Smelt', 'Smelt', 'Smelt', 'Smelt', 'Smelt', 'Smelt', 'Smelt',\n",
              "       'Smelt', 'Smelt', 'Smelt', 'Smelt', 'Smelt', 'Smelt'], dtype=object)"
            ]
          },
          "metadata": {},
          "execution_count": 12
        }
      ]
    },
    {
      "cell_type": "code",
      "source": [
        "# 훈련 세트와 테스트 세트 나누기\n",
        "\n",
        "from sklearn.model_selection import train_test_split\n",
        "train_input, test_input, train_target, test_target = train_test_split(fish_input, fish_target, random_state=42)"
      ],
      "metadata": {
        "id": "DbPy5DbC4C28"
      },
      "execution_count": 13,
      "outputs": []
    },
    {
      "cell_type": "code",
      "source": [
        "# 특성 표준화 전처리 하기 - 훈련 세트에서 학습한 통계 값으로 테스트 세트도 변환해야 함\n",
        "\n",
        "from sklearn.preprocessing import StandardScaler\n",
        "ss = StandardScaler()\n",
        "ss.fit(train_input)\n",
        "train_scaled = ss.transform(train_input)\n",
        "test_scaled = ss.transform(test_input)"
      ],
      "metadata": {
        "id": "9eTyXzVh4Zix"
      },
      "execution_count": 17,
      "outputs": []
    },
    {
      "cell_type": "markdown",
      "source": [
        "## 훈련하기"
      ],
      "metadata": {
        "id": "SL9oOmrv6YeV"
      }
    },
    {
      "cell_type": "markdown",
      "source": [
        "### SGDClassifier\n",
        "\n",
        "사이킷런에서 확률적 경사 하강법을 제공한는 대표적인 분류용 클래스이다. 이를 활용하여 훈련시켜보자."
      ],
      "metadata": {
        "id": "JQelzIA045ix"
      }
    },
    {
      "cell_type": "code",
      "source": [
        "from sklearn.linear_model import SGDClassifier"
      ],
      "metadata": {
        "id": "PqDDZrEY6GrQ"
      },
      "execution_count": 15,
      "outputs": []
    },
    {
      "cell_type": "code",
      "source": [
        "sc = SGDClassifier(loss='log', max_iter=10, random_state=42) #loss는 손실 함수 지정, max_iter는 수행할 에포크 횟수.\n",
        "sc.fit(train_scaled, train_target)\n",
        "print(sc.score(train_scaled, train_target))\n",
        "print(sc.score(test_scaled, test_target))"
      ],
      "metadata": {
        "colab": {
          "base_uri": "https://localhost:8080/"
        },
        "id": "CwS2mv9I6mJI",
        "outputId": "502e5e17-1cae-4213-8385-ab9fd62d553f"
      },
      "execution_count": 20,
      "outputs": [
        {
          "output_type": "stream",
          "name": "stdout",
          "text": [
            "0.773109243697479\n",
            "0.775\n"
          ]
        },
        {
          "output_type": "stream",
          "name": "stderr",
          "text": [
            "/usr/local/lib/python3.7/dist-packages/sklearn/linear_model/_stochastic_gradient.py:700: ConvergenceWarning: Maximum number of iteration reached before convergence. Consider increasing max_iter to improve the fit.\n",
            "  ConvergenceWarning,\n"
          ]
        }
      ]
    },
    {
      "cell_type": "markdown",
      "source": [
        "ConvergenceWarning은 모델이 충분히 수렴하지 않았다는 경고이다. \n",
        "\n",
        "또 훈련 세트와 테스트 세트의 정확도가 낮다. \n",
        "\n",
        "따라서 max_iter의 값을 늘려 주는 것이 좋겠다."
      ],
      "metadata": {
        "id": "aVe8ILdi7Cwn"
      }
    },
    {
      "cell_type": "markdown",
      "source": [
        "모델을 이어서 훈련할 때는 **partial_fit()메서드**를 사용한다. (1 에포크씩)"
      ],
      "metadata": {
        "id": "EAjn8xa98Uvt"
      }
    },
    {
      "cell_type": "code",
      "source": [
        "sc.partial_fit(train_scaled, train_target)\n",
        "print(sc.score(train_scaled, train_target))\n",
        "print(sc.score(test_scaled, test_target))"
      ],
      "metadata": {
        "colab": {
          "base_uri": "https://localhost:8080/"
        },
        "id": "r6Hl6G6I8r6u",
        "outputId": "1cf61250-2fa2-4573-d513-b2bc9a1ae9a1"
      },
      "execution_count": 21,
      "outputs": [
        {
          "output_type": "stream",
          "name": "stdout",
          "text": [
            "0.8151260504201681\n",
            "0.85\n"
          ]
        }
      ]
    },
    {
      "cell_type": "markdown",
      "source": [
        "조금 향상되었다. 그런데 얼만큼 더 훈련해야 할까? 무지성으로 반복하기 전에 기준을 찾아보자."
      ],
      "metadata": {
        "id": "UaTJH55C83kG"
      }
    },
    {
      "cell_type": "markdown",
      "source": [
        "### 적절한 에포크 횟수 찾기 - **조기 종료(ealry stopping)**"
      ],
      "metadata": {
        "id": "UAWPAAll9Vcl"
      }
    },
    {
      "cell_type": "markdown",
      "source": [
        "#### 에포크와 과대/과소적합"
      ],
      "metadata": {
        "id": "kjzlqozO-yBE"
      }
    },
    {
      "cell_type": "markdown",
      "source": [
        "에포크 횟수가 적으면 모델이 훈련 세트를 덜 학습한다. 산을 내려오지 못하고 훈련을 마친 것. \n",
        "\n",
        "반대로 횟수가 충분히 많으면 훈련 세트를 완전히 학습할 것이다. 훈련 세트에 아주 잘 맞는 모델이 만들어진다.\n",
        "\n",
        "따라서 **적은 에포크 횟수**는 훈련 세트와 테스트 세트 모두에 잘 맞지 않는 **과소적합**일 가능성이 높고, **많은 에포크 회수**는 너무 잘맞아 테스트세트에서는 오히려 점수가 나쁜 **과대적합**인 모델일 가능성도 높다."
      ],
      "metadata": {
        "id": "Ip44taG1-1CG"
      }
    },
    {
      "cell_type": "markdown",
      "source": [
        "실제로 에포크가 진행됨에 따라 훈련 세트점수는 꾸준히 증가하지만 어느 시점부터 테스트 세트 점수는 감소한다. 바로 이 지점이 과대적합되기 시작하는 곳이다. \n",
        "\n",
        "따라서 과대적합이 시작하기 전에 훈련을 멈춰야 하는데, 이를 **조기 종료(early stoppting)**이라 한다.\n",
        "\n",
        "그럼 직접 그래프를 그려 조기 종료 지점을 찾아보자."
      ],
      "metadata": {
        "id": "N85yj-Gk_ni0"
      }
    },
    {
      "cell_type": "code",
      "source": [
        "import numpy as np\n",
        "sc = SGDClassifier(loss='log', random_state=42)\n",
        "train_score = []\n",
        "test_score = []\n",
        "classes = np.unique(train_target) # 훈련 세트에 있는 전체 클래스의 레이블을 partial_fit에 넘겨주기 위해"
      ],
      "metadata": {
        "id": "AZ3stbFzAVKT"
      },
      "execution_count": 23,
      "outputs": []
    },
    {
      "cell_type": "code",
      "source": [
        "for _ in range(0, 300):\n",
        "  sc.partial_fit(train_scaled, train_target, classes=classes)\n",
        "  train_score.append(sc.score(train_scaled, train_target))\n",
        "  test_score.append(sc.score(test_scaled, test_target))"
      ],
      "metadata": {
        "id": "Lx150evEBkv8"
      },
      "execution_count": 25,
      "outputs": []
    },
    {
      "cell_type": "code",
      "source": [
        "import matplotlib.pyplot as plt\n",
        "plt.plot(train_score)\n",
        "plt.plot(test_score)\n",
        "plt.xlabel('epoch')\n",
        "plt.ylabel('accuracy')\n",
        "plt.show()"
      ],
      "metadata": {
        "colab": {
          "base_uri": "https://localhost:8080/",
          "height": 279
        },
        "id": "hmJdsSG0CeAA",
        "outputId": "280329b9-b73c-40ec-d85a-feaeed778d6c"
      },
      "execution_count": 28,
      "outputs": [
        {
          "output_type": "display_data",
          "data": {
            "text/plain": [
              "<Figure size 432x288 with 1 Axes>"
            ],
            "image/png": "[encoded data removed]"
          },
          "metadata": {
            "needs_background": "light"
          }
        }
      ]
    },
    {
      "cell_type": "markdown",
      "source": [
        "파란색이 훈련 세트 그래프, 주황색이 테스트 세트 그래프이다.\n",
        "\n",
        "에포크 초기에는 훈련 세트, 테스트 세트 모두 과소접합 된 것을 확인할 수 있다.\n",
        "100번째 에포크 이후부터 점점 훈련 세트와 테스트 세트의 점수가 벌어지고 있다. \n",
        "\n",
        "따라서 100의 에포크 횟수가 적절해보인다."
      ],
      "metadata": {
        "id": "Y5jl-r1pC2pY"
      }
    },
    {
      "cell_type": "markdown",
      "source": [
        "### 적절한 에포크로 훈련하기"
      ],
      "metadata": {
        "id": "7HDhYrBdFW-9"
      }
    },
    {
      "cell_type": "code",
      "source": [
        "sc = SGDClassifier(loss='log', max_iter=100, tol=None, random_state=42)\n",
        "sc.fit(train_scaled, train_target)\n",
        "print(sc.score(train_scaled, train_target))\n",
        "print(sc.score(test_scaled, test_target))"
      ],
      "metadata": {
        "colab": {
          "base_uri": "https://localhost:8080/"
        },
        "id": "uw42opkKEOUZ",
        "outputId": "711facf0-014c-4d00-85b4-c441c759276c"
      },
      "execution_count": 31,
      "outputs": [
        {
          "output_type": "stream",
          "name": "stdout",
          "text": [
            "0.957983193277311\n",
            "0.925\n"
          ]
        }
      ]
    },
    {
      "cell_type": "markdown",
      "source": [
        "SGDClassifier는 일정 에포크 동안 성능이 향상되지 않으면 훈련을 자동으로 멈춘다. \n",
        "\n",
        "그래서 tol 매개변수에 향상될 최솟값을 지정한다. 하지만 위에서는 tol 매개변수를 None으로 지정하여 멈추지 않고 무조건 100번 반복되게 하였다.\n",
        "\n",
        "점수가 꽤 좋다."
      ],
      "metadata": {
        "id": "mVUiFJNyEiWq"
      }
    },
    {
      "cell_type": "markdown",
      "source": [
        "### 힌지 손실(hinge loss)로 훈련하기\n",
        "\n",
        "SGDClassifier는 로지스틱 손실 함수 외에도 여러 종류의 손실 함수를 지원한다.\n",
        "\n",
        "그 중 하나가 힌지 손실이다. 힌지 손실은 서포트 벡터 머신(support vector machine)이라 불리는 또 다른 머신러닝 알고리즘을 위한 손실함수라고 한다.\n",
        "\n",
        "한 번 이를 활용해서 훈련시켜보자.\n",
        "\n",
        "힌지 손실 함수는 loss에 'hinge'로 지정하면 된다."
      ],
      "metadata": {
        "id": "uQKZ2BvGFJSh"
      }
    },
    {
      "cell_type": "code",
      "source": [
        "sc = SGDClassifier(loss='hinge', max_iter=100, tol=None, random_state=42)\n",
        "sc.fit(train_scaled, train_target)\n",
        "print(sc.score(train_scaled, train_target))\n",
        "print(sc.score(test_scaled, test_target))"
      ],
      "metadata": {
        "colab": {
          "base_uri": "https://localhost:8080/"
        },
        "id": "U-MGn-dnGGe4",
        "outputId": "230e2ef8-1d32-4696-be0e-af9b8f48fc14"
      },
      "execution_count": 34,
      "outputs": [
        {
          "output_type": "stream",
          "name": "stdout",
          "text": [
            "0.9495798319327731\n",
            "0.925\n"
          ]
        }
      ]
    },
    {
      "cell_type": "code",
      "source": [
        "sc.predict([[240 ,25 , 30 ,12 ,4]])"
      ],
      "metadata": {
        "colab": {
          "base_uri": "https://localhost:8080/"
        },
        "id": "4Qy065GfGsqx",
        "outputId": "a83026e0-4362-4739-8259-c0dd33cadaab"
      },
      "execution_count": 35,
      "outputs": [
        {
          "output_type": "execute_result",
          "data": {
            "text/plain": [
              "array(['Pike'], dtype='<U9')"
            ]
          },
          "metadata": {},
          "execution_count": 35
        }
      ]
    }
  ]
}