{
  "nbformat": 4,
  "nbformat_minor": 0,
  "metadata": {
    "colab": {
      "name": "Classifying_IMDB_Review_RNN.ipynb",
      "provenance": [],
      "toc_visible": true
    },
    "kernelspec": {
      "name": "python3",
      "display_name": "Python 3"
    },
    "language_info": {
      "name": "python"
    }
  },
  "cells": [
    {
      "cell_type": "markdown",
      "source": [
        "## **순환 신경망으로 IMDB 리뷰 분류(긍정,부정)하기**\n"
      ],
      "metadata": {
        "id": "MzbeeGc0_d0l"
      }
    },
    {
      "cell_type": "markdown",
      "source": [
        "## IMDB 리뷰 데이터셋\n",
        "\n",
        "이 데이터셋은 유명한 인터넷 영화 데이터베이스 imdb.com에서 수집한 리뷰를 감상평에 따라 긍정과 부정으로 분류해 놓은 데이터셋이다.\n",
        "\n",
        "총 50,000개의 샘플로 이루어져 있고 훈련 데이터와 테스트 데이터에 각각 25,000개씩 나누어져 있다."
      ],
      "metadata": {
        "id": "ZnZQTqss_rcv"
      }
    },
    {
      "cell_type": "markdown",
      "source": [
        "### 신경망에 텍스트를 전달하는 방법\n",
        "\n",
        "컴퓨터에서 처리하는 것은 어떤 숫자 데이터이다. 텍스트 데이터의 경우 단어를 숫자 데이터로 바꿔야 한다. 한 가지 방법은 데이터(말뭉치)에 등장하는 단어마다 고유한 정수를 부여하는 것이다."
      ],
      "metadata": {
        "id": "gMS6_L1-Bfjo"
      }
    },
    {
      "cell_type": "markdown",
      "source": [
        "![image.png](data:image/png;base64,iVBORw0KGgoAAAANSUhEUgAAAwEAAACgCAYAAABUt2DDAAAgAElEQVR4nOzdZ5OcV5bY+f/j07vyvgqOAEGy6dpJGk1rekZSSLGhVey+2W8zH2f31XbIrDQr7Ug9PRJ7hg4ECRC+vM2s9O7x++JmJQAC4NAhy+T5BRHBSFQVnrqPu+fec8/V4jiOEUIIIYQQQowN/bQPQAghhBBCCDFaEgQIIYQQQggxZiQIEEIIIYQQYsxIECCEEEIIIcSYkSBACCGEEEKIMSNBgBBCCCGEEGNGggAhhBBCCCHGjAQBQgghhBBCjBkJAoQQQgghhBgzEgQIIYQQQggxZiQIEEIIIYQQYsxIECCEEEIIIcSYkSBACCGEEEKIMSNBgBBCCCGEEGNGggAhhBBCCCHGjAQBQgghhBBCjBkJAoQQQgghhBgzEgQIIYQQQggxZiQIEEIIIYQQYsxIECCEEEIIIcSYkSBACCGEEEKIMSNBgBBCCCGEEGNGggAhhBBCCCHGjAQBQgghhBBCjBkJAoQQQgghhBgzEgQIIYQQQggxZiQIEEIIIYQQYsxIECCEEEIIIcSYkSBACCGEEEKIMWOe9gGI0xcFEd1mH+IYwzJw0ja6ob/yc/HT6bddvK5PMudg2Ca6rp32IYnvKPRDAi/EdwPshImdsk/7kIQYcjsebtfDMHXspIWVsE77kMRAHMUEXkDghkRRRDKXkHfrORKFMf22S+D6pEtpDPP8nrszdeRxHBPH8WkfxvkTv+TP9+C7AYePyuw/OKK21yD0w2/9XPx06vtNdu/u02n0pH3PGa/n0zhqcfioTKvSOe3DOd9+4LNLvFrzqMXe1wccPanQqfdO+3DEM6Iwolvvc7xdo7xxTOAGp31I4juKo5jQDznerrH91T5ezzvtQ/pRzsRMQBzHhF7Ik0+2KK8f89afv0F2KjOMjKMwotdyOXh4RG4qy+RKEU2TEdMojOg1XfbuH7J//xC37RL6EU7aZuXdRabWSmQnM//gzwn9kNpeA6/n43Y8ivN5rIT1ys/FTyOOY8rrFZ58so2dsjEtA8t5ekuGQUin1qOyWaXfcln7cIlkNnGKRyye1ap02P36gNpOHd5dYGK5eNqHdC65HY/du/t4XR8n4zB/YwbnmVmVVrlN67iDlTBJF1Ok8slTPNrzo9voUd6sYictnJRNYTZ32ockBgI34Gj9mMrGMVEYMblcemEmsd9y2fh8GydlU1wskJ1IY1jGKR2xOBEGEa1Km907+1Q2q8y9MUMi7aCd01n8sxEERBB4IZWNKpu3drj8y1XSpTT64HoPvJD2cYeNz3aYf2Oa4nwew9LHPhAIvJDqTp39+4fsfX2IlTDRNE0FVUFIHH23YbUoinA7Lr1mH9PSicLoWz9/nUI/xOv7uG2POIrQDR07ZWMlTEz7TFyuP1oURoR+hO/61PebVDarNA6aZEppLMfCMHV0UycKYjq1LoePyrQrHRZvzkoQcAbEUYzX82mV21S369R26xQX8vRafTRNw7RNTMuA8X48fWeBF3C8XaPX6JMupZm5PAmpp3/fqrTZf3CEk3aYuTwpQcB35LsBvUYPv+fj9vxTPZY4jvG6Hv2OR+SHaLq6T5K5BLo5Xu/ywA3oNvrU9xsc79TRUAGb6Zjouq7e47qG3/fZ/fqQVD6JlbRI5ZMSBJyy0A9xOy7NcpvqTp3qTp1OtUMibWNYBqZtoBv6uQoIzkivKiYKI4JBjm3oh8RRBKgL3u/7NI/abN/exUqYrLy3RMKw0Qzt2R+hnJ+2/9H8vs/BgyOahy2SuQRXf71GupjETtoU5rLfI0dZQ9cHwUMYPTMl/6rPXx+349E4bHL0RE2RWkmL0mKBwlyOTOmMXK4/UuCF9Jp9WuU23XpvMDXco3nUQtM1klkHJ+MQxzH9Zp9WpU270iEMvmcQNob3xGsXqxdBs9ymWW7Ra/bw3YBuvUd9r4lu6qSLKdKF5Fh1bH6UGAJfra0I3OCFlNDWcYeD+0fYKZtUPsnU2sRLfwYg1/ozNE1D0zSiMCIewQAO8NLzEMfq/d44bFFer9Jr9TBMg+xEhvk3Z0hknOff5RdZDL2WS/2gSbvawe246LpO47BFFMbYCYvsdAbTNoYjzqEf0mu5gz7Rd/s3ALkXXgOv59OqdGgcNOm33eG7QK27sUmXUthJC0M/P8HamelVabo2fGnGcfxch1M3dLXwYvBAC72AOLbxuh7NozZbt3epHzTxuj6mYzJ/fZqFN+fIlFIXOnKOYzWK5qQdkrkEU2sTpAtJdEPDSlgvXWgUx/ELnRMN0HQdYoiCmHjQ+K/6/Lv8zDhWI96arr1ysWvoh3TrPaykhWmbNI9arH+6ze7dfayEiWGZWAkLvx9g2SaZUvr7N9IZVN44ZuPzHSrrxxzv1HE7Hk8+2WL33iGJtENmIsXlX6wyd30aGLTld5jV8Toeew+OOHpSoX7QJPIj0qUUkysl1t5fIpF1XvevdmbV9xocbRxT3a7Tb7ugQXYyw8Kbs8xemRp+3cl1qxZse9hJS81EDdK0vJ5HdafO7b+6R2WzOggCQh5/vMnBozKaprH8zjxrHyyTn81emNmr10oDXdMGnZYXr3Pd0NFN1SkazkbGcLxd4+BhmfLmMW7bQzd0CnM5lt6aY/ba9Eh/hbNI0zU0XSMKom+dFX72+R3HMaF/8o6NsVPPF4NoV7v0W31y01ksxyQMQmp7TQ4eHlFer+J1PayERWEux+VfrpCZSON2PB787WN1v7RcEhkHXdfo1HrkpjOq6MQYLKo/Sd998vebPPhonU6ti9fz0ND4/N9/hemYpApJ3vgnl54LdOM4Jg4jvm255Lj3hV4l8EJa5RZHT46pbNVwOy6GZZCdzHDlV6tkSqnnru+TPkkUxZi2oa7VZ2aqdu7sc+9vHtM+7tA+7uD1fb78q6+xkhaJtMPc9WkW35pn+mUDFWfUGXlDaYNRC5Vv1a50cJ558bpdn26zRxxGRIGaMSCOqR+02Plqj/0HR/h9H2Lwyj6aBoZpsPLe4oW98Lv1HsdbNVqVNl7Px3JM2pU2gRtgmDrJXAIn42A5Jl7Pp1luq78PQhWx5pPkZ3OYjkpb0HRNdYCC6LmRhJd9fpIO8W0/03cDjh5XsJM2uanM4GXyNBgIg4huo8fGrR1KCwVKiwWOnlSobBzTrfdYGKS+GJa6EQ374pxH3dCxHBMnrdYBaLoK2pykhZVUqSTPthVRTBhEuB2PVrmN7waYtoGTdnDS6uXpdT3qB022vtiledTCHyw06zZ6dBs9JhYLGJY+dms6VIWrHnsPjtj5cg+v5xMFEbplYJgGfv/pgrzAC+g1XY63qrSOO3hdD9M2yU6myc/kyA9yqjVdw05ZWAkTr2sQhTGWYw07MoYpqUDfl6ZrhL5a+9U4aOE/k77SbfTVMx/VkYrCiH7T5fBxha3bu+qcDoKDZrml8t/nctgp5/n7aMw8nQmInxtECNyAftultt/A66p2TmYT5KYzJLIO7eMujYMmft9n8a15nIwNMbhdj8NHZWp7Da78cpV0MUmv5bL1xQ6VLZXOhQbtaodOvUtuOjN8V2ze2iUKI/KzOXJTGfXMc0wMyxi7GTPTVkGPWsOnfn87pQbCLEelAmnPPEDiKMZ3A1rlNr2mSjlMZh3MhDWsSjPOfaFXCYOIbr3Lxuc7HG/V6NR7xHGMaZuDdNtBYBVDGEY0j1rU9uo0D9tEUYw1CMpKiwUKszk0XcMwDTUwlLTQTR1d17DTNnZCvQ9UwHDav/n3cyaCAG3Q2URTeXAHD8u0q93hRRv6ak2A7wYqbcgLieOYgwdHPPgfT8jP5rj8i1VKCwW2v9rjeLvO+mc7zL4xTSJzMUc/yxvHPPponcMnxwR9lVvePGphOiaJjMP8m7PMXJ4kO5GmWW5x7/ePePA/n9BveRTncyz/bIF3/vkNMpNqdF039KdrCb4xC/PNz9UU2Lf/zF69zxf/z111bn65wuRyCd14erkFbkB9r8nn/+Errv56jUwpxf79I+IoZvX9Jd7+i+ukSykuotmrU0xfmsTrenzyu9s8/J/rvPXba8xdnyE3lVEPF0MfduTjWJWTa5Xb1PcbtCptUoUUM5cmcVIl0FTKxN79Q3bu7DO1NsGb/+waTsbm4Ufr7H19SGWzipO2yc+OVxBwUuFq/ZMtDh9VuPZPLpGfyeKkbOyUTW7y6exSf1B84NPffUmz3BqU8QuZWC6w8t4i7/zFDdKlFNOXJ5lcLbH5+S7rn2zRLLe5/MsV3viTyxAzzA0V352m63g9n069x/aXe8+lMh5v19S6pEGKROAGlLeO2b27T22vwc0/u0ZhPo/bcfn0d19S2awytTbB5EoR3Riv6/1ZJ+9VNYPy9KHea/U5eHDErf90l+pOHYD5a9Nc/9MrLNyco7JR5fHHm7SrHYoLBeyURRhENA9bPPl4k737R0yvTWBYBs2jNl///hHZyQyXf7nK1GqRna/22flqn717h4R+iGGZ1A8aXPpwhQ/+zTskc85YlsPUDZ10McmNf3aV5Z8t8PXvH1HZqGJYBh/827fJTjwNjjRdo77fBAYzky2X3XsHhH6EYRnMX5smN53FGMzujnNf6FX8vk91t8GX/+UedtJm4c1ZSosFTNvATtokcmqQIIpj/L7Pxmfb3P3rB7SqXeIwwrRNEhmbt//5DXJ/cR3d0ln7YIn5GzMcPixz568fUNmu8ev/4wOK83k07em5O0/ORBAAT6cuAzfg8HGF+n5T5QnGaoGq1/VVvuigPJPX9ek2VD7uwpuzzF6bxnLMQRqMxkWvNWeYBmbCwnZMiGOshEkyn1RtkLSwbDWa3Gv1uff7R7SrHZbemidVSNEst6hsVtm5s8/8jRmspD0cNVLNNmg7TXvp59/lZ56MHPluQBREeF2Prdu71PYa3PjNVRJpGyupFjIHboDb8zEsA7fnU9mqcvCoTH42RyJtk8wlLtToqqZp6AYq5cnU1e+la+r/dY12tYuTstHNk+pYMe1Khy/+013slOrUeD2f6naN5Z8tMHdtml6jT6vSITORZvrSBFNrJQIvxLLNsRtpe5ZaN1NGN9QD/NIHy6QHU8CGqRbhgUq32rt/xKOP1kkVkqy8u0BhLsfxVo3yRpXDB2Xcf3SJVCGpUtwMHdM2MGyDmKcpi27HI/RDotDAcqxz90I4FYNnjN/3aR62iEPV0SFWCYi9Rh+365EqJFVA7IfU95qAxuRKiZkrUyRzCWp7DXXPaEipaZ5PsT1xMnj28I8bZEppNThj6pTXjzl4WMZJOxTmc2RKKY63a+zeO0Q3dZyUzfZXe3j9gKmVEulSmsANaJVbGJbBxHKRxTdnsVMWdtJGG3TydVNVPNM0nfp+k63bu5QWC6TySZyU2rtg3O4RXVeFH0zHRDM0YmJMyyCOY/zBTKX5TJW44+06zaM2lmOqRaeGxs5Xe1z51SqXf75CHMVj3Rd6leZRi8rGMYmMw+LNOa7940vYSQtN19ENDdux0DSNfqvPk4+3qGxUSZdS3PjNVeyUTbva4cHfPqFx0KRx2CQ3kxsu/DWdwag/YBhqRiAKIjr13rAa13lxNoIADXRdpQOphXVJUoWUGk2L1VRmr9mntt8Ank6PnZSubB93KK8fE0cxjYMmhmmoXEPz4o7GpQpJJpaLtCsd+m0XJ+0wfXlykGKik53KoOk6nVqPw0cVcjNZ1j5YIjuRZuPzHba/2qO+36Qwn6eQtAcvjOf/DbUm4PnPAy/4Tj8zmU0QeiFREBFFamONkz0H1j5YUik+g5mewA+Jw4jSYkHlNpbb7H59QHWnjp20yM/mKC0UyE3/w+VOzwtNU1OLw3zDOB5MX/bYHKRITa6UVOn0KB5MXcYkcwnspE1ls0p1t4Fhm0wsl/B6Pt16j9ALaB212b9/hNf16Db6JHMJkvkEZuJs3O6jFAYRzXIbTdMoLRUpzudJ5p+vsBSFqnJJdafG8U6dq79aZfW9RXLTWQAqWzWa5TbdZp/sVKA6LpqGburqGh6kWkRhTGWrRhREJLMOEyul50q+ipc7ec6cbEiYn8liJazh2jDDMuCYp3nroer0uB0XULOipmXQqnQwTJ1UPkky66j1TONM0wbPb5XzcJKaU9trUt9vcv1PLjOxXCIKI2p7DTr1Hq1ym4nlIvnZHMknx+zfPySRVulV+w+O0A2duWszJLMO3UaPXrM/LGxwtF4hjqG230AbrLnJlFKYlsH02gS+67N374BWuYWTckjmE8xcniJVTI7XfaKpQOAkFTSOYjRdp1vvUdtrYDnmMPUQ1EBGHEUU5nI4aRu/H7B7d5/8TJaZy5OYtjnWfaFX6bdd2tUudsqmMJdncqX00q/z+z67d/dxuz7Ta5OsfrCEaRkcPTnmXviITq07HGDDVufsJAg4odq+S/2wycRigelLk6P6NX+0M3PnnaQDJXMJbv72DWavTQ3LIYZ+SHmzSmWjOhg1YjDaFtGpd/n03305fJFYjsWVX6+x8t7iuYrGvq/SYgEnbdM+7tKqtEkXklz+xQqZZ1Jo2tUO7YrKIZ9YLHD112sANI5aVHfq+J4/3KREPxk1+kYg8M3P+233u/3MbEwUx+r74ph+y6VT69Kp9fD6Kof35KUeDUb+Vt9fxLB0+n+/xc5X+3RqXaIworRQ4K2/uE5u+srrbdQROxlR1g31Iui3Xfr7TT7/919x5Ver5GeyxJFakJ3IJXjrz99g4eYcdsLkySfbbN7aofykQjBIk3M7LuWNY3buHAz/jeJ8nqW355lcLo1nacVBcGU5J/m2L35JFKp0w061i6bB2gfLTK4UcbsebsfDd32iIKRT7+EOFj7C09H/OFIdLLfjsf7J1nBPjexUZrw6Nz+CpmukiymK83ne+9c31Qt3YPPWDk8+VmlX6nGizmlz8MxZ/3QbADtpMX1pUuXwDqbnx5k2GFw7GcUJA3Wd95p9LMdk7YNligt5WpU2hdkcvuvj9jw0TWNiqUjjcosnf79JImUTxzGVjSqLb8+z9M48dsqiXVUpul7H4/4fHnP/D48BSGQdZi5NMvfGNBNLReIo5vo/vczmF7vsPzhi69YubtcjmU/yi3/7MxZuzmINAu6xoaOCAE0jDEKIobxR5dEfN0hkbC79fIXifB5Q6zWmVkv8/H9/l+xEmupug/q+CtqOt+sUZnNj3Rd6lSiMiUK1wPeVO/rGELhq46+J5RIr76tBzW69R7/tqud616NT7aoKiajbybCMQaq0Wk/QOGyx89U+W7f3eONPLkkQ8H1paMMR5zhWI58vzOZGampY0zT0wWJRJ22TKaaYf3OW/EyWVC6JnbLJTKRIZhNjsShMG3SyVQnP5xtN03U0Qyf0Q/ptd1hurLpTp1VpM3ttmlQhqRYAv6y27Us+/64/U9M17ISlOqbrx2iDahDBYMFw5Ef0Wv1BB80ikXNwkjbz12fITKTx+wG13Trl9WOO1qv0mv2XViE67wxDzQS0yh10Q+VFh4GqqqQZ+jCv92R0KJlLQByTn8li2gaNgz6hH2AnLbJTGbr1Hvm3skxfnsRO2pi2oWYPUuOZG23YBsX5PMfbNTZv7ZCbzlCcyxNFEQcPygSeKkObKaVVOqIX0jxqEYUR7eMOm1/s0Kl20U2dymaV3FRmWKVKBXA6/Y5Lt96jU1UVI9TfPe18BV5AY79Fv+2i6RpTa6WxW6D9rTSGwVkcvaQGWawebfogZVQ3ddKFpMqJtgwWbs6RKaawEhambVBaLIz6NziTNE0bpOVo6o+mDdd4qfUXXQxLpekcb9XIz2QpzhcwbIP8bI756zOD3P4javtNnLRNaaFAdjKNYarFrZmimrFffGuOhRuzWAmVhpLMJVSZXF3DtAym1iZI5pMsvzNP4IVsfL5Def2Y1nGHfssdzrqNC03TMGxDFS5o9OjUu3SqHbr1Hom0/dw7N1VIUpjPY9oGmq7SELOTGXRdp9fsM7U6IX2hl0gXkmSn0hw8OOLgYZnCXI7cdJZeQ2WV1PebzF6ZIplXe1V4XY/GfgPTMjh8XFaDC5pGv+VytHHM0jvzkFXnzrR0jEE/qHnQwuv7tI47qo/yzLkLg1B9/7pKSyrMqtmcs7Qm5kwEAer5pKlcOePF0Wg4GTXVMCx1E1gJk9xURi30sIxhnp3a4Mqja3VJFy/45hqa6oigaS8tAWfaBk5G1ZxvHLZ4+NEGoR9Q329ip9QDPZVX9cwNy1DR7TPlsF72+Xf9mWEQUpxXo0x79w7VQte+j52y2Pv6kPp+kzgGJ31SW1c9+NyOirrjGEI/AjSclKU2X7qA7JSNnbKobNfUQySKMSxVc9gwdTRdH6z/MElkVbWnwAvVOgnLIPBCojAmlU8ysVikcdDCsE20QQc18EK6zb4qGWebF/t+eAnLsZi9OkWv0eN4u8bGZ9tUSlVioLJZJZVLMLmiOuWpQgrLMVWJ2qSF3/OJIyjM5TBtk+PNGhOLBWYuT6LrOnbSIpFNEAURR+vHRFFE46BFYS5HqpAavnj9XsDO3X0aB02shEVmMo1pn78FZK/LMDVu0F7fbBVtsF5mmI9rGZQWCjSPVGW0k2BM09RMpdvxCNxw0Gka3zbWTX1wz6v3qq5r2ClbLRDVNLZv72EnLXrNPqEfkplIU5jLY1oGdsKiOJ+ntFhg7/4h3a0eizdnKS3kh6PKTtohN50lM5FRudaDEdI4Uul1vWZfpc4lLNyuR7/VV6Org1eVYRsvpFWMC93Qhxuldes9Nj7bpr7fxO24JLIJnMGgjaZrOCmbdDGFYRiDaj86iWyCcLCvkmEZ0hd6iVRBvRN3cvs0Dps8+uMG2akMbtujXVXv2tJCnuxkmuJ8gV6zz+7dAxpHLdrVLmEQMn99hk6tS22vQbvaGVYqtJPqvR1HMTt39vHdgPax2jTMST6ddXHbHsc7ddY/2SIzkSYKIqYvTUgQ8DInIzzmYJrl2QFf9XcGpmU8XfBiGkyuTtA67nD3rx/i9XxM28DteEwsF1l7f4n8bO5Cj7hpqE66rmsvXfvjpGzyUxkmlopsf7nLw4/WAZi+PMmlD5eZWiuRKiTpt13spImdsp5bTKbp2guff9ef6XZcFm7Oce9vHrHx+Q52Qm36VVrIs3lrVz3sMg4r7y0yMXh4uW2PB3/7hM//wx2iKAINUrkkl36hpq0v2iwAqAdVppRm584+bsfDckxKy0XSpdRw59lh6bhhcMZwivPks9xMliiM2by1w86dfZ58somuqRdBdjJDuqBGSsftRWCnLFZ+tjAsiXj7r+7h99Ui9Nx0hjf+5DKz16bJFFNMLhc5elLh3h8eq3KGMzmu/8ll8jNZ+m2XT373JdWdupo9cNRoZ34mi2ZobHy2zZOPN9E0jelLE+qaHuwR0O+4PPq7DQ4fV8iUUqy8t0gyl5BUoQFNUzm2rwqMdFPHSlrYntqV00pYzF6b5ninztbtXb76L/eGC4GjIOKtP79ObipDqpjCGOMgwLAM7JSFkxrsQj6oTlOYz+OkLD7/j3fw+z6JjMPSO/PMXJmkOP80Fz2RdVj+2TzdRpfqdp3Ft+cpLhSe+/viQp7pSxNsfrGrnvMpm9ALcFI2b/+LG6y+p2YiH//dJk8+3uTwcQVQgz9TqyWm1iaeS/0aF4apq8IXWYdWtcMn//dt4jgmP52luJAnXUypASFTPf/VvaG+92QwjjhGH6SUjntf6GXSxRSzV6eoHyzy5ONNPvv3XxFFKjW0MJfn5p9dIz+bw07brL67yP2/fcz9//EETYOZy5OsvrfE2s+Xuf+Hxzz++00qm1US2QTFuTyJrDPMovj6vz8kDCKS+QTXfn3puaqG7WqH/XuHPPlYBQEaGoW5s3UutPgMlVGo7tRplttMrZZIZJ3hYpY4VnXQDx+XSeWSFOZzGJaB1/VoHXc43qzRa7tqVb1lDOt65wYpExdV4AXU9pq4gzSD6UsTL1xcgRuo7a1367QqHXRTJz+dpbRYIDedHZbd69a7w5rR+dnct37+XX7myTRn47BFZ1Du9WQarH7YJPRDleIykyM3nSFVSBIFkarGsllVIxymjpO2yU1nyU6mL2ROe6eqRhmOt6q4XR/D0inOF5hYLpKdTNNvuTSPWrhdj7k3ZrCTasFk4IbUdut0al3mr89gJS28ns/xZpVWpUOv1SeKYjVlP5Fmam1CjWKM4ahbHMW0Km11Lda6hH44HIlT15baobMz2LX5JPVMzTaqTZECP6SyXiU3nWFytYSu64SB2snz8FGZxmELt+ORzDlMrZSYWCmpvTF0jV6zz+O/26Bx1MZKmNz40yukS+lXbqI3bsIgolPt4nbVQt/ifP65TdZ6zb5a9O6HpIopMsXUYAfaJtXdBp1al8AL0HR1TicWCxTn8xj2+NWgf1a/7dJr9gn6AalCctg5aZXbw+d3GETYKZuJJVULPV182oEJg4hurcvxtqqxvnBjhnQxPayoBeodVN9v0jho0jruEPrRoL56gtKiGswwTIPGQZP6QZNOtQuamt1Nl1KDtW3j91w6KT9c3VHVx9rVDqZlkp1IM3ttitQgCDh8XFHpPxPq/aebunr/7taJI7WZW24qo0pIj3Ff6FVOdvRtVdoqHdlT/Y5kXg3gpPJqhqRb79GutOnUewAkMmr2JV1M0Ths0Sy3mFgqkiqkhu/g+n6T8sYxjYOWKtqRdZhamyQ/k1Vpu6g9Tqo7NRUElFLMvTEzmHk+OwNAZyoIiON4mPv5qr9/oeRZFOP1fbyuT+gFKr0iaT1XYuuiOtndMQoiIH5lubU4VotO3banyr2l7VcvFIp5eSnOb3z+XX/myaLJk5kElY/qqfM82DTr+Ry6iNALCfxgMAryfIrSRRT6Ed1Gl8AL1QLJQvLpqOigRG4cxS+0QxSqikG6cVJhaFBOt+fjdj2iIMJJOySyjnQ4efrijaMIvq2m88mmeHxjJ1UvRDvZvfzkSwefn6RcJXMOTsp+7vlz8iJyOx6artT22tEAACAASURBVFFaLMgswDfFqr2JeXUKzzefQZHav6TfdtW9o2mkCkmVBnSBnxff2zef6bHKVe7Ue8SR2jzplbX7Y7VLtu+FJLPf8jV99cwJ+r7aPXVQ/W14/0Rqr5PADUHTMB1DzhPqfef3fTrV7nCHWjtlDzbpVFXhNF2lSg/P4eA5D4N1H/rTNh7XvtA/JAoj1bfww+E+Lq+69r7Zz1QVDiMM8/n0wpNrul3tAqrkdyqXfC69LQoj+h2P460qibQz3Dj1LKUpnqkgQAghhBBCCPH6jdccnBBCCCGEEEKCACGEEEIIIcaNBAFCCCGEEEKMGQkChBBCCCGEGDMSBAghhBBCCDFmJAgQQgghhBBizEgQIIQQQgghxJiRIEAIIYQQQogxI0GAEEIIIYQQY0aCACGEEEIIIcaMBAFCCCGEEEKMGQkChBBCCCGEGDPmaR/AdxV4Ic2jFv1WHzSNqdUSVsI67cMaG9L+p8vrehw8LGNYBtnJNOliCsMyTvuwxoa0/+mJ45h+y2Xz1i7ZyTTTlyYxbQNN10770MaCtP/p8t2ATrXL/v1DigsFZq9OnfYhjZVOrUv7uIPb9clNZyjM5k77kH5S5yYICP2Q2m6dZrmNYRoU5/PSCR2hwAuobFZpH3cwbVPaf8S8vs/2nX2SGQfd0EnmEtIJHSGv57N5a4dkPoluzEr7j1AcxfSafTY/32bm6jSlxQKGpaMhndBRiIKIbr3HxufbzEr7j5zf82kctlj/dJs4iiUIGLF2tcvBwzJu10M3NAkCTkvgh9T2GjQOWjgZh9APT/uQxkrgBhw9OaZ93CEzkZb2HzG/H7B/75DcdJbSQoEoik/7kMaK2/XYvLVLcSHP5FJR2n+EwiCi33I5fFIhmUsSBhFI849M4IV0al0OH1VISfuPnNfzaB41OXhUZmKpeNqHM3Za5Tb7948AKC0UTvlofnrnZk2AYepkJzM4Gee0D0WIkTMsg8JsjlQucdqHMt6k8zNyhmVgJUw0TSOWE3CqpP1Hz07apPIpdEOX9j8F6WKK0mIB076YM7/nJgjQNA3TMdF1jSgIieVeEGNE0zTspIVu6IShjMSJ8aFrGrqhg6YRxxCH0hUS40M3dQzbQNOAWK3REKNj2gZO2r6wa2DOTTpQHMcEboDX9wi9UG4EMVbiOMbv+0RRROAGcv2LsRHHsbre45gojAiCEBkFEuMiCiNCXw18ntwLGhqyJGM0wuDknXvaR/J6nJuZgNAPaZbb+L0AK2GhaXIHjNJJJ1TWApyO0A+p7Tdx2x6mY8r1P0JxHBNHsUzFn5LAC3E7HnEUoxs6pmmAXP8jE4URgR9J4HVKvK5Hp9YlCiI0TVPPfrn8R6bfdmmW2xe273NugoA4inE7HmEQoZuGvANGLApj+m0XTYNkLqGm58XIRKFaHBl4IYahy0tghOJIjUATg+mY2Gkb/YJODZ9Fz46EahpohtSlGaUwCPFdnziOMUxd5UbLC3hkAi/E76n2R0MGgEbM7/l0G32i8GIGwdKTE99JFEZ0al3MhKVKxF3QRTJCfJOaDlYpiImsQ246i2HK9S/GQ+AGeB2XKIwxHZNExkE3pCMqxkPgB/h9nziOTvtQXotzEwREYUS33qV+0KR+0LiwUzNnVRzFeD2f8sYxO1/t4/f80z6ksRFFMVEQqU172i7NSpsouJgPpLMoDmPCIIRYlYs7elzBd4PTPqyxEXgBbtcjjiI1KlfvqZkZMRJREA+D4H7LpXnUkvfvCPluQK/lDmbEIvx+QCwlikfG6/o0yy2qO3W6jd5pH85P7twEAZquYafs4YNI6nSPlqZrJDIOgRvSkJfAyGmGTiLroGkaXseT63+ENENDH4z8ux2PdrUjndAR0g0dwzLQNI3ADwejcnL9j4ph6Wodnq7huwH9wfoMMRrDErm6RhxFhEEoq5NGyHRM7ISF1/Uu5ODPuQkCrITF3LVp8tPZ0z6UsWQ5JtOXJslOpk/7UMaOrqvyoMX5PKmC7BMwapZjksjYsg7mlCQyDrnJDLop7X8aEtkEuemMpMCdkkwpxeRKCdM+N8UcL5T8TJa56zNYCeu0D+W1ODdP1ZN9AuJYpaWcpEcIMQ40TcNOWIR+RLfRk3SgU2KYOpZUZxopTdNUjW5Nw+8H9NvuhV2kd9bpho5pycLgUXo6EwaBH+L1fZmJGSE7YZHMJtAMDQaV4i6ScxMEnNSI1jQNw9QHdaNP+6DGj27oGDIidwpiwkBNBYdBhFz8YlzEDPYJIH6mUpNc/6dBuv6j92x1sjhSa5Tk+h+dOFLPHcPQ1a7lUXyhmv/c9OaiKKbX7KPpGqlCSp2Mi3QmzgmVH6qmJaX9RycKIjr1HqEfyT4ZpygMInzZrG2kolAFwMSDmRjbBCnReirCMCLwZbO2UQq8AK+r1oHphjZcHyNGo9d2aR13MEwD3dQH6/EuzvV/7pLM3K6H23ZVvVx5EYxcr9HH7XhqVkbGhUZOOp+ny+v59Bp9WRgsxlLgBrhtKcwhxkfkh7gdl3a1g98PMEz9QgVh5yYIiKNY1Svuenj9AGLZNGOUTnYMdrsehmWogSBp/pGJ4xi/5xP60vkctWd3DD6ZmpdYbHTiYYnc0z6S8RT6oSpLGUs61mmIwojAk9mX0+K7Af2WO5wBvmiDz+cmCIjCiG6jj98L1OKMwR8JBEZjmI4SRCRziQt3I5x1YaA2a5PrffSeS0exBguD5fofmfCkLKiMPp8Kr+fRbXSJggjd1DFtuf5Hye/L7Mtpcrse3WYf0zIwrItXIet8BQH1LnbKIjedVXnRMhQ9Mic7BqeLSZbfWcBOXsxyWWfRs5uFpUsp2bF5xIYjoVFMbibLzLVpLOfcPDrPvWc3C0tkE2Rlx+aRenazsFQhSXE+fyE7Q2fVs5uFWYMdmzXZsXlkvK6H1/WYuTJFYebilag/NwuDQS3FcFI26WJKVaiR+2Bkokilozgph+JCXpWJE6MRP61GYCcsUrmE1KwfIZWOEhLHkMgkyE1lpELWCMVxPBwFNR0DJ22jy0j0yERRNFwDYycskvL8Gak4jIlCtWO5momRhcGjFEUxmga56SzJXPK0D+cnd26Gs3RDJ11IqfJY4tRIdY7R0zQNXUZ+zgSpzjF6Upv+DJGCHCMnKViny7AM7JSNnbQu5IaF5+Y3Cv2Q+kGDwycVyusVAu/ibd98Vp1UpLESJp16l4NHZYILuH32WaUWhgXEMXTqXY536oReeNqHNZa6tR7VnZoqkyhGInAD3I5KB+q3XFpHLcJA2v80eF2fTq0n1bFGyO/7w3SgwB1slifrA0YijtSeDF7PZ+v2LrXd+mkf0k/u3AQBAMTgdTw6td5gwyQxKpquYSUt+i2XylZVgoCRUytgvJ5PryklKkdJ0zV0U+3Y2W30qO83CSUIGBlN1wbpP9owIJBO0OgYpo5hq+vf7Xp06l3ZsXyENP3pTHAYDCoFyfU/MpquE0cxtd0GnVr3tA/nJ3duggDDMijM5knmE6d9KGNH0zQMQ8dO2rhdj/peU0ZCR8iwDKyETAeflmfbv99yaR61JQgYITtpkyokJQ/9lJgni1F1Ha/r0a12CWUQYmQSGYfcZEYWY58CTdcwbQPLMfHd4EKW6D43T1VVIrSL1/WH9bpl46TROakO5Ha80z6UsfNsdaBhuUS59kfm2epA8QXaKfK88Hoe3bpKQQmDCN8LZCR0hNQGYSodSy7/0eu3XVqVDmEQEofqHSDP/9Hxuh6dWlftD3MBb4AzGQS86gKPGSzMOykP95Ivk+Dgx3tZG55UBwJePSodq/0EpJ73j/Njrl+5/n+ck/1HnvvsmepAhmm8cp+A4aZi0v4/2I+69l9y7sR3d3L9fpNKQVFrkvRhapD20u+V9v9xXt33iRn898rvk/fuj/NtbahpGnbCemVVxPPc/mcvCIhf/jA/qQ6UzCexk9YrX8KhdEJ/lH+oDYclWl8yNR8NdhWWVIkf4SXXv65r6IOtylVqivXS6jRy/f84w47Mt3Rm7KRFMv9iicQ4jtUoXRBK+/9Aw+v+G833bDqQMaiU8s3qZN/l3IlvF0eD58e3tJ/pmDgZ54USrep71Ui1tP8P86rr/9l0oFdVJ/su5058u1e1oZ2yyU5lyE5lsFP29/re8+BMlQh1ux6NgxaP/rjO9KUJVt5dUjVxn3ngpPJJkllHjcY9cyO0Km3K61XWP9tianWC1fcWSZdSsqnM99Cpdanu1Nm4tcPctWnWPlhGN3Q07enC4EwpxdLb81jf2CysftDk8FGFrS92Wbw5y5Vfrb1w7sS3qx80Od6q0ThoMn15koUbsy+0X7r44mZhcRRz8KjM7p0Dqjs1Vt5b5Mqv1obnTnw3lY0qh4/K9Nsuc2/MsPDmLKBmH08WBuemMsxcnsJ8ZrOwOIo5eFhm9+sDWpU2K+8ucunD5dP6Nc6tva8POHhQJjORZmptgtJi4YWvSWQT5J7ZLCyOYgIvZPurPXbvHgCw8rMFln+2MNJjvwg2Pttm584Bc9emmb40QX42BzAMvDQNktkE+eksuvWN9v9yj/0HR2Qn08xdm2ZqbeI0f5VzJY5Vuu36p1scPiqz9uEyxfk8yeyL6x+/uVlYGIR0ql22v9qnslllam2C2StTL713xMsFfkjzsDV8fr/5m6tkv7EGw7QNCnN5MhPp577X7/uUN6rs3j2gU+vy1p+/QX42d642kzxbRxqD1/c5fFyh1+pjWAazV6dx0vZglDPEsAwS2cFInHbyEAo4enLM47/bYOv2HqZlqpfA+QvKTlUcxbgdl6PHFeIwIl1IMbFUwEqoDr9h6lgJCythoetqJDQKI3rNPgf3j3jy6RZHT47Jz2RU/igSgH0fcRjTb/XZ/mqPftvFckxKiwVM2xzmo39zs7CTl8De14c8+rsNurWuvAB+oNAP6dR67N07IApjUvkkuenMc1+jW8ZzAxCBF1Dba7B1e5etW7uEYcTUinSAfgjfDWlW2pQ3q7hdD8MyyJRSqjSiH0Icv7BZWOAGHK0fs/n5Dttf7pGbzjJzefKUf5Pzyev51PYa9Fuq+pidsnHSz4986oY+GIl++j179w558vEmR0+OWX5nnsnl4ikc/fnXa/Yprx9DDP5bc8xencZOWk9LREfxcLMwUDMHbsdj584+T/5+k9p+g2QuQbBSOuXf5JwZzCI2j1rs3TskU0qzcGOWwnweXdfUmrwoxnLM59KBvK5H/aDJ+qfb7N7ZJwwirv6jS+duJvhMpQPZSYtsKUV2Is3BgzKf/O42jQNVji8KopemmqgFqz22bu9y/388IQxCUoUkmVL6Qm7s8Do5GYf8TI7cVIbjrRp3/vo+7ZMFMYML+2S24GSfBt8NKK8f8/jjTTY/2yGVc0gXU+imITs6f0+ZyTSlpSJe12f9s22++q/3nlsQ+bKg1u8H7D84YufOPtWdOpmJ1GAGTGYBvq/cTJapSxN4PZ+dO/s8/vtN+h2PKHy6JqDf6tMsP61T32+5PPjbJzz64wbVvTrFuRyZyfQ/8C+Jl5lYKjB7dZqDB0c8/GidrS928Xo+gRfgdV9eFrTXdrn3N4/Y/GIHr+czfWmC3HT2FI7+/JtcKbHw5iw7X+2z8fk2td364N0bD9cE+IM69SdpP+1qh0//3W0efLROv+OSm8mSKly8XVVfJ01TA2zF+Tz52Rx3//tDHn60TvOoNSxK0Gu5RNHzlWniKKZT63H3vz1k+84+URhTWiqSKaVO6Tc5nwzLID+bpTCbQ9c17vx/D9j8Yhe/76t3rxfgtl069R7eYF0kQKvSYfvLPe7/zSMaRy0yE2mctH3uqjidqZkATdNI5pO89RdvYKdsdu8e8OV/vc+VX66Sm8pQ32sQhTHF+TwA5fVjdu8esHf/iE61w8L1GS7/ao2FN2cHnSDpBX0fhmWQncpw87dvcO9vHrH39SH3fv+Y1Q8WsRPW0xtgkLe+/+CI7dt77N07xOv5LL0zz5VfrTJ7dUra/wcwLIPCTI4P/td3ePg/1zl4WOHhR+vMXJ0mCiOiwW7ZcayqBW1/tcfm5zscPqqgGxrX/+Qyyz+bZ2pNRkJ/CCdlM7lc5OZv32D79h6bt3bIz2TJz+YI/EjN28fq5ev3A/a+PmD9k2327x+RyDosvzPP8ruLTCzJSOgPkcwmmL0yyTv/4gZ79w95/PEm+dkcmq7RrnaHe2NEQUSn3uPgYZmtL3bYvXtAYTbP4ltzLL01R34md8q/yfmUncqweHOO9nGHxkGT2//vPd7/X97G7/v4g5FoUNVpGkct9u8fsvHZDrXdBnPXprn04TKLb86RKkgn9IeYWCqqzAY3oNvoc+evH/DOv7yhzsdhk2hQnjJwA6q7DfbvH7L7tUpDWX1vkUsfrjC9NoHzirx18XKaporNLL41h27ofPrvvmTr1g66oXHlV6sEXojX94frjXrNPpu3dtm9u09lq0Z2KsPc9RlW3l0kO5Ee7ulwXpypIABNzQbMXJ6i2+jTa/Q5fFjGMHRKSwWa5TZ2yiYMQlqVDkdPKjz+u00q21WmVie49PNlLv98mVQxJbnoP4Cuazhph5krU1R36hxv1di9u4+ma+RnMrgdl1QuiWHpVLfrHDwqs/HpNu1al9krU6x9uMzS2/Mk80lp/x9A1zUSWYelt+Zolds0Dprs3DnA7fkkMs5w9kWlv1XY/nKPjc928PsqALv0ixXmrk5hp+Ul8EMYlkG6qNa8tI871PYabN7aYWK5iKZrw3TEOI7Z+/qArdu7bH+5j2EZTK2WuPSLFaZWSi+slxHfjemYZKeyrL6/RLfRY/PWLpuf7+BkbLr1npp9idXascpmlc1bOxw8OMJ0TGavTnHpw2Vy09lhuoT4fpyUTWkhz+r7S9z/wyMOHlZY/2QLO2nhtt1BiqdKg9i7d8jG5zscPamQm8qw/LMFVt9fIlNKnbuR0LMimUswfWkSt+Px6I8b7N49IDORptfoDTbIiwj9iHaty+atHba+2KV+0GRiucjqe0usvr+InbTPXSf0LNB0bTiDuP3VPrXdOuufbGFaBtWdOlEQoRsaXtfneKvG+idbHK0fQxxz5ddrrL6/xOzVqXO5Du9sBQEDmq6xcH0WwzQ4eFTm3t8+xrQM3I6HnbLVKNy9Q3bu7LN3/xA7ZbH09jw3f/uGWox63s7CGXIyNbn45ixRGPHp725z7w+PSOUT9Bp9SgsF7KTFoz9ucPCoTOOwxeRygbUPl7j+Ty+rtQLS/D+YpmtYCYuFN2fx+wFf/Oe7NMstMqUUXlft0dBrujz64waHTyr0m2oR68rPFll+Z17a/0cyLIP8TJbZa9M0Dpo8+XiL8sYxueksXs/HTlnEwOf/8Q7H2zUs22D1/UUu/WKFheuz0vY/kmkblBZVWtDxVp07f32f3HSW7GRmUH5Y7Vfy5V99TWW7hp2wuPaPL7H6/pKshfkJ2Emb5XfmaRw2OXhU4ZPf3aa0mCc3nR2kJMZ06z2++E93qe03yE1leedfvsnim7NkpzL/8D8gvpWTsrn082XqB002v9jho//zU3JTGdKFJKDhdT2Ot2rc/W8PqO83yc/meOvPrzP/xjSJjHPah3+uaZpGupDi3X/1Jl/856+59/tHlDeqBH6IYehYjkW72qF5pBYRx3HM3LVpbvzmCsW5/Lkd+DT+8i//8i9P+yBeRtc1TMsgkXFU3n+9h+mYTK2UyM/mOHhUprpdx3RMPvg376hRCJkB+MkYloGdtDBtE7fjUdtrYlgGM1emyM/m2Ly1g98PmFgqcPO3bzB/fZZE1pEA7CdiWDpOyla7NA/a30nbTCwXSWQctr/cI/QjJldK3PztNWavTuGkbWn/n4iVMEnmEoRhRL/Vp1Vuky6qhfKGZbB9e49UPsHKu4tc+dUqE4tFmQH4CZmOSbqQJI5R+bjVrqrOUUrTb7vs3TskXUyy+t4il3+5SnE+/1zFJvEDaeqPlbBIF1P4PY9+y6XfcplaLZEqpGhXuxw8LDO1UuLGn15h6a25wTowWYP3o520v2ORKaYI/ZDAC4nCmKm1EqZtUNutU9moMXttipt/do2FG7OkXlK2WPwAuoblWOiGjm7otMot4igmM5Fm4c1ZWpUOu3cPMG2TtQ+XufGbq5Tm85iWeW4HgM5sEHCyXXOqkBxOAXt9f1h6qbxRxUnbLL+zwI3fXKUwl3+hdrH44QxTBQGJjEPohfSaPUIvwk6oagUHD8vkZ7Jc+vkya+8vkZnMSPv/hAzLwE7ZJLMO/bZHq9wGTe0X4Ls+9YMmpYUCax8us/quKocrAcBPx0qYJLMJDFvNQLaPu8M0k37LpVVpM3tliiu/WmXmyqQEwD8xK2mRzCUwbZNeo0fjqE0i7RC4AZ1alziG+TdmWPtgiZlLkzgyCvqT0TRN7QdTUGmdvWafdqVDqqBmI5vlNoahs/KuCsBy01kJwH5CmqZhp2xSxSSaptFvuXRqHZK5JP2mGpDITmZY+3CZSx8uSwrWT0jTVL/TckzspE2/46kdmqMYJ+VQ32/QrnZZfmeBSz9fZuHG7LB87nl1pu/ck6n5Sx8uY6ds/vh/fcb2l3vopo6dtHjzN1d591/flBSg18R0TKYvTaqylIUkn/zuNk8+3UI3VPtLCtbro2kadtJi+vIkXt/Hd30efbTB+qdb2AmLiaUCV3+9xvU/vSJt/xpomlqfceUXq5iWSRREbNza4fBxZdj+izfnWPnZ4rkdATrLdF0jlUty+RfL+H2P5lGLw8cVfNcnXUjx5j+7yqWfrzB7ZUra/zUwLIPcVJa3//kNQKNx1Gbnqz0CPxy2v6RgvT6WY1KYzfPmb5L4/YDDx2W2bu0ShRH52Rw//9/eY/6NaanE9JpkpzI4GYdkzuHL/3qf+394TH2vqbJR1krc/PM3mFgqYlyA2a8zHQScSOYSzFye5OafXePwURmv57H63hKLb89jvmT3PPHTSpdSzF6ZYvmdBTrVDk7aYeHmHHNvTEv7j0BpscDlX6wQ9AO6jR6JTILVDxaZuTIlbf+6aTC1ViIK1+i1+oA6H/M3ZplanZAO6Os02KRwfrBp3r3fP0LTNSZXSqy+v0R+Jivt/zoN2n/xrTkAvv69Whs2f2NWqjCNwMkGnavvLaGbOo8+2iBdTLJ4c47JleILeziIn5ZpG5SWiiy/PU/gBrgdj8nVEktvz5ObzFyYBdjnIggwHZPcVIbV9xfJTWVwux7L7yyQmUjLGoARsBIW+dkca+8v0u94OCmb+RszJLIJaf8RSOYSTK9N4vV83G+0v3j9UoUks1enaVe7GKZOYT4vVYBGRNO0YcUfv+erMrrzeSaXZQ3GKGiaRmE2h2kZ+H2fVCHF7NUpqcI0AidFOkpLBayECbHaMX726hSZUlpSgF4z3dBJ5hLMXp3GsAz6bZeJ5RIzlycGKUAXo++jxXF8vrY3iyEmvjAn4Fx59kqR5h89af9TpR6Vmmp6af+Rk/Y/XXEcq9aXtj8V0v6n6AL3O89fECCEEEIIIYT4Uc7/qgYhhBBCCCHE9yJBgBBCCCGEEGNGggAhhBBCCCHGjAQBQgghhBBCjBkJAoQQQgghhBgzEgQIIYQQQggxZiQIEEIIIYQQYsxIECCEEEIIIcSYkSBACCGEEEKIMSNBgBBCCCGEEGNGggAhhBBCCCHGjAQBQgghhBBCjBkJAoQQQgghhBgzEgQIIYQQQggxZszTPgAhhDiPvJ6P1/PRNA07YWIlLNBO+6iEGJ04ivF6HmEQoWkaTtpGN2RsUVxccRwTBRFu1yPwQhIZB9M2zu11f2aDgNAPCYMIAMMyMMzz2cDnle8GhF6IlTDRDR1Nf3nvJgoj3LaHYRvYSWvER3lxfVv7qxevT7fepdvoE4URpm2QyDhkJjOYtoGmSW/0x/B6PqEX4mRe7NQEbkBtv0HjoEWn1kXTNDITKfIzOfKzOUzbOKWjvji+rf3FaxRDFEUEXkgcxdhJ65XPfoDAD6nvN+m1XHRDZ/bqFHZSztcP9h3aP/BC2scdeq0+ft9HN3RS+SSpQhI7ZaN/y/kS3y6OYtX2cYymay+8SwM3oNvsU9ms0ql1Cf2QRCZBaTFPYS7//7d3Z89tXOkVwE+vaDRWAiDAnZS1ULJlS3ZlkqkkTk3VeKqSqvydecp7UkkllaeMPfF40y5RIsUF+770vuShSWokcZEJ0iSM86uS+KB+aH6A+t5z+y5QYvKJ/1+uoisbAhzThTmwIAgC4ikNUip22bc0VcyeiVHHRLqUgpZQIYlHd2w8x0dzu41kLgF1MfML3+Wv10n19z0f/cYAW9/tYPunMhzDQTKfwNyNWax/eR3JfAKCNFkPoqtm1DYwbI9QuvF+p8YYWHj038+x+6CCbrUPQRCQW85i5d4i7v3jx0jm9Eu661+Pk+pPFycMQ7i2B6NjwrVc5JaykGPHdxNcy0X5aQ2dvR4UTUZuMcPBoDGcVv8wDGENbbz68zbKT2ro1/pQNBXLn85j7Ytl5FdmIJ7wedHJAj+A0TMReAEkVUJiRockv2lLzYGNyrMa/vSvP2DQHEEQBYiigDu/u4G7X91GupiauEGgK/tt6ZR7qDyrQ5QEzN8qYi5VvOxbmiq1l03sPKhg9f4iitfySM0m37vGsz30qn08+q/nWLhTQjKvQ1YnLwlfRcfVPwhCDNsGHv7nM7iWi9m1PBRNQa/ax+7jKlRdxdIn88ivzFzybzCZDqY3bD/YQ+VZHfGMhpn5DCQlerAHQfQqWBAErH2xjEwpCd8LUHleR22jAbNnIp6KHV5PP89p9aeL5Tk+2rtdVJ7VYfYt3PunO0i+06n0HB+9ah+24cAe2fBsD4EfwHOjEVQ6u9Pq39nrofy0htpGA/F0DPnlFQwaQzRft2F0DXz+z58iU0pB5MyJM3EsF7sPK7BHDvSMhrUvlt8agHYMB57tY/X+EvRsHFoiv752vQAADPxJREFUhq0fduDaPmobDeiZOEPAeTH7Fjp7XYiSiOz80SPMRs/EqG3A6FsIXB+iJCKe0ZDMJaBn47/wHf+6DNsGGpst5JeyyM6nj7zG9wOYAwu1l00kcjp814ekSBA4MXpsx9U/8AJYfQuV53XklrJY/HgOWiqG10GAXm2AxmYLmbk0Q8AZhWF42Mmpv2zCHjoI/OCtTqgSk1FYyyFdSCK3nMWoZaD5uo1mx9jvCF3iLzDhPqT+YRDCsz0M998WuLYHURIQ01WkiynEErGJa4ivisAPYPaitnfUNeE5/lv/HoYh7JGD3UdVeK4HWZHge0E0T9oP+N0f02n1H7YNtHY68BwfxWt5zN2cRWuni80/76DyvIFbXQOJnA6VIeBMfDdAvz6A0TPh2Qn43tv1l2MSUoUEkvkE0sUkRFFAfbMZTRPqmgj84JLu/OyubAgAgBDh/sjC+0+WMAzRfN3Bxjdb2HlQhjWwoMYVLN9dwM2/vYaVe4ucFz2WqO4hwqPK/+YSuiBH1993/Wi+tOsjU0pj9f4SJFmEPbAxbI1gDW3YI+fS7nrinfKdFkUBiayOj393EwDgGC76jSHsoQNREiHJx6+foQ/wAc+UwA8w6hjY+HoTL77eQr8+gKIpKKzl8OlX6yhdn4XMKVlj2G93w/ef/WEQwuibePH1JuJpDXM3ZhGGIcIgROizQTgfx9fftRy4povcfAbFjwqYu1VCdi6DbrmPzl4XZj9aJ8ApWeOI6n9UoM2U0kgXo0E53/HQ3uth1DUhySKkmDSRG0Nc6RBw6J0PwzEclJ/WsPX9LpqbLcyu5Q5HJBpbLcQSKmIJFfnlHBRtMn5Fog+hxGSkSylc/80qCiszOHhSWSMHRs9CqpBATGcDMLZT+jNhEGLvcRVb3+2i+boNLRnD7S9vQM/qELkeY3zH1N93ffTrA/z470/QLfcQT8VQul6ANbRh9Ew8+Z8N+F6AG79d4yDQuI74DDrlHvYeVeCaDuZuzmJ+vYjyk+ovf2/T4Ij6z8xn4d8LDnelCfwAw/YItulAVmXomTgDwAXzHQ+dcg+7jyooP63DHtpY/mwBy3cXoMbVy769n+2K95AFvButwiBaGLPzoIx+bYDETBzLny5AT2swuiY65R56tQFaO11k5tIMAWf2AQ0o29gLdHRxRVlEIhPH6v0lxNMaAj/EqDtEvz6AY7rILmSQ4Cjo2Qnv/DxOCAxbI9ReNtGr9pBfyUGSRfiuFy0q4xz2szml/mbfQvN1B7WNBrSUhqU7JRTW8ujV+ig/qaH6ooHZj/LwvSB6K8MgcEbv1G1/15rOXhfV53VoKQ0zCxmki0lUn4ucBnTujv7eJvM6JFWCPXQQS8ZgD21UXzTgWi4yc2nE0xpklX2e8bzf7/xLgR/A7Fto73ZRf9WEosnw3QBBcPSslatu4r4t0Zw5E7sPK8gtZbH+Dzcwf6sIVVcwaAxRfdGAY7kYtEYIvMmbn3W1fGADynb2ghxdWCWuYPHjOQCAObCw86CMxmYLYRBiYT16PUwXTABUXUUqr8OzXXQrPTwzbKRLSSgxhWuSLkin3EP5aRWiLOLaF8u4+4d1CKKAQSMDRVNQfVGHPYqmTIgJlbtkncURwSkMQ3iuj+Z2B7WNJm793UfIL81AFMVo4iJTwPk5IbiqugpVV4Ei4NouWtvRlGg1rmDls0VoqRinI16waOtQGYkZHcmcjm6lj91HFUiyiLtfrU9cCLuydysIR+cx1/JgDmy4jgctpSG3mIGsSgj9EI7hoN8cIqarSGTj3F96DMLhXx90JZ2zU+svAL1qH5XnDbz6dhtaMoZrf7WC9GwSEhdFjunkkSAIUUNQul6Ano3DNV3sPa6isdVC5VkDMT3GEDCW4+vvGA6soYNUIYl4Ng5RFAEBMHoWupU+REmEGlcmcr/uq+TdyvlegGFzBKNnweiZ2Pp+F91qH7GEivZOF0bPBAQB//sv32Lti2Usf7qAeCrGNviMTvrmHuxlv/1TGVvf70BWJCysl7BybzEKCDS2k+ovKRJmFjOIJVTMrxfRbwyx97iK8pMqVu8tRs8fbXKmZF3ZEHCcaLEwEAbR60nfC+DaHobtESrP67AGNjKlFGYWuK3cuNiEXq7j6h94AYz9HYJ2firDsz1kb85i/lYRSlzh53aBXMuFObAxahvQMxpK1wsQBAHW0EZ7r4tBYwizb132bf5qhfvTUgQICP0AjhWFgsZmC+2dDtKzKaQKyWiXMk4FOpMjqyYAEAQkczryKzMQRBH2/iYE5sCCY0UnZ4/aBuyRgzA4YUMJOtFpAcA2HNRfNbH7qIL2bhel67MorOWQzOmQGLrGctrgW78+xKg9QjwbR7KQQGY+jXR9iMZmC7WNBqyhDd8NoGi/1B2Pb+JCgKzKiCVVSLKIYctAbaOB/FIWWz/s4sUftxD4AfJLM5i7OcsQQL9Kru2h+qKOjW9eo/6qibu/X8fczVnImgzfibbK5RaJF2PUMVF+VsPLr7ewcn8Rt7+8AUmNNiXwXB+CIHB+9AWSYzKUmILWThv9+gCD5gi1jSY2v91GY7uNu7+/jcJqjm8BzpksS8jOpXD9r1eRW8zAtTwEQQjHcFF5XsOwNYKsyrj199exsF6EntGitzR0rgI/wKA5wo//9hjDloHUbALXvlhCqpCENbShZ8RjD/ak8e08LOPlN1tY+WwRS5/MIzOfhmu58N0ACLG/q9BkNQBXNgQIohiN5ojCW/M6JUVCIqtj9f4iWjtdPPiPp1A0BZ7jIZ6KYfX+EhY/mYMkcyRoHIIkQFRO3vJQFIXDxXeiKEAQuRDvvJxUf8dyUX5SRbfchdW38OKPm9h5WEYsEYOe0fDRb1ax9vnSJd355BNlAaIkRKdB7v88oKViSM+mIEgCXv1pG+XHNYiyGB0h7wdYvbeImcWjz9WgD3NS/WcWMlj8eA69ah+vvt3G3pMaHMOBGldw42/WsHJvAeni+wcb0ocRBERb3SoSRFl8Mz19fwpcKp9ATFcPzwQwBxaMvonADyGrEgorM0jmEtFnxqbgZzu2/vuMnon2bgf9+hCD1ghGz8T/jX6EHJMRT2u48ds1zK7lkcwnLucXmHQCou0+FRGi/P4XOFNMIbuQwdZ3O9h5WIYaV2EOLAR+gIU7JaSLqYnbnenKhgA9G0dhLQdBEKBn3syvFUUB8bSGlftLkGMyGpttBL6PVCGJ/HIWq58vIz2b5EjQmNLFFBbWS8iUUlCP2XJSlKPD2ZY+mUNuKQtJEfngPycn1V+SROiZOErXZ5GZO+hwRkGMxhMt+pKQW56Ba3nQUrG3RjTVuIJMMYn5W0W0tjswuiYARAdVlVKYu1VEKs9O6FmdVv/ETByl6wX0awO097qwRza0lIbZazks3C4hvzwzcY3wVSLKIvQZHYXVHBI5HXLsTS0FQXizMHWfqilI5nQ4IweSKkUHVXGL4jM7qf7A/mcQV1C6UUC6mEI050qI1lCK4lFHC9DPICkSsgtZ6Jk4tNT7hw6mSyks3C7BGTkweibMfvT8zy/PYH69hMSMPnEzUITwir678L0AvudDACDJ0vvHYIfRiKhjOHBtD7GEinhKi0ai2Rcam2d78FwfiiZDlI4f4Q/8AI7hQlLEiVoMc9WdVP9w/7Vj4PlvDujZH6k7uJYheDyu5cF3fai68t7ixuhwpGhUzuga8Bwf8bSGZE6HrHJB6nk4qf4Hr93NvgV7ZCOWUKHEVSiqzGf/OYhObfYQeCEUTTnx3AtraGP7xz10Kz2Isog7v7uJRJZbFI/jtPqHQYjACxAE0dsYQTwIAQJEkYcVjiMMol2wEIYQBOFwNspfCvwAjulg1DH3t2pV90ODdtLGTlfWlQ0BBye2HSzUOKoTGvgBAj9EEASQ9l+h0fkIg+gUSEESTpziE4bR5xA9gCbwf8AV9SH1D48Y9mEIPh/Bfv2jUHXEBSHguX50LkAQQlYkBoBzdGr9ER0cdnAegCix83OegiA6sfZg96Xj+F4Ao2McLgxOF1Ncj3QOTqv/wbM/eg+Aw2s4HXd8YRAe1vWoZ8pBn8d3vOj5o0jRn3cHqifElQ0BRERERER0MSYzuhARERER0ZkxBBARERERTRmGACIiIiKiKcMQQEREREQ0ZRgCiIiIiIimDEMAEREREdGUYQggIiIiIpoyDAFERERERFOGIYCIiIiIaMowBBARERERTRmGACIiIiKiKcMQQEREREQ0ZRgCiIiIiIimDEMAEREREdGUYQggIiIiIpoyDAFERERERFOGIYCIiIiIaMowBBARERERTRmGACIiIiKiKcMQQEREREQ0ZRgCiIiIiIimDEMAEREREdGUYQggIiIiIpoyDAFERERERFOGIYCIiIiIaMowBBARERERTRmGACIiIiKiKcMQQEREREQ0ZRgCiIiIiIimDEMAEREREdGU+X9p9dUf0TLUbwAAAABJRU5ErkJggg==)"
      ],
      "metadata": {
        "id": "W0EH5XbcDJg0"
      }
    },
    {
      "cell_type": "markdown",
      "source": [
        "동일한 단어는 동일한 정수에 매핑된다. 이렇게 인덱스를 통해 매핑하면 정수값 사이에는 어떠한 관계도 없다.\n",
        "\n",
        "영어 문장의 경우 모두 소문자로 바꾸고 구둣점을 삭제한 다음 공백을 기준으로 분리한다. 이렇게 분리된 단어를 토큰(token)이라고 부른다.\n",
        "\n",
        "보통 하나의 셈플은 여러 개의 토큰으로 이루어져 있고, **1개의 토큰이 하나의 타입스텝**에 해당한다.\n",
        "\n",
        "또한 토큰에 할당하는 정수 중, 몇 개는 특별한 용도로 사용하기 위해 예약된 경우가 많다. 보통 0은 패딩, 1은 문장의 시작, 2는 어휘 사전에 없는 토큰을 나타낸다.\n",
        "\n",
        "(텐서플로에는 이미 정수로 바꾼 데이터가 포함되어 있다.)"
      ],
      "metadata": {
        "id": "rkdf67DCDMnF"
      }
    },
    {
      "cell_type": "markdown",
      "source": [
        "### IMDB 데이터 가져오기"
      ],
      "metadata": {
        "id": "rM13pGscEZle"
      }
    },
    {
      "cell_type": "code",
      "source": [
        "from tensorflow.keras.datasets import imdb\n",
        "(train_input, train_target), (test_input, test_target) = imdb.load_data(num_words=500) # 어휘 사전에는 500개의 단어(등장 횟수 중 가장 많이 등장한 단어)"
      ],
      "metadata": {
        "id": "BiZYBgu8ElPW"
      },
      "execution_count": 7,
      "outputs": []
    },
    {
      "cell_type": "code",
      "source": [
        "print(train_input.shape, test_input.shape)"
      ],
      "metadata": {
        "colab": {
          "base_uri": "https://localhost:8080/"
        },
        "id": "QSWGf5r7E0p-",
        "outputId": "ab90a4d5-a05a-41f7-866c-050bd01094f0"
      },
      "execution_count": 3,
      "outputs": [
        {
          "output_type": "stream",
          "name": "stdout",
          "text": [
            "(25000,) (25000,)\n"
          ]
        }
      ]
    },
    {
      "cell_type": "markdown",
      "source": [
        "그런데 훈련 배열이 1차원이다. 이는 리뷰 텍스트 길이가 제각가이기 때문이다. 따라서 고정 크기의 2차원 배열에 담기보다 리뷰마다 별도의 파이썬 리스트로 담아야 메모리를 효율적으로 사용할 수 있다.\n",
        "\n",
        "그러므로 이 데이터는 개별 리뷰를 다음 넘파이 배열인 것이다."
      ],
      "metadata": {
        "id": "6n3apPKFFHdN"
      }
    },
    {
      "cell_type": "code",
      "source": [
        "# 첫 번째 리뷰의 길이\n",
        "print(len(train_input[0]))\n",
        "# 두 번째 리뷰의 길이\n",
        "print(len(train_input[1]))"
      ],
      "metadata": {
        "colab": {
          "base_uri": "https://localhost:8080/"
        },
        "id": "vEYsY389F9vu",
        "outputId": "06156cd8-fee8-4a9b-ed77-1a9a54e43e9a"
      },
      "execution_count": 5,
      "outputs": [
        {
          "output_type": "stream",
          "name": "stdout",
          "text": [
            "218\n",
            "189\n"
          ]
        }
      ]
    },
    {
      "cell_type": "code",
      "source": [
        "# 첫 번째 배열에 담긴 내용\n",
        "print(train_input[0])"
      ],
      "metadata": {
        "colab": {
          "base_uri": "https://localhost:8080/"
        },
        "id": "Hv9imnRcGLIV",
        "outputId": "6a3aebd4-b425-497a-a95d-0a9b61ec4310"
      },
      "execution_count": 6,
      "outputs": [
        {
          "output_type": "stream",
          "name": "stdout",
          "text": [
            "[1, 14, 22, 16, 43, 2, 2, 2, 2, 65, 458, 2, 66, 2, 4, 173, 36, 256, 5, 25, 100, 43, 2, 112, 50, 2, 2, 9, 35, 480, 284, 5, 150, 4, 172, 112, 167, 2, 336, 385, 39, 4, 172, 2, 2, 17, 2, 38, 13, 447, 4, 192, 50, 16, 6, 147, 2, 19, 14, 22, 4, 2, 2, 469, 4, 22, 71, 87, 12, 16, 43, 2, 38, 76, 15, 13, 2, 4, 22, 17, 2, 17, 12, 16, 2, 18, 2, 5, 62, 386, 12, 8, 316, 8, 106, 5, 4, 2, 2, 16, 480, 66, 2, 33, 4, 130, 12, 16, 38, 2, 5, 25, 124, 51, 36, 135, 48, 25, 2, 33, 6, 22, 12, 215, 28, 77, 52, 5, 14, 407, 16, 82, 2, 8, 4, 107, 117, 2, 15, 256, 4, 2, 7, 2, 5, 2, 36, 71, 43, 2, 476, 26, 400, 317, 46, 7, 4, 2, 2, 13, 104, 88, 4, 381, 15, 297, 98, 32, 2, 56, 26, 141, 6, 194, 2, 18, 4, 226, 22, 21, 134, 476, 26, 480, 5, 144, 30, 2, 18, 51, 36, 28, 224, 92, 25, 104, 4, 226, 65, 16, 38, 2, 88, 12, 16, 283, 5, 16, 2, 113, 103, 32, 15, 16, 2, 19, 178, 32]\n"
          ]
        }
      ]
    },
    {
      "cell_type": "markdown",
      "source": [
        "한 단어가 한 정수에 매핑되어 표현되는 것을 볼 수 있다. \n",
        "\n",
        "사전에 없는 단어는 모두 2로 표시되어 나타난다."
      ],
      "metadata": {
        "id": "pkpfSId3GXYd"
      }
    },
    {
      "cell_type": "code",
      "source": [
        "# 타깃 데이터\n",
        "print(train_target[:20])"
      ],
      "metadata": {
        "colab": {
          "base_uri": "https://localhost:8080/"
        },
        "id": "0UyGNIwMGgBV",
        "outputId": "4e04f7fb-31a0-4a9e-f2a4-6ca01ea0a850"
      },
      "execution_count": 8,
      "outputs": [
        {
          "output_type": "stream",
          "name": "stdout",
          "text": [
            "[1 0 0 1 0 0 1 0 1 0 1 0 0 0 0 0 1 1 0 1]\n"
          ]
        }
      ]
    },
    {
      "cell_type": "markdown",
      "source": [
        "0은 부정, 1은 긍정(이진 분류)"
      ],
      "metadata": {
        "id": "b5ZK8qziHECd"
      }
    },
    {
      "cell_type": "markdown",
      "source": [
        "### 훈련 세트에서 검증 세트 떼기\n",
        "\n",
        "원래 훈련 세트의 크기가 25,000개인데 20%를 검증 세트로 떼어놓을 것이다."
      ],
      "metadata": {
        "id": "SJ7SuyV9HMad"
      }
    },
    {
      "cell_type": "code",
      "source": [
        "from sklearn.model_selection import train_test_split\n",
        "train_input, val_input, train_target, val_target = train_test_split(train_input, train_target, test_size = 0.2, random_state=42)"
      ],
      "metadata": {
        "id": "nh51yJCoHWyg"
      },
      "execution_count": 9,
      "outputs": []
    },
    {
      "cell_type": "markdown",
      "source": [
        "### 데이터셋 조사"
      ],
      "metadata": {
        "id": "h7mu5bGkHpdK"
      }
    },
    {
      "cell_type": "code",
      "source": [
        "# 각 리뷰의 길이 따로 저장하기\n",
        "import numpy as np\n",
        "lengths = np.array([len(x) for x in train_input])"
      ],
      "metadata": {
        "id": "tBoLcbi0H8um"
      },
      "execution_count": 11,
      "outputs": []
    },
    {
      "cell_type": "code",
      "source": [
        "# 리뷰 길이의 평균값과 중간값\n",
        "print(np.mean(lengths), np.median(lengths))"
      ],
      "metadata": {
        "colab": {
          "base_uri": "https://localhost:8080/"
        },
        "id": "p13NqRR3IAAd",
        "outputId": "d8270239-6197-483e-e75b-c80811039f13"
      },
      "execution_count": 12,
      "outputs": [
        {
          "output_type": "stream",
          "name": "stdout",
          "text": [
            "239.00925 178.0\n"
          ]
        }
      ]
    },
    {
      "cell_type": "markdown",
      "source": [
        "리뷰의 평균 단어수는 239개이고 중간값이 178인 것으로 보아 이 리뷰 길이 데이터는 한쪽에 치우친 분포를 보일 것이다."
      ],
      "metadata": {
        "id": "LpkJYwr1IUFh"
      }
    },
    {
      "cell_type": "code",
      "source": [
        "import matplotlib.pyplot as plt\n",
        "plt.hist(lengths)\n",
        "plt.xlabel('length')\n",
        "plt.ylabel('frequency')\n",
        "plt.show()"
      ],
      "metadata": {
        "colab": {
          "base_uri": "https://localhost:8080/",
          "height": 279
        },
        "id": "1wfe4ziFIkhU",
        "outputId": "eb4bd8a7-66d0-4528-c357-e9f1c38546d5"
      },
      "execution_count": 13,
      "outputs": [
        {
          "output_type": "display_data",
          "data": {
            "text/plain": [
              "<Figure size 432x288 with 1 Axes>"
            ],
            "image/png": "[encoded data removed]"
          },
          "metadata": {
            "needs_background": "light"
          }
        }
      ]
    },
    {
      "cell_type": "markdown",
      "source": [
        "보다시피 대부분의 리뷰의 길이는 300단어 미만이다. 평균이 중간값보다 높은 이유는 오른쪽 긑에 아주 큰 데이터가 있기 때문이다. "
      ],
      "metadata": {
        "id": "kVxcglFKI4ns"
      }
    },
    {
      "cell_type": "markdown",
      "source": [
        "리뷰가 대부분 짧으므로 이 예제에서는 100개의 단어만 사용할 것이다. 100단어보다 작은 리뷰는 길이를 100으로 맞추기 위해 0으로 패딩을 줄 것이다.\n",
        "\n",
        "수동으로 리뷰를 순회하면서 100이 되도록 자르고, 0으로 패딩할 수 있다. 하지만 케라스의 pad_sequences()를 사용하면 편리하다."
      ],
      "metadata": {
        "id": "DQkWEhwvJJHj"
      }
    },
    {
      "cell_type": "code",
      "source": [
        "from tensorflow.keras.preprocessing.sequence import pad_sequences\n",
        "train_seq = pad_sequences(train_input, maxlen=100)"
      ],
      "metadata": {
        "id": "o1nZy5EhJbkF"
      },
      "execution_count": 14,
      "outputs": []
    },
    {
      "cell_type": "code",
      "source": [
        "print(train_seq.shape)"
      ],
      "metadata": {
        "colab": {
          "base_uri": "https://localhost:8080/"
        },
        "id": "933_FDJ7JpJX",
        "outputId": "6fef86a9-5a1a-4a8c-cfd0-e2c42c82f305"
      },
      "execution_count": 15,
      "outputs": [
        {
          "output_type": "stream",
          "name": "stdout",
          "text": [
            "(20000, 100)\n"
          ]
        }
      ]
    },
    {
      "cell_type": "markdown",
      "source": [
        "이제 1차원의 파이썬 리스트 배열에서 2차원 배열이 되었다."
      ],
      "metadata": {
        "id": "VbmpFHcvKu5a"
      }
    },
    {
      "cell_type": "markdown",
      "source": [
        "![image.png](data:image/png;base64,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)"
      ],
      "metadata": {
        "id": "6GYqWzCsK2HS"
      }
    },
    {
      "cell_type": "code",
      "source": [
        "print(train_seq[0])"
      ],
      "metadata": {
        "colab": {
          "base_uri": "https://localhost:8080/"
        },
        "id": "WJ8c8zOuK66J",
        "outputId": "6f222801-3e6d-4ec3-9914-e895a90438af"
      },
      "execution_count": 16,
      "outputs": [
        {
          "output_type": "stream",
          "name": "stdout",
          "text": [
            "[ 10   4  20   9   2 364 352   5  45   6   2   2  33 269   8   2 142   2\n",
            "   5   2  17  73  17 204   5   2  19  55   2   2  92  66 104  14  20  93\n",
            "  76   2 151  33   4  58  12 188   2 151  12 215  69 224 142  73 237   6\n",
            "   2   7   2   2 188   2 103  14  31  10  10 451   7   2   5   2  80  91\n",
            "   2  30   2  34  14  20 151  50  26 131  49   2  84  46  50  37  80  79\n",
            "   6   2  46   7  14  20  10  10 470 158]\n"
          ]
        }
      ]
    },
    {
      "cell_type": "markdown",
      "source": [
        "패딩값 0이 없다. -> 앞이나 뒤가 짤렸다."
      ],
      "metadata": {
        "id": "iGtUWg4-LF7C"
      }
    },
    {
      "cell_type": "code",
      "source": [
        "print(train_input[0][-10:]) # 마지막 10개 토큰"
      ],
      "metadata": {
        "colab": {
          "base_uri": "https://localhost:8080/"
        },
        "id": "KdHiK7gPLZ_w",
        "outputId": "68bf8f37-ff76-42fd-f2da-b1f0ad8c5dd5"
      },
      "execution_count": 18,
      "outputs": [
        {
          "output_type": "stream",
          "name": "stdout",
          "text": [
            "[6, 2, 46, 7, 14, 20, 10, 10, 470, 158]\n"
          ]
        }
      ]
    },
    {
      "cell_type": "markdown",
      "source": [
        "뒤가 같으므로 앞이 잘렸음을 알 수 있다. pad__sequences()는 기본으로 maxlen보다 긴 시퀀스의 앞부분을 자른다. 이는 뒷부분의 정보가 더 유용하리라 기대하기 때문이다. (리뷰 끝에 결정적인 소감을 말할 가능성 높음)\n",
        "\n",
        "만약 뒷부분을 잘라내고 싶다면 pad_sequences()의 truncating 매개변수의 값을 'post'로 지정하면 된다."
      ],
      "metadata": {
        "id": "STw0Q14FLeEi"
      }
    },
    {
      "cell_type": "code",
      "source": [
        "# train_seq의 여섯 번째 샘플 출력\n",
        "print(train_seq[5])"
      ],
      "metadata": {
        "colab": {
          "base_uri": "https://localhost:8080/"
        },
        "id": "4pPJVE2jLp-S",
        "outputId": "198c58cc-08a6-488f-917a-248bde9d2195"
      },
      "execution_count": 19,
      "outputs": [
        {
          "output_type": "stream",
          "name": "stdout",
          "text": [
            "[  0   0   0   0   1   2 195  19  49   2   2 190   4   2 352   2 183  10\n",
            "  10  13  82  79   4   2  36  71 269   8   2  25  19  49   7   4   2   2\n",
            "   2   2   2  10  10  48  25  40   2  11   2   2  40   2   2   5   4   2\n",
            "   2  95  14 238  56 129   2  10  10  21   2  94 364 352   2   2  11 190\n",
            "  24 484   2   7  94 205 405  10  10  87   2  34  49   2   7   2   2   2\n",
            "   2   2 290   2  46  48  64  18   4   2]\n"
          ]
        }
      ]
    },
    {
      "cell_type": "markdown",
      "source": [
        "앞에 패딩이 4개 있는 것으로 보아 이 샘플의 길이는 100이 안된다는 것을 알 수 있다.\n",
        "\n",
        "순환 신경망의 경우, **시퀀스의 마지막에 있는 단어가 셀의 은닉 상태에 가장 큰 영향**을 미치게 되므로 마지막에 패딩을 추가하는 것은 선호하지 않는다."
      ],
      "metadata": {
        "id": "hfY4vpVMMOQp"
      }
    },
    {
      "cell_type": "code",
      "source": [
        "val_seq = pad_sequences(val_input, maxlen=100)"
      ],
      "metadata": {
        "id": "zF4tge7QSLi5"
      },
      "execution_count": 27,
      "outputs": []
    },
    {
      "cell_type": "markdown",
      "source": [
        "## 순환 신경망 만들기\n",
        "\n",
        "케라스에는 여러 순환층 클래스를 제공하는데 그중 가장 간단한 것은 SimpleRNN 클래스이다. \n",
        "\n",
        "IMDB 리뷰 분류 문제는 이진 분류이므로 마지막 출력층은 1개의 뉴런을 가지고 시그모이드 활성화 함수를 사용해야 한다."
      ],
      "metadata": {
        "id": "_f5_gxJfMyg5"
      }
    },
    {
      "cell_type": "code",
      "source": [
        "from tensorflow import keras\n",
        "model = keras.Sequential()\n",
        "model.add(keras.layers.SimpleRNN(8, input_shape=(100, 500))) # 100은 샘플의 길이, 500은??\n",
        "model.add(keras.layers.Dense(1, activation='sigmoid'))"
      ],
      "metadata": {
        "id": "CnBX1MRCM0Ib"
      },
      "execution_count": 20,
      "outputs": []
    },
    {
      "cell_type": "markdown",
      "source": [
        "순환층도 당연히 활성화 함수를 사용해야 한다. simpleRNN 클래스의 activation 매개변수의 기본값은 tanh로 하이퍼볼릭 탄젠트 함수를 사용한다. (기본값이라 따로 표시하지 않았다.)"
      ],
      "metadata": {
        "id": "KoyyyrmGOhuB"
      }
    },
    {
      "cell_type": "markdown",
      "source": [
        "그런데 input_shape의 두 번째 차원 500은 어디서 온 것일까?\n",
        "\n",
        "이전 섹션에서 만든 train)seq와 val_seq에는 한가지 문제가 있다. 토큰을 정수로 변환한 이 데이터를 신경망에 주입하면 큰 정수가 큰 활성화 출력을 만들게 된다.\n",
        "\n",
        "이 정수 사이에는 어떤 관련이 없다. 즉, 20번 토큰을 10번 토큰보다 중시해야할 이유가 없다. 따라서 단순한 정수값을 신경망에 입력하기 위해선 다른 방식을 찾아야 한다.\n",
        "\n",
        "정수값에 있는 크기 속성을 없애고 각 정수를 고유하게 표현하는 방법은 원-핫 인코딩이다. \n",
        "\n",
        "예를 들어 train_seq[0]의 첫 번째 토큰인 10을 원-핫 인코딩으로 바꾸면 다음과 같다."
      ],
      "metadata": {
        "id": "EEFwSqWrOw9I"
      }
    },
    {
      "cell_type": "markdown",
      "source": [
        "![image.png](data:image/png;base64,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)"
      ],
      "metadata": {
        "id": "_6903HxVP4K4"
      }
    },
    {
      "cell_type": "markdown",
      "source": [
        "이 배열의 길이가 500이다.\n",
        "\n",
        "처음 imdb.load_data() 함수에서 500개의 단어만 사용하도록 지정했기 때문에 고유한 단어(어휘사전)는 모두 500개이다. 따라서 표현될 수 있는 정수값의 범위는 0에서 400까지이다. 따라서 500인 것이다."
      ],
      "metadata": {
        "id": "az95CvjgP-Ko"
      }
    },
    {
      "cell_type": "code",
      "source": [
        "# 정수배열을 원-핫 인코딩으로 변환\n",
        "train_oh = keras.utils.to_categorical(train_seq)"
      ],
      "metadata": {
        "id": "T-KU7MS_QYaI"
      },
      "execution_count": 21,
      "outputs": []
    },
    {
      "cell_type": "code",
      "source": [
        "print(train_oh.shape)"
      ],
      "metadata": {
        "colab": {
          "base_uri": "https://localhost:8080/"
        },
        "id": "yDzn640-Q2D4",
        "outputId": "1a556e61-af28-48c9-c4a8-c99a6cd419c0"
      },
      "execution_count": 23,
      "outputs": [
        {
          "output_type": "stream",
          "name": "stdout",
          "text": [
            "(20000, 100, 500)\n"
          ]
        }
      ]
    },
    {
      "cell_type": "markdown",
      "source": [
        "이렇게 정수 하나마다 500차원의 배열로 변경되었기 때문에 입력이 (100,500)이 되어야 하므로 500을 지정해주게 된 것이다. "
      ],
      "metadata": {
        "id": "xtrLJpwTQ5Pn"
      }
    },
    {
      "cell_type": "code",
      "source": [
        "print(train_oh[0][0][:12]) # 10을 원-핫 인코딩"
      ],
      "metadata": {
        "colab": {
          "base_uri": "https://localhost:8080/"
        },
        "id": "8kR-AwA6RbT3",
        "outputId": "b42e8ae0-0c2d-4db3-ad94-97890473d3f9"
      },
      "execution_count": 24,
      "outputs": [
        {
          "output_type": "stream",
          "name": "stdout",
          "text": [
            "[0. 0. 0. 0. 0. 0. 0. 0. 0. 0. 1. 0.]\n"
          ]
        }
      ]
    },
    {
      "cell_type": "code",
      "source": [
        "print(np.sum(train_oh[0][0])) # 배열의 모든 원소의 합 출력"
      ],
      "metadata": {
        "colab": {
          "base_uri": "https://localhost:8080/"
        },
        "id": "74VZ60J5RhDw",
        "outputId": "c2b897d4-c719-4af8-b489-f9281f03789d"
      },
      "execution_count": 25,
      "outputs": [
        {
          "output_type": "stream",
          "name": "stdout",
          "text": [
            "1.0\n"
          ]
        }
      ]
    },
    {
      "cell_type": "code",
      "source": [
        "# 검증세트도 원-핫 인코딩\n",
        "val_oh = keras.utils.to_categorical(val_seq)"
      ],
      "metadata": {
        "id": "jaN0NKayRrx6"
      },
      "execution_count": 28,
      "outputs": []
    },
    {
      "cell_type": "code",
      "source": [
        "# 모델 구조 확인\n",
        "model.summary()"
      ],
      "metadata": {
        "colab": {
          "base_uri": "https://localhost:8080/"
        },
        "id": "evZn2cjlR5-N",
        "outputId": "362992d0-ccbc-4f02-f66c-60f76947fb59"
      },
      "execution_count": 29,
      "outputs": [
        {
          "output_type": "stream",
          "name": "stdout",
          "text": [
            "Model: \"sequential\"\n",
            "_________________________________________________________________\n",
            " Layer (type)                Output Shape              Param #   \n",
            "=================================================================\n",
            " simple_rnn (SimpleRNN)      (None, 8)                 4072      \n",
            "                                                                 \n",
            " dense (Dense)               (None, 1)                 9         \n",
            "                                                                 \n",
            "=================================================================\n",
            "Total params: 4,081\n",
            "Trainable params: 4,081\n",
            "Non-trainable params: 0\n",
            "_________________________________________________________________\n"
          ]
        }
      ]
    },
    {
      "cell_type": "markdown",
      "source": [
        "왜 4,081개일까?\n",
        "\n",
        "우선 순환층의 뉴런(노드)의 수는 8이다. 각 노드당 500개의 입력이 들어오므로 우선 4000개의 가중치가 있게 된다.\n",
        "\n",
        "또한 각 뉴런의 은닉 상태가 각 뉴런에게 전달되어 또 다른 가중치와 곱해지므로 각 뉴런당 8개의 가중치가 추가로 있게 된다. 따라서 64개의 가중치가 추가된다. 여기에 각 뉴런마다 절편이 있으므로 8개가 추가된다. \n",
        "\n",
        "따라서 4,000 + 64 + 8 = 4,072개의 모델 파라미가 필요하다"
      ],
      "metadata": {
        "id": "QKhCsyN9ScXP"
      }
    },
    {
      "cell_type": "markdown",
      "source": [
        "## 순환 신경망 훈련하기\n",
        "\n",
        "여기서 RMSprop의 기본 학습률 0.001을 0.0001로 수정하기 위해 별도의 RMSprop 객체를 만들어 학습률을 0.0001로 지정하였다. 그다음 에포크 횟수를 100으로 늘리고 배치 크기는 64개로 설정했다."
      ],
      "metadata": {
        "id": "TRH3Yv4eUDWg"
      }
    },
    {
      "cell_type": "code",
      "source": [
        "rmsprop = keras.optimizers.RMSprop(learning_rate=1e-4)\n",
        "model.compile(optimizer=rmsprop, loss='binary_crossentropy', metrics=['accuracy'])\n",
        "checkpoint_cb = keras.callbacks.ModelCheckpoint('best-simplernn-model.h5', save_best_only=True)\n",
        "early_stopping_cb = keras.callbacks.EarlyStopping(patience=3, restore_best_weights=True)\n",
        "history = model.fit(train_oh, train_target, epochs=100, batch_size=64, validation_data=(val_oh, val_target),\n",
        "                    callbacks=[checkpoint_cb, early_stopping_cb])"
      ],
      "metadata": {
        "colab": {
          "base_uri": "https://localhost:8080/"
        },
        "id": "pcFuNaeQUM8o",
        "outputId": "09daa64f-2e98-4069-db94-2e6b092b26b4"
      },
      "execution_count": 32,
      "outputs": [
        {
          "output_type": "stream",
          "name": "stdout",
          "text": [
            "Epoch 1/100\n",
            "313/313 [==============================] - 18s 50ms/step - loss: 0.6985 - accuracy: 0.5054 - val_loss: 0.6944 - val_accuracy: 0.5194\n",
            "Epoch 2/100\n",
            "313/313 [==============================] - 13s 42ms/step - loss: 0.6820 - accuracy: 0.5648 - val_loss: 0.6731 - val_accuracy: 0.5878\n",
            "Epoch 3/100\n",
            "313/313 [==============================] - 14s 46ms/step - loss: 0.6619 - accuracy: 0.6172 - val_loss: 0.6583 - val_accuracy: 0.6194\n",
            "Epoch 4/100\n",
            "313/313 [==============================] - 15s 48ms/step - loss: 0.6451 - accuracy: 0.6445 - val_loss: 0.6443 - val_accuracy: 0.6412\n",
            "Epoch 5/100\n",
            "313/313 [==============================] - 13s 42ms/step - loss: 0.6297 - accuracy: 0.6636 - val_loss: 0.6337 - val_accuracy: 0.6536\n",
            "Epoch 6/100\n",
            "313/313 [==============================] - 13s 41ms/step - loss: 0.6160 - accuracy: 0.6801 - val_loss: 0.6178 - val_accuracy: 0.6750\n",
            "Epoch 7/100\n",
            "313/313 [==============================] - 13s 42ms/step - loss: 0.6016 - accuracy: 0.6948 - val_loss: 0.6034 - val_accuracy: 0.6910\n",
            "Epoch 8/100\n",
            "313/313 [==============================] - 13s 42ms/step - loss: 0.5885 - accuracy: 0.7070 - val_loss: 0.5942 - val_accuracy: 0.7000\n",
            "Epoch 9/100\n",
            "313/313 [==============================] - 13s 42ms/step - loss: 0.5774 - accuracy: 0.7157 - val_loss: 0.5887 - val_accuracy: 0.7050\n",
            "Epoch 10/100\n",
            "313/313 [==============================] - 13s 41ms/step - loss: 0.5663 - accuracy: 0.7255 - val_loss: 0.5758 - val_accuracy: 0.7156\n",
            "Epoch 11/100\n",
            "313/313 [==============================] - 13s 41ms/step - loss: 0.5546 - accuracy: 0.7365 - val_loss: 0.5681 - val_accuracy: 0.7240\n",
            "Epoch 12/100\n",
            "313/313 [==============================] - 13s 42ms/step - loss: 0.5446 - accuracy: 0.7426 - val_loss: 0.5624 - val_accuracy: 0.7218\n",
            "Epoch 13/100\n",
            "313/313 [==============================] - 14s 45ms/step - loss: 0.5368 - accuracy: 0.7474 - val_loss: 0.5552 - val_accuracy: 0.7272\n",
            "Epoch 14/100\n",
            "313/313 [==============================] - 13s 42ms/step - loss: 0.5299 - accuracy: 0.7517 - val_loss: 0.5459 - val_accuracy: 0.7372\n",
            "Epoch 15/100\n",
            "313/313 [==============================] - 13s 42ms/step - loss: 0.5220 - accuracy: 0.7563 - val_loss: 0.5415 - val_accuracy: 0.7372\n",
            "Epoch 16/100\n",
            "313/313 [==============================] - 13s 42ms/step - loss: 0.5155 - accuracy: 0.7613 - val_loss: 0.5355 - val_accuracy: 0.7394\n",
            "Epoch 17/100\n",
            "313/313 [==============================] - 13s 41ms/step - loss: 0.5092 - accuracy: 0.7656 - val_loss: 0.5293 - val_accuracy: 0.7454\n",
            "Epoch 18/100\n",
            "313/313 [==============================] - 13s 42ms/step - loss: 0.5038 - accuracy: 0.7678 - val_loss: 0.5253 - val_accuracy: 0.7490\n",
            "Epoch 19/100\n",
            "313/313 [==============================] - 13s 42ms/step - loss: 0.5003 - accuracy: 0.7708 - val_loss: 0.5255 - val_accuracy: 0.7478\n",
            "Epoch 20/100\n",
            "313/313 [==============================] - 13s 41ms/step - loss: 0.4942 - accuracy: 0.7752 - val_loss: 0.5181 - val_accuracy: 0.7506\n",
            "Epoch 21/100\n",
            "313/313 [==============================] - 13s 42ms/step - loss: 0.4901 - accuracy: 0.7765 - val_loss: 0.5136 - val_accuracy: 0.7566\n",
            "Epoch 22/100\n",
            "313/313 [==============================] - 14s 45ms/step - loss: 0.4853 - accuracy: 0.7796 - val_loss: 0.5124 - val_accuracy: 0.7552\n",
            "Epoch 23/100\n",
            "313/313 [==============================] - 13s 42ms/step - loss: 0.4816 - accuracy: 0.7821 - val_loss: 0.5079 - val_accuracy: 0.7554\n",
            "Epoch 24/100\n",
            "313/313 [==============================] - 13s 41ms/step - loss: 0.4760 - accuracy: 0.7867 - val_loss: 0.5059 - val_accuracy: 0.7606\n",
            "Epoch 25/100\n",
            "313/313 [==============================] - 13s 42ms/step - loss: 0.4732 - accuracy: 0.7881 - val_loss: 0.5015 - val_accuracy: 0.7630\n",
            "Epoch 26/100\n",
            "313/313 [==============================] - 13s 42ms/step - loss: 0.4693 - accuracy: 0.7909 - val_loss: 0.5012 - val_accuracy: 0.7636\n",
            "Epoch 27/100\n",
            "313/313 [==============================] - 13s 42ms/step - loss: 0.4665 - accuracy: 0.7921 - val_loss: 0.4991 - val_accuracy: 0.7618\n",
            "Epoch 28/100\n",
            "313/313 [==============================] - 13s 41ms/step - loss: 0.4618 - accuracy: 0.7950 - val_loss: 0.4965 - val_accuracy: 0.7630\n",
            "Epoch 29/100\n",
            "313/313 [==============================] - 13s 42ms/step - loss: 0.4593 - accuracy: 0.7961 - val_loss: 0.4921 - val_accuracy: 0.7686\n",
            "Epoch 30/100\n",
            "313/313 [==============================] - 13s 43ms/step - loss: 0.4559 - accuracy: 0.7993 - val_loss: 0.4891 - val_accuracy: 0.7708\n",
            "Epoch 31/100\n",
            "313/313 [==============================] - 14s 45ms/step - loss: 0.4534 - accuracy: 0.8018 - val_loss: 0.4881 - val_accuracy: 0.7714\n",
            "Epoch 32/100\n",
            "313/313 [==============================] - 13s 42ms/step - loss: 0.4498 - accuracy: 0.8036 - val_loss: 0.4872 - val_accuracy: 0.7692\n",
            "Epoch 33/100\n",
            "313/313 [==============================] - 13s 42ms/step - loss: 0.4475 - accuracy: 0.8027 - val_loss: 0.4868 - val_accuracy: 0.7720\n",
            "Epoch 34/100\n",
            "313/313 [==============================] - 13s 42ms/step - loss: 0.4451 - accuracy: 0.8056 - val_loss: 0.4851 - val_accuracy: 0.7732\n",
            "Epoch 35/100\n",
            "313/313 [==============================] - 13s 42ms/step - loss: 0.4423 - accuracy: 0.8063 - val_loss: 0.4872 - val_accuracy: 0.7716\n",
            "Epoch 36/100\n",
            "313/313 [==============================] - 13s 42ms/step - loss: 0.4394 - accuracy: 0.8093 - val_loss: 0.4858 - val_accuracy: 0.7692\n",
            "Epoch 37/100\n",
            "313/313 [==============================] - 13s 41ms/step - loss: 0.4376 - accuracy: 0.8100 - val_loss: 0.4822 - val_accuracy: 0.7734\n",
            "Epoch 38/100\n",
            "313/313 [==============================] - 13s 41ms/step - loss: 0.4355 - accuracy: 0.8126 - val_loss: 0.4832 - val_accuracy: 0.7718\n",
            "Epoch 39/100\n",
            "313/313 [==============================] - 13s 42ms/step - loss: 0.4336 - accuracy: 0.8131 - val_loss: 0.4802 - val_accuracy: 0.7754\n",
            "Epoch 40/100\n",
            "313/313 [==============================] - 13s 42ms/step - loss: 0.4319 - accuracy: 0.8134 - val_loss: 0.4793 - val_accuracy: 0.7760\n",
            "Epoch 41/100\n",
            "313/313 [==============================] - 14s 45ms/step - loss: 0.4300 - accuracy: 0.8152 - val_loss: 0.4856 - val_accuracy: 0.7694\n",
            "Epoch 42/100\n",
            "313/313 [==============================] - 13s 41ms/step - loss: 0.4286 - accuracy: 0.8174 - val_loss: 0.4823 - val_accuracy: 0.7726\n",
            "Epoch 43/100\n",
            "313/313 [==============================] - 13s 42ms/step - loss: 0.4271 - accuracy: 0.8175 - val_loss: 0.4817 - val_accuracy: 0.7728\n"
          ]
        }
      ]
    },
    {
      "cell_type": "markdown",
      "source": [
        "검증 세트에 대한 정확도는 약 80%정도이다."
      ],
      "metadata": {
        "id": "KJbJwtkHc-UE"
      }
    },
    {
      "cell_type": "markdown",
      "source": [
        "### 훈련 손실과 검증 손실 그래프"
      ],
      "metadata": {
        "id": "uIbPszDhYy0d"
      }
    },
    {
      "cell_type": "code",
      "source": [
        "plt.plot(history.history['loss'])\n",
        "plt.plot(history.history['val_loss'])\n",
        "plt.xlabel('epoch')\n",
        "plt.ylabel('loss')\n",
        "plt.legend(['train', 'val'])\n",
        "plt.show()"
      ],
      "metadata": {
        "colab": {
          "base_uri": "https://localhost:8080/",
          "height": 279
        },
        "id": "ocinQx_kZQ9v",
        "outputId": "c4310359-63b9-46c1-ee3b-2ed7dd81b708"
      },
      "execution_count": 34,
      "outputs": [
        {
          "output_type": "display_data",
          "data": {
            "text/plain": [
              "<Figure size 432x288 with 1 Axes>"
            ],
            "image/png": "[encoded data removed]"
          },
          "metadata": {
            "needs_background": "light"
          }
        }
      ]
    },
    {
      "cell_type": "markdown",
      "source": [
        "훈련 손실은 꾸준히 감소하지만 검증 손실은 약 20번째 에포크부터 감소가 둔해지고 있다. 거의 감소하지 않는 43에서 적절히 훈련을 멈춘 것을 확인할 수 있다. "
      ],
      "metadata": {
        "id": "2ZyJTYq0c4cs"
      }
    },
    {
      "cell_type": "markdown",
      "source": [
        "# 단어 임베딩 사용하기\n",
        "\n",
        "원-핫 인코딩의 심각한 단점은 입력 데이터가 엄청 커진다는 점이다."
      ],
      "metadata": {
        "id": "pwRKqZa8drlM"
      }
    },
    {
      "cell_type": "code",
      "source": [
        "print(train_seq.nbytes, train_oh.nbytes)"
      ],
      "metadata": {
        "colab": {
          "base_uri": "https://localhost:8080/"
        },
        "id": "O5IDua3TeQzz",
        "outputId": "14d5a014-f9b6-468a-e86a-bd4702987fff"
      },
      "execution_count": 36,
      "outputs": [
        {
          "output_type": "stream",
          "name": "stdout",
          "text": [
            "8000000 4000000000\n"
          ]
        }
      ]
    },
    {
      "cell_type": "markdown",
      "source": [
        "한 단어당 500개의 배열을 사용하였으므로 데이터의 크기가 500 커지게 된다. 따라서 다른 표현 방법을 사용하는 것이 적절하다.\n",
        "\n",
        "바로 **단어 임베딩(word embedding)**이다.\n",
        "\n",
        "단어 임베딩은 단어를 **고정된 크기의 실수 벡터**로 바꾸어준다."
      ],
      "metadata": {
        "id": "aciQAlA_d0DE"
      }
    },
    {
      "cell_type": "markdown",
      "source": [
        "![image.png](data:image/png;base64,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)"
      ],
      "metadata": {
        "id": "BOFf37kZepfD"
      }
    },
    {
      "cell_type": "markdown",
      "source": [
        "여기에 있는 실수들은 의미있는 값이다. (사전 훈련된 임베딩을 통해 학습 or 직접 학습)\n",
        "\n",
        "단어 임베딩의 장점은 **입력으로 정수 데이터**를 받는다는 것이다. 즉, 입력이 원핫 인코딩이 아니라 train_seq(단어 인덱스의 배열)를 사용할 수 있다. \n",
        "\n",
        "따라서 임베딩은 (100, 16)과 같이 2차원 배열로 늘릴 수 있다. 즉, 한 단어를 16 차원의 벡터로 표현한다는 뜻이다."
      ],
      "metadata": {
        "id": "45Lhw3Lve4FT"
      }
    },
    {
      "cell_type": "code",
      "source": [
        "model2 = keras.Sequential()\n",
        "model2.add(keras.layers.Embedding(500, 16, input_length=100))\n",
        "model2.add(keras.layers.SimpleRNN(8))\n",
        "model2.add(keras.layers.Dense(1,activation='sigmoid'))"
      ],
      "metadata": {
        "id": "jn-wkfwuhHp6"
      },
      "execution_count": 38,
      "outputs": []
    },
    {
      "cell_type": "code",
      "source": [
        "model2.summary()"
      ],
      "metadata": {
        "colab": {
          "base_uri": "https://localhost:8080/"
        },
        "id": "8iEk8TXxhbKy",
        "outputId": "2363e7ba-ca0f-407b-c404-91a9fecc7591"
      },
      "execution_count": 39,
      "outputs": [
        {
          "output_type": "stream",
          "name": "stdout",
          "text": [
            "Model: \"sequential_2\"\n",
            "_________________________________________________________________\n",
            " Layer (type)                Output Shape              Param #   \n",
            "=================================================================\n",
            " embedding_1 (Embedding)     (None, 100, 16)           8000      \n",
            "                                                                 \n",
            " simple_rnn_2 (SimpleRNN)    (None, 8)                 200       \n",
            "                                                                 \n",
            " dense_1 (Dense)             (None, 1)                 9         \n",
            "                                                                 \n",
            "=================================================================\n",
            "Total params: 8,209\n",
            "Trainable params: 8,209\n",
            "Non-trainable params: 0\n",
            "_________________________________________________________________\n"
          ]
        }
      ]
    },
    {
      "cell_type": "markdown",
      "source": [
        "embedding층은 (100,) 크기의 입력을 받아 (100,16)의 출력을 만든다."
      ],
      "metadata": {
        "id": "rbN4dwavhjLJ"
      }
    },
    {
      "cell_type": "code",
      "source": [
        "rmsprop = keras.optimizers.RMSprop(learning_rate=1e-4)\n",
        "model2.compile(optimizer=rmsprop, loss='binary_crossentropy', metrics=['accuracy'])\n",
        "checkpoint_cb = keras.callbacks.ModelCheckpoint('best-embedding-model.h5', save_best_only=True)\n",
        "early_stopping_cb = keras.callbacks.EarlyStopping(patience=3, restore_best_weights=True)\n",
        "history = model2.fit(train_seq, train_target, epochs=100, batch_size=64, validation_data=(val_seq, val_target),\n",
        "                    callbacks=[checkpoint_cb, early_stopping_cb])"
      ],
      "metadata": {
        "colab": {
          "base_uri": "https://localhost:8080/"
        },
        "id": "_yah4wqLiX7h",
        "outputId": "5e4d3d8a-424d-4616-8d86-476aea87ba8b"
      },
      "execution_count": 40,
      "outputs": [
        {
          "output_type": "stream",
          "name": "stdout",
          "text": [
            "Epoch 1/100\n",
            "313/313 [==============================] - 9s 24ms/step - loss: 0.6740 - accuracy: 0.5910 - val_loss: 0.6494 - val_accuracy: 0.6534\n",
            "Epoch 2/100\n",
            "313/313 [==============================] - 7s 22ms/step - loss: 0.6334 - accuracy: 0.6851 - val_loss: 0.6265 - val_accuracy: 0.6866\n",
            "Epoch 3/100\n",
            "313/313 [==============================] - 7s 22ms/step - loss: 0.6047 - accuracy: 0.7213 - val_loss: 0.6021 - val_accuracy: 0.7116\n",
            "Epoch 4/100\n",
            "313/313 [==============================] - 8s 26ms/step - loss: 0.5811 - accuracy: 0.7431 - val_loss: 0.5751 - val_accuracy: 0.7472\n",
            "Epoch 5/100\n",
            "313/313 [==============================] - 7s 23ms/step - loss: 0.5604 - accuracy: 0.7587 - val_loss: 0.5577 - val_accuracy: 0.7546\n",
            "Epoch 6/100\n",
            "313/313 [==============================] - 7s 22ms/step - loss: 0.5412 - accuracy: 0.7696 - val_loss: 0.5420 - val_accuracy: 0.7652\n",
            "Epoch 7/100\n",
            "313/313 [==============================] - 7s 22ms/step - loss: 0.5241 - accuracy: 0.7796 - val_loss: 0.5274 - val_accuracy: 0.7666\n",
            "Epoch 8/100\n",
            "313/313 [==============================] - 7s 23ms/step - loss: 0.5084 - accuracy: 0.7851 - val_loss: 0.5162 - val_accuracy: 0.7702\n",
            "Epoch 9/100\n",
            "313/313 [==============================] - 7s 22ms/step - loss: 0.4943 - accuracy: 0.7915 - val_loss: 0.5058 - val_accuracy: 0.7734\n",
            "Epoch 10/100\n",
            "313/313 [==============================] - 7s 22ms/step - loss: 0.4825 - accuracy: 0.7948 - val_loss: 0.4960 - val_accuracy: 0.7780\n",
            "Epoch 11/100\n",
            "313/313 [==============================] - 7s 22ms/step - loss: 0.4714 - accuracy: 0.7994 - val_loss: 0.4913 - val_accuracy: 0.7790\n",
            "Epoch 12/100\n",
            "313/313 [==============================] - 7s 22ms/step - loss: 0.4622 - accuracy: 0.8031 - val_loss: 0.4820 - val_accuracy: 0.7820\n",
            "Epoch 13/100\n",
            "313/313 [==============================] - 7s 22ms/step - loss: 0.4544 - accuracy: 0.8061 - val_loss: 0.4763 - val_accuracy: 0.7820\n",
            "Epoch 14/100\n",
            "313/313 [==============================] - 7s 22ms/step - loss: 0.4475 - accuracy: 0.8080 - val_loss: 0.4721 - val_accuracy: 0.7864\n",
            "Epoch 15/100\n",
            "313/313 [==============================] - 7s 22ms/step - loss: 0.4426 - accuracy: 0.8104 - val_loss: 0.4741 - val_accuracy: 0.7838\n",
            "Epoch 16/100\n",
            "313/313 [==============================] - 7s 22ms/step - loss: 0.4375 - accuracy: 0.8130 - val_loss: 0.4690 - val_accuracy: 0.7840\n",
            "Epoch 17/100\n",
            "313/313 [==============================] - 7s 22ms/step - loss: 0.4336 - accuracy: 0.8131 - val_loss: 0.4672 - val_accuracy: 0.7864\n",
            "Epoch 18/100\n",
            "313/313 [==============================] - 7s 22ms/step - loss: 0.4293 - accuracy: 0.8151 - val_loss: 0.4663 - val_accuracy: 0.7856\n",
            "Epoch 19/100\n",
            "313/313 [==============================] - 7s 22ms/step - loss: 0.4258 - accuracy: 0.8163 - val_loss: 0.4654 - val_accuracy: 0.7878\n",
            "Epoch 20/100\n",
            "313/313 [==============================] - 7s 22ms/step - loss: 0.4232 - accuracy: 0.8170 - val_loss: 0.4746 - val_accuracy: 0.7790\n",
            "Epoch 21/100\n",
            "313/313 [==============================] - 7s 22ms/step - loss: 0.4205 - accuracy: 0.8195 - val_loss: 0.4629 - val_accuracy: 0.7840\n",
            "Epoch 22/100\n",
            "313/313 [==============================] - 8s 25ms/step - loss: 0.4179 - accuracy: 0.8192 - val_loss: 0.4633 - val_accuracy: 0.7834\n",
            "Epoch 23/100\n",
            "313/313 [==============================] - 7s 22ms/step - loss: 0.4161 - accuracy: 0.8207 - val_loss: 0.4663 - val_accuracy: 0.7824\n",
            "Epoch 24/100\n",
            "313/313 [==============================] - 7s 22ms/step - loss: 0.4136 - accuracy: 0.8220 - val_loss: 0.4682 - val_accuracy: 0.7822\n"
          ]
        }
      ]
    },
    {
      "cell_type": "markdown",
      "source": [
        "임베딩을 사용한 모델도 약 80% 정도의 정확도를 기록했다. 즉, 원-핫 벡터나 임베딩이나 성능은 비슷하다고 할 수 있겠다. \n",
        "\n",
        "하지만 순환층의 가중치 개수가 훨씩 작고 훈련 세트 크기도 훨씬 줄어들게 된다. "
      ],
      "metadata": {
        "id": "nOfwy6hki7wT"
      }
    },
    {
      "cell_type": "code",
      "source": [
        "plt.plot(history.history['loss'])\n",
        "plt.plot(history.history['val_loss'])\n",
        "plt.xlabel('epoch')\n",
        "plt.ylabel('loss')\n",
        "plt.legend(['train', 'val'])\n",
        "plt.show()"
      ],
      "metadata": {
        "colab": {
          "base_uri": "https://localhost:8080/",
          "height": 279
        },
        "id": "-442LLTkuqsY",
        "outputId": "a21d8035-8b13-4ac3-b1cf-5aad009bf10b"
      },
      "execution_count": 41,
      "outputs": [
        {
          "output_type": "display_data",
          "data": {
            "text/plain": [
              "<Figure size 432x288 with 1 Axes>"
            ],
            "image/png": "[encoded data removed]"
          },
          "metadata": {
            "needs_background": "light"
          }
        }
      ]
    },
    {
      "cell_type": "markdown",
      "source": [
        "보다시피 20에폭 부근에서 검증 손실이 더 감소되지 않아 적절하게 조기종료되었다."
      ],
      "metadata": {
        "id": "NnQJTZzzvEr_"
      }
    }
  ]
}