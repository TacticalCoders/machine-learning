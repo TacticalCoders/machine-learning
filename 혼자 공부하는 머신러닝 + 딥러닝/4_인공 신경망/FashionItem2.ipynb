{
  "nbformat": 4,
  "nbformat_minor": 0,
  "metadata": {
    "colab": {
      "name": "07-2-심층 신경망.ipynb",
      "provenance": [],
      "toc_visible": true
    },
    "kernelspec": {
      "name": "python3",
      "display_name": "Python 3"
    },
    "language_info": {
      "name": "python"
    }
  },
  "cells": [
    {
      "cell_type": "markdown",
      "source": [
        "# 심층 신경망\n",
        "\n",
        "인공 신경망에 층을 여러 개 추가하여 성능을 높여 보자."
      ],
      "metadata": {
        "id": "kQyl7LTK5FHE"
      }
    },
    {
      "cell_type": "markdown",
      "source": [
        "## 2개의 층"
      ],
      "metadata": {
        "id": "zJ-82jSCZu8M"
      }
    },
    {
      "cell_type": "markdown",
      "source": [
        "### 데이터 준비하기"
      ],
      "metadata": {
        "id": "7tyXCtrSZx98"
      }
    },
    {
      "cell_type": "code",
      "source": [
        "from tensorflow import keras\n",
        "(train_input, train_target), (test_input, test_traget) = keras.datasets.fashion_mnist.load_data()"
      ],
      "metadata": {
        "colab": {
          "base_uri": "https://localhost:8080/"
        },
        "id": "612-jbI5Z0AF",
        "outputId": "4e545002-f2b9-4c31-a386-095c0132a70e"
      },
      "execution_count": 3,
      "outputs": [
        {
          "output_type": "stream",
          "name": "stdout",
          "text": [
            "Downloading data from https://storage.googleapis.com/tensorflow/tf-keras-datasets/train-labels-idx1-ubyte.gz\n",
            "32768/29515 [=================================] - 0s 0us/step\n",
            "40960/29515 [=========================================] - 0s 0us/step\n",
            "Downloading data from https://storage.googleapis.com/tensorflow/tf-keras-datasets/train-images-idx3-ubyte.gz\n",
            "26427392/26421880 [==============================] - 0s 0us/step\n",
            "26435584/26421880 [==============================] - 0s 0us/step\n",
            "Downloading data from https://storage.googleapis.com/tensorflow/tf-keras-datasets/t10k-labels-idx1-ubyte.gz\n",
            "16384/5148 [===============================================================================================] - 0s 0us/step\n",
            "Downloading data from https://storage.googleapis.com/tensorflow/tf-keras-datasets/t10k-images-idx3-ubyte.gz\n",
            "4423680/4422102 [==============================] - 0s 0us/step\n",
            "4431872/4422102 [==============================] - 0s 0us/step\n"
          ]
        }
      ]
    },
    {
      "cell_type": "markdown",
      "source": [
        "픽셀값을 0 ~ 255 범위에서 0 ~ 1 사이로 변환하고, 28*28 크기의 2차원 배열을 784 크기의 1차원 배열로 펼치자."
      ],
      "metadata": {
        "id": "ZhWLD05IaB1c"
      }
    },
    {
      "cell_type": "code",
      "source": [
        "from sklearn.model_selection import train_test_split\n",
        "train_scaled = train_input / 255.0\n",
        "train_scaled = train_scaled.reshape(-1, 28*28)"
      ],
      "metadata": {
        "id": "Oem91fy0arpL"
      },
      "execution_count": 4,
      "outputs": []
    },
    {
      "cell_type": "markdown",
      "source": [
        "이제 훈련 세트와 테스트 세트를 나누자."
      ],
      "metadata": {
        "id": "xEIq427-a_80"
      }
    },
    {
      "cell_type": "code",
      "source": [
        "train_scaled, val_scaled, train_target, val_target = train_test_split(train_scaled, train_target, test_size=0.2, random_state=42)"
      ],
      "metadata": {
        "id": "XKVxWIMAbEqD"
      },
      "execution_count": 5,
      "outputs": []
    },
    {
      "cell_type": "markdown",
      "source": [
        "### **은닉층(hidden layer)** 추가 하기\n",
        "\n",
        "입력층과 출력층 사이에 은닉층을 추가할 것이다.\n",
        "\n",
        "은닉층에는 활성화 함수가 적용된다. 출력층의 활성화 함수는 종류가 제한되어 있는데 반해(이진분류:시그모이드, 다중 분류:소프트 맥스) 은닉층의 활성화 함수는 비교적 자유롭다. 대표적으로 시그모이드 함수와 **렐루(ReLU)** 함수 등이 있다.\n",
        "\n",
        "(분류 문제는 클래스에 대한 확률을 위해 활성화함수를 사용한다. 회귀는 활성화 함수를 적용할 필요가 없다.)\n"
      ],
      "metadata": {
        "id": "eLY7OgbqbUKM"
      }
    },
    {
      "cell_type": "code",
      "source": [
        "dense1 = keras.layers.Dense(100, activation='sigmoid', input_shape=(784,)) # 은닉층. 시그모이드 함수 적용. 신경망 첫 번째 층은 매개변수 입력의 크기를 꼭 지정해 주어야 한다.\n",
        "dense2 = keras.layers.Dense(10, activation='softmax')"
      ],
      "metadata": {
        "id": "wEBjSOOidn3b"
      },
      "execution_count": 6,
      "outputs": []
    },
    {
      "cell_type": "markdown",
      "source": [
        "dense1이 은닉층이고 **100개**의 뉴런을 가진 밀집층이다. 은닉층의 뉴런 개수를 정하는 데는 특별한 기준이 없다. 몇 개의 뉴런을 두어야 할지 판단하기 위해선 상당한 경험이 필요하다.하지만 **적어도 출력층의 뉴런 보다는 많게 만들어야 한다.** 클래스 10개에 대한 확률을 예측해야 하는데 10개보다는 많은 정보가 필요하기 때문이다."
      ],
      "metadata": {
        "id": "W-xfTogLfVGa"
      }
    },
    {
      "cell_type": "markdown",
      "source": [
        "### **심층 신경망** 만들기**(deep neural network, DNN)**"
      ],
      "metadata": {
        "id": "zWw6hSMngMlK"
      }
    },
    {
      "cell_type": "code",
      "source": [
        "model = keras.Sequential([dense1, dense2])"
      ],
      "metadata": {
        "id": "JuoE70eCgamZ"
      },
      "execution_count": 7,
      "outputs": []
    },
    {
      "cell_type": "markdown",
      "source": [
        "여러 층을 추가하려면 dense1과 dense2를 리스트로 만들어 전달한다. (**출력층을 가장 마지막에 두어야 한다**.)"
      ],
      "metadata": {
        "id": "J6WguT-vgfwL"
      }
    },
    {
      "cell_type": "code",
      "source": [
        "model.summary()"
      ],
      "metadata": {
        "colab": {
          "base_uri": "https://localhost:8080/"
        },
        "id": "BHdsc1yQgwaR",
        "outputId": "62974368-4d95-4564-b58b-01f949c18a83"
      },
      "execution_count": 8,
      "outputs": [
        {
          "output_type": "stream",
          "name": "stdout",
          "text": [
            "Model: \"sequential\"\n",
            "_________________________________________________________________\n",
            " Layer (type)                Output Shape              Param #   \n",
            "=================================================================\n",
            " dense (Dense)               (None, 100)               78500     \n",
            "                                                                 \n",
            " dense_1 (Dense)             (None, 10)                1010      \n",
            "                                                                 \n",
            "=================================================================\n",
            "Total params: 79,510\n",
            "Trainable params: 79,510\n",
            "Non-trainable params: 0\n",
            "_________________________________________________________________\n"
          ]
        }
      ]
    },
    {
      "cell_type": "markdown",
      "source": [
        "summary()로 층에 대해 유용한 정보를 얻을 수 있다.\n",
        "\n",
        "모델에 들어있는 층이 순서대로 나열된다.(처음 추가한 은닉층 -> 출력층)\n",
        "\n",
        "층마다 층 이름, 클래스, 출력 크기, 모델 파라미터 개수가 출력된다. \n",
        "\n",
        "출력 크기를 보면 (None, 100)인데, 첫 번째 차원은 샘플의 개수를 의미한다. 케라스 모델의 fit() 메서드에 훈련 데이터를 주입하면 이 데이터를 잘게 나누어 여러 번에 걸쳐 경사 하강법 단계를 수행한다. 즉, **미니배치 경사 하강법을 사용**한다.(기본값 32개) 이 값은 batch_size 매개변수로 바꿀 수 있기 때문에 샘플 개수를 고정하지 않고 유연하게 대응할 수 있도록 None으로 설정한 것이다.\n",
        "\n",
        "이렇게 **신경망 층에 입력되거나 출력되는 배열의 첫 번째 차원을 배치 차원**이라고 부른다. \n",
        "\n",
        "두 번째 100은 뉴런 개수 100, 엄밀히 말하면 100개의 출력을 의미한다. \n",
        "\n",
        "샘플마다 784개의 픽셀이 입력되어 은닉층을 통과하면서 100개의 특성으로 압축된 것이다.\n",
        "\n",
        "마지막으로는 모델 파라미터 개수가 출력된다. 픽셀 784개와 100개의 대한 모든 조합에 대한 가중치 + 뉴런마다 1개의 절편이 추가되어 78500개인 것을 확인할 수 있다.\n",
        "\n",
        "두 번째 층의 모델 파라미터는 100개의 은닉층 뉴런과 10개의 출력층 뉴런이 모두 연결되고 출력층 뉴런마다 절편이 있어 총 1,010개의 모델 파라미터를 구한 것을 확인할 수 있다.\n",
        "\n",
        "summary() 마지막에는 총 모델 파라미터 개수와 훈련되는 파라미터의 개수, 훈련되지 않는 파라미터 수가 출력된다.(간혹 경사 하강법으로 훈련되지 않는 파라미터를 가진 층이 있다.)"
      ],
      "metadata": {
        "id": "zeI8uWERgyZC"
      }
    },
    {
      "cell_type": "markdown",
      "source": [
        "#### 층을 추가하는 다른 방법\n",
        "\n",
        "Dense 클래스의 객체를 Sequential 생성자 안에서 바로 만드는 방법도 있다. (더 주류적인 방법)\n"
      ],
      "metadata": {
        "id": "XsPnxEwBhrpz"
      }
    },
    {
      "cell_type": "code",
      "source": [
        "# 생성자 안에서 Dense 객체 생성\n",
        "model = keras.Sequential([ \n",
        "                          keras.layers.Dense(100, activation='sigmoid', input_shape=(784,), name='hidden'),\n",
        "                          keras.layers.Dense(10, activation='softmax', name='outout')\n",
        "], name='패션 MNIST 모델')"
      ],
      "metadata": {
        "id": "MfUg96Ugj-hQ"
      },
      "execution_count": 11,
      "outputs": []
    },
    {
      "cell_type": "code",
      "source": [
        "model.summary()"
      ],
      "metadata": {
        "colab": {
          "base_uri": "https://localhost:8080/"
        },
        "id": "ldSg2E8Fkr2f",
        "outputId": "cc841e81-2525-46d6-ec06-ee7e2282bfbc"
      },
      "execution_count": 12,
      "outputs": [
        {
          "output_type": "stream",
          "name": "stdout",
          "text": [
            "Model: \"패션 MNIST 모델\"\n",
            "_________________________________________________________________\n",
            " Layer (type)                Output Shape              Param #   \n",
            "=================================================================\n",
            " hidden (Dense)              (None, 100)               78500     \n",
            "                                                                 \n",
            " outout (Dense)              (None, 10)                1010      \n",
            "                                                                 \n",
            "=================================================================\n",
            "Total params: 79,510\n",
            "Trainable params: 79,510\n",
            "Non-trainable params: 0\n",
            "_________________________________________________________________\n"
          ]
        }
      ]
    },
    {
      "cell_type": "code",
      "source": [
        "# add() 메서드\n",
        "model = keras.Sequential()\n",
        "model.add(keras.layers.Dense(100, activation='sigmoid', input_shape=(784,)))\n",
        "model.add(keras.layers.Dense(10, activation='softmax'))\n",
        "\n",
        "model.summary()"
      ],
      "metadata": {
        "colab": {
          "base_uri": "https://localhost:8080/"
        },
        "id": "pApnZHy0kztA",
        "outputId": "74bd861b-4063-443b-a16c-396cb31292ca"
      },
      "execution_count": 13,
      "outputs": [
        {
          "output_type": "stream",
          "name": "stdout",
          "text": [
            "Model: \"sequential_1\"\n",
            "_________________________________________________________________\n",
            " Layer (type)                Output Shape              Param #   \n",
            "=================================================================\n",
            " dense_2 (Dense)             (None, 100)               78500     \n",
            "                                                                 \n",
            " dense_3 (Dense)             (None, 10)                1010      \n",
            "                                                                 \n",
            "=================================================================\n",
            "Total params: 79,510\n",
            "Trainable params: 79,510\n",
            "Non-trainable params: 0\n",
            "_________________________________________________________________\n"
          ]
        }
      ]
    },
    {
      "cell_type": "markdown",
      "source": [
        "### 모델 훈련하기"
      ],
      "metadata": {
        "id": "O6PHvmjFlWaw"
      }
    },
    {
      "cell_type": "code",
      "source": [
        "model.compile(loss='sparse_categorical_crossentropy', metrics='accuracy')\n",
        "model.fit(train_scaled, train_target, epochs=5)"
      ],
      "metadata": {
        "colab": {
          "base_uri": "https://localhost:8080/"
        },
        "id": "WtvCCmbMlb-X",
        "outputId": "c81f61cb-c36c-4061-d48e-f9f176bf66bd"
      },
      "execution_count": 14,
      "outputs": [
        {
          "output_type": "stream",
          "name": "stdout",
          "text": [
            "Epoch 1/5\n",
            "1500/1500 [==============================] - 5s 3ms/step - loss: 0.5644 - accuracy: 0.8096\n",
            "Epoch 2/5\n",
            "1500/1500 [==============================] - 4s 3ms/step - loss: 0.4108 - accuracy: 0.8519\n",
            "Epoch 3/5\n",
            "1500/1500 [==============================] - 5s 3ms/step - loss: 0.3760 - accuracy: 0.8643\n",
            "Epoch 4/5\n",
            "1500/1500 [==============================] - 5s 3ms/step - loss: 0.3542 - accuracy: 0.8737\n",
            "Epoch 5/5\n",
            "1500/1500 [==============================] - 5s 3ms/step - loss: 0.3361 - accuracy: 0.8791\n"
          ]
        },
        {
          "output_type": "execute_result",
          "data": {
            "text/plain": [
              "<keras.callbacks.History at 0x7f807d27d650>"
            ]
          },
          "metadata": {},
          "execution_count": 14
        }
      ]
    },
    {
      "cell_type": "markdown",
      "source": [
        "추가된 층이 성능을 향상시킨 것을 확인할 수 있다."
      ],
      "metadata": {
        "id": "HXo022oClorg"
      }
    },
    {
      "cell_type": "markdown",
      "source": [
        "### 렐루(ReLU) 함수\n",
        "\n",
        "초창기 인공 신경망의 은닉층에 많이 사용된 활성화 함수는 시그모이드 함수였다. \n",
        "\n",
        "무한한 음수로 갈 때, 무한한 양수로 갈 때 그래프가 거의 누워있기 때문에 올바른 출력을 만드는데 신속하게 대응하지 못한다.\n",
        "\n",
        "특히 층이 많은 심층 신경망일수록 그 효과과 누적되어 학습을 어렵게 만든다. 이를 개선하기 위해 다른 종류의 활성화 함수가 제안되었는데, 바로 렐루(ReLU)함수이다."
      ],
      "metadata": {
        "id": "dL5L-kBwl0FQ"
      }
    },
    {
      "cell_type": "markdown",
      "source": [
        "![캡처.PNG](data:image/png;base64,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)"
      ],
      "metadata": {
        "id": "VU4EeF_rpP1m"
      }
    },
    {
      "cell_type": "markdown",
      "source": [
        "그림처럼 입력이 양수일 경우 그냥 z값을 통과시키고 음수일 경우에만 0으로 만든다.\n",
        "\n",
        "렐루 함수는 특히 이미지 처리에서 좋은 성능을 낸다고 알려져 있다."
      ],
      "metadata": {
        "id": "8kqvEPonpexo"
      }
    },
    {
      "cell_type": "markdown",
      "source": [
        "### Flatten층으로 추가하고 렐루 적용하여 재훈련하기\n"
      ],
      "metadata": {
        "id": "IWdQcAszpxT-"
      }
    },
    {
      "cell_type": "markdown",
      "source": [
        "패션 MNIST 데이터는 28 x 28 크기이기 때문에 넘파이 배열의 reshape()메서드로 1차원으로 펼쳤다. \n",
        "\n",
        "하지만 케라스의 Flatten층을 사용하면 더 간단하게 픽셀을 입력할 수 있다."
      ],
      "metadata": {
        "id": "onWzXOE5qi2_"
      }
    },
    {
      "cell_type": "code",
      "source": [
        "model = keras.Sequential()\n",
        "model.add(keras.layers.Flatten(input_shape=(28, 28)))\n",
        "model.add(keras.layers.Dense(100, activation='relu')) # 은닉층의 활성함수 relu로 지정.\n",
        "model.add(keras.layers.Dense(10, activation='softmax'))"
      ],
      "metadata": {
        "id": "Cmt28cpYq36F"
      },
      "execution_count": 15,
      "outputs": []
    },
    {
      "cell_type": "code",
      "source": [
        "model.summary()"
      ],
      "metadata": {
        "colab": {
          "base_uri": "https://localhost:8080/"
        },
        "id": "QVIo_55wri0-",
        "outputId": "25bfc359-0b58-4724-88d8-e518633aa3b0"
      },
      "execution_count": 16,
      "outputs": [
        {
          "output_type": "stream",
          "name": "stdout",
          "text": [
            "Model: \"sequential_2\"\n",
            "_________________________________________________________________\n",
            " Layer (type)                Output Shape              Param #   \n",
            "=================================================================\n",
            " flatten (Flatten)           (None, 784)               0         \n",
            "                                                                 \n",
            " dense_4 (Dense)             (None, 100)               78500     \n",
            "                                                                 \n",
            " dense_5 (Dense)             (None, 10)                1010      \n",
            "                                                                 \n",
            "=================================================================\n",
            "Total params: 79,510\n",
            "Trainable params: 79,510\n",
            "Non-trainable params: 0\n",
            "_________________________________________________________________\n"
          ]
        }
      ]
    },
    {
      "cell_type": "markdown",
      "source": [
        "Flatten 층을 신경망 모델에 추가하면 입력값의 차원을 짐작할 수 있다는 것이 하나의 장점이다.\n",
        "\n",
        "이렇게 하는 이유는 입력 데이터에 대한 전처리 과정을 가능한 모델에 포함시키는 것이 케라스 API의 철학 중 하나이기 때문이다."
      ],
      "metadata": {
        "id": "D_EaRwXurknl"
      }
    },
    {
      "cell_type": "code",
      "source": [
        "(train_input, train_target), (test_input, test_target) = keras.datasets.fashion_mnist.load_data()\n",
        "train_scaled = train_input / 255.0\n",
        "train_scaled, val_scaled, train_target, val_target = train_test_split(train_scaled, train_target, test_size=0.2, random_state=42)"
      ],
      "metadata": {
        "id": "y3zjniZZr-l1"
      },
      "execution_count": 18,
      "outputs": []
    },
    {
      "cell_type": "code",
      "source": [
        "model.compile(loss='sparse_categorical_crossentropy', metrics='accuracy')\n",
        "model.fit(train_scaled, train_target, epochs=5)"
      ],
      "metadata": {
        "colab": {
          "base_uri": "https://localhost:8080/"
        },
        "id": "wdCfFoyvskPO",
        "outputId": "deb30dbc-ee52-4017-9aec-16a28fac07ba"
      },
      "execution_count": 19,
      "outputs": [
        {
          "output_type": "stream",
          "name": "stdout",
          "text": [
            "Epoch 1/5\n",
            "1500/1500 [==============================] - 7s 4ms/step - loss: 0.5391 - accuracy: 0.8106\n",
            "Epoch 2/5\n",
            "1500/1500 [==============================] - 4s 3ms/step - loss: 0.3963 - accuracy: 0.8582\n",
            "Epoch 3/5\n",
            "1500/1500 [==============================] - 4s 3ms/step - loss: 0.3570 - accuracy: 0.8712\n",
            "Epoch 4/5\n",
            "1500/1500 [==============================] - 4s 3ms/step - loss: 0.3366 - accuracy: 0.8794\n",
            "Epoch 5/5\n",
            "1500/1500 [==============================] - 4s 3ms/step - loss: 0.3245 - accuracy: 0.8834\n"
          ]
        },
        {
          "output_type": "execute_result",
          "data": {
            "text/plain": [
              "<keras.callbacks.History at 0x7f807b8429d0>"
            ]
          },
          "metadata": {},
          "execution_count": 19
        }
      ]
    },
    {
      "cell_type": "code",
      "source": [
        "model.evaluate(val_scaled, val_target)"
      ],
      "metadata": {
        "colab": {
          "base_uri": "https://localhost:8080/"
        },
        "id": "gTCd3OqotYAt",
        "outputId": "e8867e8c-34bb-4ebf-9081-db9050a797de"
      },
      "execution_count": 20,
      "outputs": [
        {
          "output_type": "stream",
          "name": "stdout",
          "text": [
            "375/375 [==============================] - 1s 2ms/step - loss: 0.3754 - accuracy: 0.8737\n"
          ]
        },
        {
          "output_type": "execute_result",
          "data": {
            "text/plain": [
              "[0.37541311979293823, 0.8737499713897705]"
            ]
          },
          "metadata": {},
          "execution_count": 20
        }
      ]
    },
    {
      "cell_type": "markdown",
      "source": [
        "성능이 몇 퍼센트 향상되었다."
      ],
      "metadata": {
        "id": "t6tmF6q3tsQl"
      }
    },
    {
      "cell_type": "markdown",
      "source": [
        "## 옵티마이저(optimizer)"
      ],
      "metadata": {
        "id": "lZWf9hpyt04M"
      }
    },
    {
      "cell_type": "markdown",
      "source": [
        "신경망에서 직접 지정해줘야 하는 하이퍼 파라미터로는 다음이 있다.\n",
        "\n",
        "*   은닉층의 개수\n",
        "*   뉴런 개수\n",
        "*   활성화 함수(시그모이드, 렐루)\n",
        "*   층의 종류(밀집층, Flatten..)\n",
        "*   배치 사이즈 매개변수\n",
        "*   에포크 매개변수\n",
        "\n",
        "그리고 comlie() 메서드에서 케라스의 기본 경사 하강법 알고리즘인 RMSprop를 사용했다. 케라느는 다양한 종류의 경사 하강법 알고리즘을 제공하는데, 이들을 **옵티마이저(optimizer)**라고 한다. 옵티마이저의 종류 역시 사람이 지정해줘야 하는 하이퍼 파라미터에 해당한다.\n",
        "\n"
      ],
      "metadata": {
        "id": "xJmA4kKrt9Fu"
      }
    },
    {
      "cell_type": "markdown",
      "source": [
        "### 여러가지 옵티마이저 테스트 해보기"
      ],
      "metadata": {
        "id": "PfhBczbquWMu"
      }
    },
    {
      "cell_type": "code",
      "source": [
        "# 확률적 경사 하강법 SGD\n",
        "model.compile(optimizer='sgd', loss='sparse_categorical_crossentropy', metrics='accuracy')"
      ],
      "metadata": {
        "id": "yL3vW-nDvm4P"
      },
      "execution_count": 22,
      "outputs": []
    },
    {
      "cell_type": "code",
      "source": [
        "# SGD 학습률 기본값 learning_rate에 지정\n",
        "sgd = keras.optimizers.SGD(learning_rate=0.1)"
      ],
      "metadata": {
        "id": "9TDCu5w0v-Qv"
      },
      "execution_count": 24,
      "outputs": []
    },
    {
      "cell_type": "code",
      "source": [
        "# 모멘텀 최적화와 네스테로프 모멘텀 최적화\n",
        "sgd = keras.optimizers.SGD(momentum=0.9, nesterov=True)"
      ],
      "metadata": {
        "id": "SELp_w0Ew6mb"
      },
      "execution_count": 25,
      "outputs": []
    },
    {
      "cell_type": "markdown",
      "source": [
        "momentum 매개변수의 기본값은 0이다. 이를 0보다 큰 값을 지정하면 이전의 그레이디언트를 가속도 처럼 사용하는 모멘텀 최적화를 사용한다. 보통 0.9이상을 지정한다.\n",
        "\n",
        "nesterov를 True로 바꾸면 네스테로프 모멘텀 최적화(네스테로프 가속 경사)를 사용한다.(모멘텀 최적화를 2번 반복하여 구현)\n",
        "\n",
        "대부분의 경우 네스테로프 모멘텀 최적화가 기본 확률적 경사 하강법보다 더 나은 성능을 제공한다."
      ],
      "metadata": {
        "id": "2oKhBpknxw0s"
      }
    },
    {
      "cell_type": "code",
      "source": [
        "# 적응적 학습률 Adagrad()\n",
        "adagrad = keras.optimizers.Adagrad()\n",
        "model.compile(optimizer=adagrad, loss='sparse_categorical_crossentropy', metrics='accuracy')"
      ],
      "metadata": {
        "id": "DfosocyzyTlb"
      },
      "execution_count": 27,
      "outputs": []
    },
    {
      "cell_type": "markdown",
      "source": [
        "모델이 최적점에 가까이 갈수록 학습률을 낮출 수 있다. 이렇게 하면 안정적으로 최적점에 수렴할 가능성이 높다. 이런 학습률을 **적응적 학습률(adaptive learning rate)**라고 한다. -> 학습률 매개변수 튜닝 수고 감소"
      ],
      "metadata": {
        "id": "t-N28iNozF2b"
      }
    },
    {
      "cell_type": "code",
      "source": [
        "# 적응적 학습률 RMsprop\n",
        "rmsprop = keras.optimizers.RMSprop()\n",
        "model.compile(optimizer=rmsprop, loss='sparse_categorical_crossentropy', metrics='accuracy')"
      ],
      "metadata": {
        "id": "cneXy6ruzd6v"
      },
      "execution_count": 29,
      "outputs": []
    },
    {
      "cell_type": "markdown",
      "source": [
        "모멘텀 최적화와 RMSprop의 장점을 접목한 것이 Adam이다. 맨 처음으로 시도해 볼 수 있는 좋은 알고리즘이다. 적응적 학습률을 사용하는데 learning_rate 매개변수 기본값 모두 0.0001을 사용한다."
      ],
      "metadata": {
        "id": "nnKxP5ezzx06"
      }
    },
    {
      "cell_type": "markdown",
      "source": [
        "### Adam을 사용해 모델 훈련하기"
      ],
      "metadata": {
        "id": "uO70EnSH0L5S"
      }
    },
    {
      "cell_type": "code",
      "source": [
        "model = keras.Sequential()\n",
        "model.add(keras.layers.Flatten(input_shape=(28,28)))\n",
        "model.add(keras.layers.Dense(100, activation='relu'))\n",
        "model.add(keras.layers.Dense(10, activation='softmax'))"
      ],
      "metadata": {
        "id": "caXYp0Ax0dPF"
      },
      "execution_count": 30,
      "outputs": []
    },
    {
      "cell_type": "code",
      "source": [
        "model.compile(optimizer='adam', loss='sparse_categorical_crossentropy', metrics='accuracy')\n",
        "model.fit(train_scaled, train_target, epochs=5)"
      ],
      "metadata": {
        "colab": {
          "base_uri": "https://localhost:8080/"
        },
        "id": "c31YQ_5D09_T",
        "outputId": "1f550e43-d806-492b-a2b2-ff66352b7d49"
      },
      "execution_count": 31,
      "outputs": [
        {
          "output_type": "stream",
          "name": "stdout",
          "text": [
            "Epoch 1/5\n",
            "1500/1500 [==============================] - 6s 3ms/step - loss: 0.5296 - accuracy: 0.8149\n",
            "Epoch 2/5\n",
            "1500/1500 [==============================] - 4s 3ms/step - loss: 0.3908 - accuracy: 0.8600\n",
            "Epoch 3/5\n",
            "1500/1500 [==============================] - 4s 3ms/step - loss: 0.3503 - accuracy: 0.8734\n",
            "Epoch 4/5\n",
            "1500/1500 [==============================] - 4s 3ms/step - loss: 0.3256 - accuracy: 0.8814\n",
            "Epoch 5/5\n",
            "1500/1500 [==============================] - 4s 3ms/step - loss: 0.3081 - accuracy: 0.8858\n"
          ]
        },
        {
          "output_type": "execute_result",
          "data": {
            "text/plain": [
              "<keras.callbacks.History at 0x7f807cf37210>"
            ]
          },
          "metadata": {},
          "execution_count": 31
        }
      ]
    },
    {
      "cell_type": "markdown",
      "source": [
        "RMSprop을 사용했을 때와 거의 같은 성능을 보여준다."
      ],
      "metadata": {
        "id": "N-YiCC7k1Khz"
      }
    },
    {
      "cell_type": "code",
      "source": [
        "model.evaluate(val_scaled, val_target)"
      ],
      "metadata": {
        "colab": {
          "base_uri": "https://localhost:8080/"
        },
        "id": "Bw6We7FD1UxC",
        "outputId": "5d2425b8-0c7d-49b5-a35b-5edddfe7fbd5"
      },
      "execution_count": 32,
      "outputs": [
        {
          "output_type": "stream",
          "name": "stdout",
          "text": [
            "375/375 [==============================] - 1s 3ms/step - loss: 0.3365 - accuracy: 0.8801\n"
          ]
        },
        {
          "output_type": "execute_result",
          "data": {
            "text/plain": [
              "[0.3364570438861847, 0.8800833225250244]"
            ]
          },
          "metadata": {},
          "execution_count": 32
        }
      ]
    }
  ]
}