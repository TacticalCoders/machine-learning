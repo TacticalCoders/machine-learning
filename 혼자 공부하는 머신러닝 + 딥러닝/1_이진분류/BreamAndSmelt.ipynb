{
  "nbformat": 4,
  "nbformat_minor": 0,
  "metadata": {
    "colab": {
      "name": "BreamAndSmelt",
      "provenance": [],
      "collapsed_sections": [],
      "toc_visible": true
    },
    "kernelspec": {
      "name": "python3",
      "display_name": "Python 3"
    },
    "language_info": {
      "name": "python"
    }
  },
  "cells": [
    {
      "cell_type": "markdown",
      "source": [
        "**이진분류**\n",
        "\n",
        "머신러닝에서 여러 개의 종류(=클래스) 중 하나를 구별해 나는 문제를 분류(classfication)라고 부른다. 2개의 클래스 중 하나를 고르는 문제를 이진 분류(binary classfication)이라 한다."
      ],
      "metadata": {
        "id": "-EaQHvT_NKWV"
      }
    },
    {
      "cell_type": "markdown",
      "source": [
        "# 도미와 빙어 이진분류\n"
      ],
      "metadata": {
        "id": "cyfRA8KXNl05"
      }
    },
    {
      "cell_type": "markdown",
      "source": [
        "35마리의 도미의 길이와(cm)와 무게(g)를 파이썬 리스트로 만들면 다음과 같다."
      ],
      "metadata": {
        "id": "AknjOtxdN57d"
      }
    },
    {
      "cell_type": "code",
      "source": [
        "bream_length = [25.4, 26.3, 26.5, 29.0, 29.0, 29.7, 29.7, 30.0, 30.0, 30.7, 31.0, 31.0, \n",
        "                31.5, 32.0, 32.0, 32.0, 33.0, 33.0, 33.5, 33.5, 34.0, 34.0, 34.5, 35.0, \n",
        "                35.0, 35.0, 35.0, 36.0, 36.0, 37.0, 38.5, 38.5, 39.5, 41.0, 41.0]\n",
        "bream_weight = [242.0, 290.0, 340.0, 363.0, 430.0, 450.0, 500.0, 390.0, 450.0, 500.0, 475.0, 500.0, \n",
        "                500.0, 340.0, 600.0, 600.0, 700.0, 700.0, 610.0, 650.0, 575.0, 685.0, 620.0, 680.0, \n",
        "                700.0, 725.0, 720.0, 714.0, 850.0, 1000.0, 920.0, 955.0, 925.0, 975.0, 950.0]"
      ],
      "metadata": {
        "id": "Chza7D05OHcR"
      },
      "execution_count": 1,
      "outputs": []
    },
    {
      "cell_type": "markdown",
      "source": [
        "첫 번째 도미의 길이는 25.4cm이고 무게는 242.0g임을 알 수 있다. 이처럼 각 도미의 특징을 길이와 무게로 표현한 것이다. 이런 특징을 **특성**(**feature**)라고 한다. \n",
        "\n",
        "**특성 : 데이터의 특징**"
      ],
      "metadata": {
        "id": "wBIkhb1DOYPt"
      }
    },
    {
      "cell_type": "markdown",
      "source": [
        "## 데이터 시각화하기\n",
        "데이터의 특성을 숫자로 보는 것보다는 그래프로 표현하는 것이 더 이해하기 쉽다. 따라서 파이썬의** 맷플롯립(matplotlib)** 패키지를 이용해 산점도 그래프를 그려보자."
      ],
      "metadata": {
        "id": "6GNkV2VoPAfv"
      }
    },
    {
      "cell_type": "code",
      "source": [
        "import matplotlib.pyplot as plt\n",
        "\n",
        "plt.scatter(bream_length, bream_weight) # (x,y) 도미의 길이, 도미의 무게\n",
        "plt.xlabel('length')\n",
        "plt.ylabel('weight')\n",
        "plt.show"
      ],
      "metadata": {
        "colab": {
          "base_uri": "https://localhost:8080/",
          "height": 297
        },
        "id": "yZgHBDzrPb8e",
        "outputId": "d2356f7b-4499-4a91-b695-4cace03eb93e"
      },
      "execution_count": 2,
      "outputs": [
        {
          "output_type": "execute_result",
          "data": {
            "text/plain": [
              "<function matplotlib.pyplot.show>"
            ]
          },
          "metadata": {},
          "execution_count": 2
        },
        {
          "output_type": "display_data",
          "data": {
            "text/plain": [
              "<Figure size 432x288 with 1 Axes>"
            ],
            "image/png": "[encoded data removed]"
          },
          "metadata": {
            "needs_background": "light"
          }
        }
      ]
    },
    {
      "cell_type": "markdown",
      "source": [
        "위 그래프에서 \"*생선의 길이가 길수록 무게가 많이 나간다*\"는 점을 확인할 수 있다. \n",
        "이렇게 산점도 그래프가 일직선에 가까운 형태로 나타나는 경우를 **선형(linear)적**이라고 말한다."
      ],
      "metadata": {
        "id": "XQi6jqpwQKu1"
      }
    },
    {
      "cell_type": "markdown",
      "source": [
        "그럼 이제 빙어 데이터를 준비해보자."
      ],
      "metadata": {
        "id": "IHmZNYWzQrBC"
      }
    },
    {
      "cell_type": "code",
      "source": [
        "smelt_length = [9.8, 10.5, 10.6, 11.0, 11.2, 11.3, 11.8, 11.8, 12.0, 12.2, 12.4, 13.0, 14.3, 15.0]\n",
        "smelt_weight = [6.7, 7.5, 7.0, 9.7, 9.8, 8.7, 10.0, 9.9, 9.8, 12.2, 13.4, 12.2, 19.7, 19.9]"
      ],
      "metadata": {
        "id": "gN2ENVAnQtiQ"
      },
      "execution_count": 3,
      "outputs": []
    },
    {
      "cell_type": "markdown",
      "source": [
        "도미에 비해 빙어는 크기도 작고, 무게도 가볍다는 것을 확인할 수 있다.\n",
        "\n",
        "그럼 이제 도미와 빙어를 하나의 산점도 그래프로 그려보자."
      ],
      "metadata": {
        "id": "eE31YdCBRJOX"
      }
    },
    {
      "cell_type": "code",
      "source": [
        "plt.scatter(bream_length, bream_weight)\n",
        "plt.scatter(smelt_length, smelt_weight)\n",
        "plt.xlabel('length')\n",
        "plt.ylabel('weight')\n",
        "plt.show()"
      ],
      "metadata": {
        "colab": {
          "base_uri": "https://localhost:8080/",
          "height": 279
        },
        "id": "yW6IXDYMREvT",
        "outputId": "b06ed880-0e83-488b-894e-9f70ef5d15f7"
      },
      "execution_count": 4,
      "outputs": [
        {
          "output_type": "display_data",
          "data": {
            "text/plain": [
              "<Figure size 432x288 with 1 Axes>"
            ],
            "image/png": "[encoded data removed]"
          },
          "metadata": {
            "needs_background": "light"
          }
        }
      ]
    },
    {
      "cell_type": "markdown",
      "source": [
        "선형적이었던 도미와 달리 빙어는 그다지 선형적이지 않다. 도미는 길이과 무게가 비례하지만 빙어는 길이가 늘어나더라도 무게가 많이 늘지 않는다. 따라서 빙어는 무게가 길이에 영향을 덜 받는다고 볼 수 있다."
      ],
      "metadata": {
        "id": "WdhICdmcRqp6"
      }
    },
    {
      "cell_type": "markdown",
      "source": [
        "## k-최근접 아웃 알고리즘을 활용한 머신러닝\n",
        "우선 도미와 방어 데이터를 하나의 데이터로 합쳐보자."
      ],
      "metadata": {
        "id": "rcEyhpq7E8vB"
      }
    },
    {
      "cell_type": "code",
      "source": [
        "length = bream_length + smelt_length\n",
        "weight = bream_weight + smelt_weight"
      ],
      "metadata": {
        "id": "ojNXuSb_FLgS"
      },
      "execution_count": 18,
      "outputs": []
    },
    {
      "cell_type": "markdown",
      "source": [
        "이제 사용할 머신러닝 패키지, **사이킷런**을 사용하기 위해서는 각 특성의 리스트를 세로 방향으로 늘어뜨린 2차원 리스트(행렬)을 만들어야 한다.\n",
        "\n",
        "\n",
        "파이썬의 zip()과 리스트 컴프리헨션을 사용하여 2차원 리스트를 만들 수 있다."
      ],
      "metadata": {
        "id": "JQLDbqo2FsO0"
      }
    },
    {
      "cell_type": "code",
      "source": [
        "fish_data = [[l,w] for l, w in zip(length, weight)] #zip은 나열된 리스트에서 원소를 하나씩 꺼내주는 역할을 한다."
      ],
      "metadata": {
        "id": "VvvnS6eIGE2M"
      },
      "execution_count": 19,
      "outputs": []
    },
    {
      "cell_type": "code",
      "source": [
        "print(fish_data)"
      ],
      "metadata": {
        "colab": {
          "base_uri": "https://localhost:8080/"
        },
        "id": "e5xP2PkVGwOz",
        "outputId": "080c100d-1003-4a16-f387-e5a2aa7fdd96"
      },
      "execution_count": 20,
      "outputs": [
        {
          "output_type": "stream",
          "name": "stdout",
          "text": [
            "[[25.4, 242.0], [26.3, 290.0], [26.5, 340.0], [29.0, 363.0], [29.0, 430.0], [29.7, 450.0], [29.7, 500.0], [30.0, 390.0], [30.0, 450.0], [30.7, 500.0], [31.0, 475.0], [31.0, 500.0], [31.5, 500.0], [32.0, 340.0], [32.0, 600.0], [32.0, 600.0], [33.0, 700.0], [33.0, 700.0], [33.5, 610.0], [33.5, 650.0], [34.0, 575.0], [34.0, 685.0], [34.5, 620.0], [35.0, 680.0], [35.0, 700.0], [35.0, 725.0], [35.0, 720.0], [36.0, 714.0], [36.0, 850.0], [37.0, 1000.0], [38.5, 920.0], [38.5, 955.0], [39.5, 925.0], [41.0, 975.0], [41.0, 950.0], [9.8, 6.7], [10.5, 7.5], [10.6, 7.0], [11.0, 9.7], [11.2, 9.8], [11.3, 8.7], [11.8, 10.0], [11.8, 9.9], [12.0, 9.8], [12.2, 12.2], [12.4, 13.4], [13.0, 12.2], [14.3, 19.7], [15.0, 19.9]]\n"
          ]
        }
      ]
    },
    {
      "cell_type": "markdown",
      "source": [
        "### 정답 데이터 만들기\n",
        "\n",
        "이제 fish_data의 처음부터 35번째는 도미이고, 그 다음부터 끝까지는 빙어라는 답을 만들어야 한다.\n",
        "\n",
        "\n",
        "머신러닝이 생선의 길이와 무게를 보고 도미와 빙어를 구분하는 규칙을 찾게 하려면 어떤 생선이 도미이고 빙어인지를 알려주어야 한다. (지도학습)\n",
        "\n",
        "도미는 1, 빙어는 0이라고 가정한다."
      ],
      "metadata": {
        "id": "7aVCvW-iHPtY"
      }
    },
    {
      "cell_type": "code",
      "source": [
        "fish_target = [1] * 35 + [0] * 14\n",
        "print(fish_target)"
      ],
      "metadata": {
        "colab": {
          "base_uri": "https://localhost:8080/"
        },
        "id": "K7fsSVXLH6dm",
        "outputId": "9fe0f858-c54d-4593-9791-75a82f65438c"
      },
      "execution_count": 21,
      "outputs": [
        {
          "output_type": "stream",
          "name": "stdout",
          "text": [
            "[1, 1, 1, 1, 1, 1, 1, 1, 1, 1, 1, 1, 1, 1, 1, 1, 1, 1, 1, 1, 1, 1, 1, 1, 1, 1, 1, 1, 1, 1, 1, 1, 1, 1, 1, 0, 0, 0, 0, 0, 0, 0, 0, 0, 0, 0, 0, 0, 0]\n"
          ]
        }
      ]
    },
    {
      "cell_type": "markdown",
      "source": [
        "### 학습시키기\n",
        "\n",
        "사이킷런 패키지의 k-최근접 이웃 알고리즘을 구현한 클래스를  improt해준다."
      ],
      "metadata": {
        "id": "SK9dbQtAIW4r"
      }
    },
    {
      "cell_type": "code",
      "source": [
        "from sklearn.neighbors import KNeighborsClassifier"
      ],
      "metadata": {
        "id": "Jp22fcoPIdk_"
      },
      "execution_count": 23,
      "outputs": []
    },
    {
      "cell_type": "markdown",
      "source": [
        "임포트한 KNeighborsClassifier 클래스의 객체를 만들자."
      ],
      "metadata": {
        "id": "1zNpT_F5Iu6k"
      }
    },
    {
      "cell_type": "code",
      "source": [
        "kn = KNeighborsClassifier()"
      ],
      "metadata": {
        "id": "NFMWG4fMIzuT"
      },
      "execution_count": 24,
      "outputs": []
    },
    {
      "cell_type": "markdown",
      "source": [
        "이 객체에 fish_data와 fish_target(정답)을 넘겨주어 도미(1)을 찾기 위한 기준을 학습시킬 것이다.\n",
        "\n",
        "이런한 과정을 머신러닝에서는 **훈련**이라고 부른다.\n",
        "\n",
        "사이킷런의 fit()매서드를 통해 훈련시킬 수 있다."
      ],
      "metadata": {
        "id": "yg0a50kHI3RY"
      }
    },
    {
      "cell_type": "code",
      "source": [
        "kn.fit(fish_data, fish_target)"
      ],
      "metadata": {
        "colab": {
          "base_uri": "https://localhost:8080/"
        },
        "id": "YC4ofw8fJp77",
        "outputId": "961b5926-27b3-42d9-dfb3-b027378c9704"
      },
      "execution_count": 25,
      "outputs": [
        {
          "output_type": "execute_result",
          "data": {
            "text/plain": [
              "KNeighborsClassifier()"
            ]
          },
          "metadata": {},
          "execution_count": 25
        }
      ]
    },
    {
      "cell_type": "markdown",
      "source": [
        "### 훈련 모델 평가하기\n",
        "\n",
        "머신러닝 알고리즘을 **구현한 프로그램을 모델**이라고 부른다. (프로그램이 아니더라도 수식 등으로 구체화하여 표현한 것도 모델이라 부른다.)\n",
        "\n",
        "이제 이 모델이 얼마나 잘 훈련되었는지 평가해보자.\n",
        "\n",
        "score() 메서드를 사용하면 된다. \n",
        "\n",
        "0과 1 사이의 값을 반환하는데, 1은 모든 데이터를 정확하게 맞혔다는 것이고, 0.5는 반타작을 했다는 뜻이다."
      ],
      "metadata": {
        "id": "vlvE1xe4Jut0"
      }
    },
    {
      "cell_type": "code",
      "source": [
        "kn.score(fish_data, fish_target)"
      ],
      "metadata": {
        "colab": {
          "base_uri": "https://localhost:8080/"
        },
        "id": "ta2uJV6UKdUR",
        "outputId": "8abc57f4-92ea-4262-ad9f-71b41bec5fef"
      },
      "execution_count": 26,
      "outputs": [
        {
          "output_type": "execute_result",
          "data": {
            "text/plain": [
              "1.0"
            ]
          },
          "metadata": {},
          "execution_count": 26
        }
      ]
    },
    {
      "cell_type": "markdown",
      "source": [
        "이 값을 정확도라고 하는데, 이 모델의 정확도가 100%임을 의미한다.\n",
        "\n",
        "즉, 데이터만 보고 이것이 도미인지 빙어인지를 100% 확률로 맞혔다는 것이다."
      ],
      "metadata": {
        "id": "zpN9l8MfKiiU"
      }
    },
    {
      "cell_type": "markdown",
      "source": [
        "### **K-최근접 이웃 알고리즘**\n",
        "\n",
        "k-최근접 이웃 알고리즘은은 답을 구할 때 주위의 다른 데이터를 보고 **다수를 차지하는 것**을 정답으로 사용한다. 즉, **주위의 데이터로 현재의 데이터를 판단**한다."
      ],
      "metadata": {
        "id": "vfQ6zN3pKuNS"
      }
    },
    {
      "cell_type": "code",
      "source": [
        "plt.scatter(bream_length, bream_weight)\n",
        "plt.scatter(smelt_length, smelt_weight)\n",
        "plt.xlabel('length')\n",
        "plt.ylabel('weight')\n",
        "plt.show()"
      ],
      "metadata": {
        "colab": {
          "base_uri": "https://localhost:8080/",
          "height": 279
        },
        "id": "Y7zOmAMQMVNd",
        "outputId": "09476c79-a313-413e-85ae-dfa80ef791f3"
      },
      "execution_count": 28,
      "outputs": [
        {
          "output_type": "display_data",
          "data": {
            "text/plain": [
              "<Figure size 432x288 with 1 Axes>"
            ],
            "image/png": "[encoded data removed]"
          },
          "metadata": {
            "needs_background": "light"
          }
        }
      ]
    },
    {
      "cell_type": "markdown",
      "source": [
        "여기서 대략 (30,600)의 데이터, 즉 길이 30cm에 600g 생선이 모델에 들어왔다고 가정해보자.\n",
        "\n",
        "그럼 그 점의 주변에는 도미의 데이터가 많기 때문에 이 생선을 도미라고 판단할 것이다."
      ],
      "metadata": {
        "id": "674cIcs9Mco-"
      }
    },
    {
      "cell_type": "code",
      "source": [
        "kn.predict([[30,600]])"
      ],
      "metadata": {
        "colab": {
          "base_uri": "https://localhost:8080/"
        },
        "id": "PtW5j692MvC6",
        "outputId": "6b629572-2292-4d89-e4c5-fb8cd815c387"
      },
      "execution_count": 29,
      "outputs": [
        {
          "output_type": "execute_result",
          "data": {
            "text/plain": [
              "array([1])"
            ]
          },
          "metadata": {},
          "execution_count": 29
        }
      ]
    },
    {
      "cell_type": "markdown",
      "source": [
        "predict() 메서드를 통해 새로운 데이터의 정답을 예측할 수 있다. 리스트의 리스트를 전달해야 하기 때문에 대괄호로 두 번 감싸졌다. \n",
        "\n",
        "1, 즉 도미로 판단한 것을 확인할 수 있다,"
      ],
      "metadata": {
        "id": "Q6q03Kt3MzfI"
      }
    },
    {
      "cell_type": "markdown",
      "source": [
        "여기서 알 수 있는 점은, k-최근점 이웃 알고리즘을 위해 준비해야 할 것은 데이터를 모두 가지고 있는 것이다. 데이터가 많을 수록 가장 가까운 직선 거리에 어떤 데이터가 있는지를 확인하면 되기 때문이다. \n",
        "\n",
        "하지만 데이터가 아주 많은 경우에는 사용하기 어렵다는 것이 단점이다. 메모리가 많이 필요하고 직선거리를 계산하는데 많은 시간이 걸리기 때문이다."
      ],
      "metadata": {
        "id": "vkRWNjnJNHwB"
      }
    },
    {
      "cell_type": "code",
      "source": [
        "print(kn._fit_X) # 대문자 X"
      ],
      "metadata": {
        "colab": {
          "base_uri": "https://localhost:8080/"
        },
        "id": "LKUkHvrxNWgl",
        "outputId": "b9a9fe53-2945-4a8f-ed4d-d11669ba94ad"
      },
      "execution_count": 31,
      "outputs": [
        {
          "output_type": "stream",
          "name": "stdout",
          "text": [
            "[[  25.4  242. ]\n",
            " [  26.3  290. ]\n",
            " [  26.5  340. ]\n",
            " [  29.   363. ]\n",
            " [  29.   430. ]\n",
            " [  29.7  450. ]\n",
            " [  29.7  500. ]\n",
            " [  30.   390. ]\n",
            " [  30.   450. ]\n",
            " [  30.7  500. ]\n",
            " [  31.   475. ]\n",
            " [  31.   500. ]\n",
            " [  31.5  500. ]\n",
            " [  32.   340. ]\n",
            " [  32.   600. ]\n",
            " [  32.   600. ]\n",
            " [  33.   700. ]\n",
            " [  33.   700. ]\n",
            " [  33.5  610. ]\n",
            " [  33.5  650. ]\n",
            " [  34.   575. ]\n",
            " [  34.   685. ]\n",
            " [  34.5  620. ]\n",
            " [  35.   680. ]\n",
            " [  35.   700. ]\n",
            " [  35.   725. ]\n",
            " [  35.   720. ]\n",
            " [  36.   714. ]\n",
            " [  36.   850. ]\n",
            " [  37.  1000. ]\n",
            " [  38.5  920. ]\n",
            " [  38.5  955. ]\n",
            " [  39.5  925. ]\n",
            " [  41.   975. ]\n",
            " [  41.   950. ]\n",
            " [   9.8    6.7]\n",
            " [  10.5    7.5]\n",
            " [  10.6    7. ]\n",
            " [  11.     9.7]\n",
            " [  11.2    9.8]\n",
            " [  11.3    8.7]\n",
            " [  11.8   10. ]\n",
            " [  11.8    9.9]\n",
            " [  12.     9.8]\n",
            " [  12.2   12.2]\n",
            " [  12.4   13.4]\n",
            " [  13.    12.2]\n",
            " [  14.3   19.7]\n",
            " [  15.    19.9]]\n"
          ]
        }
      ]
    },
    {
      "cell_type": "code",
      "source": [
        "print(kn._y) # 소문자 y"
      ],
      "metadata": {
        "colab": {
          "base_uri": "https://localhost:8080/"
        },
        "id": "kuR7T2TUNu0a",
        "outputId": "374a1eca-c14c-4e7a-b948-4e5ea43cf54b"
      },
      "execution_count": 33,
      "outputs": [
        {
          "output_type": "stream",
          "name": "stdout",
          "text": [
            "[1 1 1 1 1 1 1 1 1 1 1 1 1 1 1 1 1 1 1 1 1 1 1 1 1 1 1 1 1 1 1 1 1 1 1 0 0\n",
            " 0 0 0 0 0 0 0 0 0 0 0 0]\n"
          ]
        }
      ]
    },
    {
      "cell_type": "markdown",
      "source": [
        "k-최근접 알고리즘은 위처럼 fit()에서 전달받은 데이터를 모두 저장하고 있다가 새로운 데이터가 등장하면 가장 가까운 데이터를 참고하여 도미인지 방어인지를 구분한다.\n",
        "\n",
        "KNeighborsClassifier의 기본값은 가까운 5개의 데이터를 참고한다. 이 값은 n_neighbors 매개변수로 바꿀 수 있다."
      ],
      "metadata": {
        "id": "MZjqLKP-N6PQ"
      }
    },
    {
      "cell_type": "code",
      "source": [
        "kn49 = KNeighborsClassifier(n_neighbors=49) "
      ],
      "metadata": {
        "id": "x9dI_-RnOeyn"
      },
      "execution_count": 36,
      "outputs": []
    },
    {
      "cell_type": "code",
      "source": [
        "kn49.fit(fish_data,fish_target)\n",
        "kn49.score(fish_data, fish_target)"
      ],
      "metadata": {
        "colab": {
          "base_uri": "https://localhost:8080/"
        },
        "id": "koUx7N6qOmCm",
        "outputId": "895e5b8f-f939-4124-dc28-028e0cadaf16"
      },
      "execution_count": 37,
      "outputs": [
        {
          "output_type": "execute_result",
          "data": {
            "text/plain": [
              "0.7142857142857143"
            ]
          },
          "metadata": {},
          "execution_count": 37
        }
      ]
    },
    {
      "cell_type": "markdown",
      "source": [
        "전체 49개 데이터중 도미가 35개이므로 어떤 데이터를 넣어도 35개에서 1이 반환되어 0.7xxx의 score인 것을 볼 수 있다. \n",
        "\n",
        "따라서 KNeighborsClassifier 기본값은 데이터의 크기에 따라서 적절히 지정해줘야 한다."
      ],
      "metadata": {
        "id": "Yu4VG7ZZOyVZ"
      }
    }
  ]
}