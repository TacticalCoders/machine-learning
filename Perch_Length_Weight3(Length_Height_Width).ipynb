{
  "nbformat": 4,
  "nbformat_minor": 0,
  "metadata": {
    "colab": {
      "name": "Perch_Length_Weight3(Length_Height_Width).ipynb",
      "provenance": [],
      "toc_visible": true,
      "authorship_tag": "ABX9TyOIkzr+w5LAae3vh0G9HsNX",
      "include_colab_link": true
    },
    "kernelspec": {
      "name": "python3",
      "display_name": "Python 3"
    },
    "language_info": {
      "name": "python"
    }
  },
  "cells": [
    {
      "cell_type": "markdown",
      "metadata": {
        "id": "view-in-github",
        "colab_type": "text"
      },
      "source": [
        "<a href=\"https://colab.research.google.com/github/TacticalCoders/machine-learning/blob/main/Perch_Length_Weight3(Length_Height_Width).ipynb\" target=\"_parent\"><img src=\"https://colab.research.google.com/assets/colab-badge.svg\" alt=\"Open In Colab\"/></a>"
      ]
    },
    {
      "cell_type": "markdown",
      "source": [
        "## **다중 회귀(multiple regression)**\n",
        "\n",
        "다항 회귀로 농어의 무게를 어느 정도 예측할 수 있었지만 여전히 훈련 세트보다 테스트 세트의 점수가 높다.(과소적합)\n",
        "\n",
        "전 모델에서는 하나의 특성(길이)만 사용하여 선형 회귀 모델을 훈련시켰다.\n",
        "이와 달리 **여러 개의 특성을 사용한 선형 회귀**를 **다중 회귀(multiple regression)**\n",
        "\n",
        "1개의 특성을 사용했을 때 성형 회귀 모델이 학습하는 것은 직선이다. \n",
        "\n",
        "그럼 2개의 특성을 사용하면?\n",
        "\n",
        "특성이 2개면 선형 회귀는 **평면을 학습**한다. '타킷 = a * 특성1 + b * 특성2 + 절편'\n",
        "\n",
        "특성이 3개면?\n",
        "\n",
        "슬프지만 인간은 3차원 공간 이상을 그리거나 상상할 수 없다. 하지만 행렬을 통해 가중치를 구하는 것은 가능하다."
      ],
      "metadata": {
        "id": "F8pLm8KJ16ym"
      }
    },
    {
      "cell_type": "markdown",
      "source": [
        "### 특성 공학(feature engineering)\n",
        "\n",
        "이제 농어의 길이뿐만 아니라 농어의 높이와 두께도 함께 사용할 것이다. 또 이전 모델에서 처럼 3개의 특성을 각각 제곱하여 추가할 것이다. (각각 2차식으로 만들기)\n",
        "\n",
        "거기다가 '길이x높이'를 새로운 특성으로 만들 것이다.\n",
        "이처럼 **기존의 특성을 사용해 새로운 특성을 뽑아내는 작업을 특성 공학(feature engineering)**이라고 부른다."
      ],
      "metadata": {
        "id": "d9TM4ToG4IMm"
      }
    },
    {
      "cell_type": "markdown",
      "source": [
        "### 데이터 준비하기\n",
        "\n",
        "특성이 3개이기 때문에 데이터를 입력하기 번거롭다.\n",
        "\n",
        "이렇게 대량의 데이터를 처리할 때는 따로 데이터를 다운받아 사용한다. 하지만 넘파이에서는 이런 작업을 잘 지원하지 않는다.\n",
        "\n"
      ],
      "metadata": {
        "id": "0CgTr9KM6CJW"
      }
    },
    {
      "cell_type": "markdown",
      "source": [
        "#### 판다스(pandas)\n",
        "\n",
        "판다스는 유명한 데이터 분석 라이브러리다. \n",
        "\n",
        "**데이터프레임(dataframe)은 판다스의 핵심 데이터 구조**로 넘파이 배열과 마찬가지로 다차원 배열을 다룰 수 있고 더 많은 기능을 제공한다.\n",
        "\n",
        "판다스를 사용해 농어 데이터를 다운받아 데이터 프레임에 저장하고 넘파이 배열로 변환해 선형 회귀 모델을 훈련해보자."
      ],
      "metadata": {
        "id": "jHfgQ_wh6kfd"
      }
    },
    {
      "cell_type": "code",
      "source": [
        "import pandas as pd\n",
        "df = pd.read_csv('https://bit.ly/perch_csv_data')\n",
        "perch_full = df.to_numpy() # 넘파이 배열로 변환\n",
        "print(perch_full)"
      ],
      "metadata": {
        "colab": {
          "base_uri": "https://localhost:8080/"
        },
        "id": "lSyK8F7A7PRO",
        "outputId": "a241e906-4ca6-4a90-b560-e10c208daf66"
      },
      "execution_count": 2,
      "outputs": [
        {
          "output_type": "stream",
          "name": "stdout",
          "text": [
            "[[ 8.4   2.11  1.41]\n",
            " [13.7   3.53  2.  ]\n",
            " [15.    3.82  2.43]\n",
            " [16.2   4.59  2.63]\n",
            " [17.4   4.59  2.94]\n",
            " [18.    5.22  3.32]\n",
            " [18.7   5.2   3.12]\n",
            " [19.    5.64  3.05]\n",
            " [19.6   5.14  3.04]\n",
            " [20.    5.08  2.77]\n",
            " [21.    5.69  3.56]\n",
            " [21.    5.92  3.31]\n",
            " [21.    5.69  3.67]\n",
            " [21.3   6.38  3.53]\n",
            " [22.    6.11  3.41]\n",
            " [22.    5.64  3.52]\n",
            " [22.    6.11  3.52]\n",
            " [22.    5.88  3.52]\n",
            " [22.    5.52  4.  ]\n",
            " [22.5   5.86  3.62]\n",
            " [22.5   6.79  3.62]\n",
            " [22.7   5.95  3.63]\n",
            " [23.    5.22  3.63]\n",
            " [23.5   6.28  3.72]\n",
            " [24.    7.29  3.72]\n",
            " [24.    6.38  3.82]\n",
            " [24.6   6.73  4.17]\n",
            " [25.    6.44  3.68]\n",
            " [25.6   6.56  4.24]\n",
            " [26.5   7.17  4.14]\n",
            " [27.3   8.32  5.14]\n",
            " [27.5   7.17  4.34]\n",
            " [27.5   7.05  4.34]\n",
            " [27.5   7.28  4.57]\n",
            " [28.    7.82  4.2 ]\n",
            " [28.7   7.59  4.64]\n",
            " [30.    7.62  4.77]\n",
            " [32.8  10.03  6.02]\n",
            " [34.5  10.26  6.39]\n",
            " [35.   11.49  7.8 ]\n",
            " [36.5  10.88  6.86]\n",
            " [36.   10.61  6.74]\n",
            " [37.   10.84  6.26]\n",
            " [37.   10.57  6.37]\n",
            " [39.   11.14  7.49]\n",
            " [39.   11.14  6.  ]\n",
            " [39.   12.43  7.35]\n",
            " [40.   11.93  7.11]\n",
            " [40.   11.73  7.22]\n",
            " [40.   12.38  7.46]\n",
            " [40.   11.14  6.63]\n",
            " [42.   12.8   6.87]\n",
            " [43.   11.93  7.28]\n",
            " [43.   12.51  7.42]\n",
            " [43.5  12.6   8.14]\n",
            " [44.   12.49  7.6 ]]\n"
          ]
        }
      ]
    },
    {
      "cell_type": "markdown",
      "source": [
        "길이, 높이, 너비 순이다."
      ],
      "metadata": {
        "id": "XF8DdkGz7hKV"
      }
    },
    {
      "cell_type": "code",
      "source": [
        "# 타깃 데이터(무게)는 이전과 동일한 방식으로 준비\n",
        "\n",
        "import numpy as np\n",
        "perch_weight = np.array([5.9, 32.0, 40.0, 51.5, 70.0, 100.0, 78.0, 80.0, 85.0, 85.0, 110.0,\n",
        "       115.0, 125.0, 130.0, 120.0, 120.0, 130.0, 135.0, 110.0, 130.0,\n",
        "       150.0, 145.0, 150.0, 170.0, 225.0, 145.0, 188.0, 180.0, 197.0,\n",
        "       218.0, 300.0, 260.0, 265.0, 250.0, 250.0, 300.0, 320.0, 514.0,\n",
        "       556.0, 840.0, 685.0, 700.0, 700.0, 690.0, 900.0, 650.0, 820.0,\n",
        "       850.0, 900.0, 1015.0, 820.0, 1100.0, 1000.0, 1100.0, 1000.0,\n",
        "       1000.0])"
      ],
      "metadata": {
        "id": "OsGdUwlE7xik"
      },
      "execution_count": 3,
      "outputs": []
    },
    {
      "cell_type": "code",
      "source": [
        "# 훈련 세트와 테스트 세트 나누기\n",
        "\n",
        "from sklearn.model_selection import train_test_split\n",
        "train_input, test_input, train_target, test_target = train_test_split( perch_full, perch_weight, random_state=42)"
      ],
      "metadata": {
        "id": "8tAyaj3e8iTM"
      },
      "execution_count": 12,
      "outputs": []
    },
    {
      "cell_type": "markdown",
      "source": [
        "### 데이터 변환하기\n",
        "\n",
        "사이킷런은 특성을 만들거나 전처리하기 위한 다양한 클래스를 제공한다. 이런 클래스를 변환기(transformer)라고 부른다.\n",
        "\n",
        "여기서 사용한 변환기는 **PolynomialFeatures** 클래스이다."
      ],
      "metadata": {
        "id": "5Aub8HFe81ll"
      }
    },
    {
      "cell_type": "code",
      "source": [
        "from sklearn.preprocessing import PolynomialFeatures"
      ],
      "metadata": {
        "id": "muXEf94-9f5c"
      },
      "execution_count": 5,
      "outputs": []
    },
    {
      "cell_type": "code",
      "source": [
        "# PolynomialFeatures 사용법 알아보기\n",
        "\n",
        "poly = PolynomialFeatures()\n",
        "poly.fit([[2,3]]) \n",
        "print(poly.transform([[2,3]])) # 먼저 훈련을 해야 변환이 가능하다."
      ],
      "metadata": {
        "colab": {
          "base_uri": "https://localhost:8080/"
        },
        "id": "rnSo8jPw9lMd",
        "outputId": "0562410c-5416-40d7-dce9-a974a8510027"
      },
      "execution_count": 6,
      "outputs": [
        {
          "output_type": "stream",
          "name": "stdout",
          "text": [
            "[[1. 2. 3. 4. 6. 9.]]\n"
          ]
        }
      ]
    },
    {
      "cell_type": "markdown",
      "source": [
        "2개의 특성을 가진 샘플이 6개의 특성을 가진 샘플로 바뀌었다.\n",
        "\n",
        "PolynomialFeatures는 기본적으로 \n",
        "1. 각 특성을 제곱한 항\n",
        "2. 특성끼리 곱한 항을 추가한다.\n",
        "\n",
        "따라서 2와 3을 각각 제곱한 4와 9, 2와 3을 곱한 6이 추가되었다. 그런데 1은 무엇인가?\n",
        "\n",
        "다음과 같은 성형 방정식이 있다고 해보자.\n",
        "\n",
        "**무게 = aX길이 + bX높이 + cX두께 + dX1(절편)**\n",
        "\n",
        "즉 절편은 상수항인데, 상수항에는 항상 1이 들어가는 것과 같다. 즉 특성이 (길이, 높이, 두께, 1)이 되는 것이다.\n",
        "\n",
        "하지만 사실상 1은 필요가 없다. 그래서 1을 제거하여 특성을 다시 만들어주자.\n",
        "\n",
        "include_bias = False 로 지정하여 특성을 변환해보자.\n",
        "\n",
        "\n"
      ],
      "metadata": {
        "id": "FZyx0XZa971F"
      }
    },
    {
      "cell_type": "code",
      "source": [
        "poly = PolynomialFeatures(include_bias=False)\n",
        "poly.fit([[2,3]])\n",
        "print(poly.transform([[2, 3]]))"
      ],
      "metadata": {
        "colab": {
          "base_uri": "https://localhost:8080/"
        },
        "id": "zNwVfOE2-R_U",
        "outputId": "f769a67d-10d9-41ca-a73e-a563cad973f0"
      },
      "execution_count": 8,
      "outputs": [
        {
          "output_type": "stream",
          "name": "stdout",
          "text": [
            "[[2. 3. 4. 6. 9.]]\n"
          ]
        }
      ]
    },
    {
      "cell_type": "markdown",
      "source": [
        "이제 실제로 train_input을 변환해보자."
      ],
      "metadata": {
        "id": "0TkdfSK1_440"
      }
    },
    {
      "cell_type": "code",
      "source": [
        "poly = PolynomialFeatures(include_bias=False)\n",
        "poly.fit(train_input)\n",
        "train_poly = poly.transform(train_input)\n",
        "print(train_poly.shape)"
      ],
      "metadata": {
        "colab": {
          "base_uri": "https://localhost:8080/"
        },
        "id": "8bbkKq-ZAKnU",
        "outputId": "c3fcd78c-4897-4468-83ee-bbc016975504"
      },
      "execution_count": 13,
      "outputs": [
        {
          "output_type": "stream",
          "name": "stdout",
          "text": [
            "(42, 9)\n"
          ]
        }
      ]
    },
    {
      "cell_type": "markdown",
      "source": [
        "3개의 특성을 9개로 만들어주었다."
      ],
      "metadata": {
        "id": "oRvbRQdWAVQM"
      }
    },
    {
      "cell_type": "code",
      "source": [
        "poly.get_feature_names_out() # 어떤 조합으로 특성이 만들어 졌는지 알려주는 메서드"
      ],
      "metadata": {
        "colab": {
          "base_uri": "https://localhost:8080/"
        },
        "id": "Y32WPX4YAuFT",
        "outputId": "ab352c6c-c9e3-45fd-b94b-7d8b8a46a21a"
      },
      "execution_count": 14,
      "outputs": [
        {
          "output_type": "execute_result",
          "data": {
            "text/plain": [
              "array(['x0', 'x1', 'x2', 'x0^2', 'x0 x1', 'x0 x2', 'x1^2', 'x1 x2',\n",
              "       'x2^2'], dtype=object)"
            ]
          },
          "metadata": {},
          "execution_count": 14
        }
      ]
    },
    {
      "cell_type": "markdown",
      "source": [
        "이제 테스트 세트도 변환해주자."
      ],
      "metadata": {
        "id": "Pm-1LQ82A1OV"
      }
    },
    {
      "cell_type": "code",
      "source": [
        "test_poly = poly.transform(test_input)"
      ],
      "metadata": {
        "id": "gNdFcOZ5BB58"
      },
      "execution_count": 15,
      "outputs": []
    },
    {
      "cell_type": "markdown",
      "source": [
        "이제 변환된 특성을 사용하여 다중 회귀 모델을 훈련하자."
      ],
      "metadata": {
        "id": "27u4L1f7BG5M"
      }
    },
    {
      "cell_type": "markdown",
      "source": [
        "### 다중 회귀 모델 훈련하기\n",
        "\n",
        "다중 회귀 모델 훈련은 선형 회귀 모델을 훈련하는 것과 같다. 다만 여러 개의 특성을 사용하여 선형 회귀를 수행하는 것이다. "
      ],
      "metadata": {
        "id": "P9jIeR2mBP2k"
      }
    },
    {
      "cell_type": "code",
      "source": [
        "from sklearn.linear_model import LinearRegression\n",
        "lr = LinearRegression()\n",
        "lr.fit(train_poly, train_target)\n",
        "print(lr.score(train_poly, train_target))"
      ],
      "metadata": {
        "colab": {
          "base_uri": "https://localhost:8080/"
        },
        "id": "dSd6lmRDBlyz",
        "outputId": "fc35a2f0-e23a-4b05-d5ef-1d1ee9767950"
      },
      "execution_count": 17,
      "outputs": [
        {
          "output_type": "stream",
          "name": "stdout",
          "text": [
            "0.9903183436982124\n"
          ]
        }
      ]
    },
    {
      "cell_type": "markdown",
      "source": [
        "아주 높은 값이 나왔다. 이렇게 농어의 길이뿐만 아니라 높이와 두께, 그리고 각 특성을 제곱하고 곱해서 특성을 추가했더니 매우 정확도 높은 모델이 환성되었다.\n",
        "\n",
        "테스트 세트에 대한 점수도 확인해보자."
      ],
      "metadata": {
        "id": "ORAIW4ZyB4fE"
      }
    },
    {
      "cell_type": "code",
      "source": [
        "print(lr.score(test_poly, test_target))"
      ],
      "metadata": {
        "colab": {
          "base_uri": "https://localhost:8080/"
        },
        "id": "DpiOVpE3COnb",
        "outputId": "dcc8860d-6ea4-46f1-e97b-54c4f6cdfd7d"
      },
      "execution_count": 18,
      "outputs": [
        {
          "output_type": "stream",
          "name": "stdout",
          "text": [
            "0.9714559911594134\n"
          ]
        }
      ]
    },
    {
      "cell_type": "markdown",
      "source": [
        "과소적합 문제는 더 이상 나타나지 않는다."
      ],
      "metadata": {
        "id": "mhiyrNA4CUhb"
      }
    },
    {
      "cell_type": "markdown",
      "source": [
        "### 특성을 더 추가하여 훈련하기\n",
        "\n",
        "특성이 무조건 많은면 좋은 모델을 만들 수 있을까? \n",
        "\n",
        "5제곱까지 특성을 만들어 출력해보자."
      ],
      "metadata": {
        "id": "tYH9PfVkCgzb"
      }
    },
    {
      "cell_type": "code",
      "source": [
        "poly = PolynomialFeatures(degree=5, include_bias=False) #degree로 최대 차수를 지정.\n",
        "poly.fit(train_input)\n",
        "train_poly = poly.transform(train_input)\n",
        "test_poly = poly.transform(test_input)\n",
        "print(train_poly.shape)"
      ],
      "metadata": {
        "colab": {
          "base_uri": "https://localhost:8080/"
        },
        "id": "WmgdFrd0CxdT",
        "outputId": "9fd2aa0f-5eab-4b24-e12f-b765508ed8f6"
      },
      "execution_count": 19,
      "outputs": [
        {
          "output_type": "stream",
          "name": "stdout",
          "text": [
            "(42, 55)\n"
          ]
        }
      ]
    },
    {
      "cell_type": "markdown",
      "source": [
        "총 55개의 특성이 만들어졌다."
      ],
      "metadata": {
        "id": "w5iV7hgbDD3Y"
      }
    },
    {
      "cell_type": "code",
      "source": [
        "lr.fit(train_poly, train_target)\n",
        "print(lr.score(train_poly, train_target))"
      ],
      "metadata": {
        "colab": {
          "base_uri": "https://localhost:8080/"
        },
        "id": "xdebDtRUDGRu",
        "outputId": "6b332ae5-1318-4d57-f791-ffe53911e466"
      },
      "execution_count": 20,
      "outputs": [
        {
          "output_type": "stream",
          "name": "stdout",
          "text": [
            "0.9999999999991097\n"
          ]
        }
      ]
    },
    {
      "cell_type": "markdown",
      "source": [
        "훈련 테스트에서는 매우 높은 점수가 나왔다."
      ],
      "metadata": {
        "id": "9S240lfXDPFe"
      }
    },
    {
      "cell_type": "code",
      "source": [
        "print(lr.score(test_poly, test_target))"
      ],
      "metadata": {
        "colab": {
          "base_uri": "https://localhost:8080/"
        },
        "id": "k6-e_OTuDUtk",
        "outputId": "6b3c80fd-386d-448c-dc01-22a01f64e7ac"
      },
      "execution_count": 21,
      "outputs": [
        {
          "output_type": "stream",
          "name": "stdout",
          "text": [
            "-144.40579242684848\n"
          ]
        }
      ]
    },
    {
      "cell_type": "markdown",
      "source": [
        "음수가 나왔다. 이는 **훈련 세트에 너무 과대적합되었음**을 의미한다. 테스트 세트에서는 형편없는 점수다. \n",
        "\n",
        "이를 해결하려면 다시 특성을 줄여야 한다."
      ],
      "metadata": {
        "id": "ixwZ9T0ADbAD"
      }
    },
    {
      "cell_type": "markdown",
      "source": [
        "### **규제(regularization)**\n",
        "\n",
        "규제(regularization)는 머신러닝 모델이 훈련 세트를 너무 과도하게 학습하지 못하도록 훼방하는 것을 말한다. \n",
        "\n",
        "즉, 모델이 너무 훈련 세트에 과대적합되지 않도록 만든다.\n",
        "\n",
        "선형 회귀 모델에서 규제는 특성에 곱해지는 계수(또는 기울기)의 크기를 작게 만드는 것이다.\n",
        "\n",
        "만약 4차, 5차함수라면, 변곡점이 여러개인 그래프가 그려질 것이다. 그 기울기가 크다면 이는 보편적이지 않고 훈련 세트에만 너무 치중된 모델이 만들어지게 된다."
      ],
      "metadata": {
        "id": "XhrjmhxwD1jb"
      }
    },
    {
      "cell_type": "markdown",
      "source": [
        "#### 스케일 정규화\n",
        "\n",
        "앞서 살펴봤듯이 특성의 스케일이 정규화되지 않으면 곱해지는 계수 값도 차이가 나게 된다.\n",
        "\n",
        "따라서 규제를 하기 전, 정규화를 해야한다. "
      ],
      "metadata": {
        "id": "L2uJJ61FEQPE"
      }
    },
    {
      "cell_type": "code",
      "source": [
        "from sklearn.preprocessing import StandardScaler\n",
        "ss = StandardScaler()\n",
        "ss.fit(train_poly) # 훈련 세트로 학습한 변환기\n",
        "train_scaled = ss.transform(train_poly)\n",
        "test_scaled = ss.transform(test_poly) # 테스트 세트는 꼭 훈련 세트로 학습한 변환기를 사용해 변환해야 한다."
      ],
      "metadata": {
        "id": "qIminTtnFNJD"
      },
      "execution_count": 24,
      "outputs": []
    },
    {
      "cell_type": "markdown",
      "source": [
        "#### **릿지(ridge)회귀**\n",
        "\n",
        "선형 회귀 모델에 규제를 추가한 모델을 릿지와 라쏘라고 부른다. \n",
        "\n",
        "릿지는 계수를 제곱한 값을 기준으로 규제를 적용하고,\n",
        "\n",
        "라쏘는 계수의 절댓값을 기준으로 규제를 적용한다. \n",
        "\n",
        "일반적으로 릿지를 선호한다."
      ],
      "metadata": {
        "id": "L15yXwRCFdZM"
      }
    },
    {
      "cell_type": "code",
      "source": [
        "# 릿지 회귀\n",
        "\n",
        "from sklearn.linear_model import Ridge\n",
        "ridge = Ridge()\n",
        "ridge.fit(train_scaled, train_target)\n",
        "print(ridge.score(train_scaled, train_target))"
      ],
      "metadata": {
        "colab": {
          "base_uri": "https://localhost:8080/"
        },
        "id": "Bbf_Iwb8HCQ5",
        "outputId": "c0993241-df24-44de-b12c-8db514473635"
      },
      "execution_count": 25,
      "outputs": [
        {
          "output_type": "stream",
          "name": "stdout",
          "text": [
            "0.9896101671037343\n"
          ]
        }
      ]
    },
    {
      "cell_type": "markdown",
      "source": [
        "조금 낮아졌다. "
      ],
      "metadata": {
        "id": "TVGgxIyZHWRr"
      }
    },
    {
      "cell_type": "code",
      "source": [
        "print(ridge.score(test_scaled, test_target))"
      ],
      "metadata": {
        "colab": {
          "base_uri": "https://localhost:8080/"
        },
        "id": "Ei7od5DDHc86",
        "outputId": "1399b29c-9c24-4d89-a923-c75fe76eded1"
      },
      "execution_count": 26,
      "outputs": [
        {
          "output_type": "stream",
          "name": "stdout",
          "text": [
            "0.9790693977615397\n"
          ]
        }
      ]
    },
    {
      "cell_type": "markdown",
      "source": [
        "테스트 점수가 정상으로 돌아왔다. 즉 과대적합을 해소했다.\n",
        "\n",
        "많은 특성을 사용하고도 테스트 세트에서도 좋은 성능을 내고 있다."
      ],
      "metadata": {
        "id": "pUv-HuLSHkEa"
      }
    },
    {
      "cell_type": "markdown",
      "source": [
        "##### 규제의 양 임의로 조절하기(alpha 값 조절하기)\n",
        "\n",
        "모델 객체를 만들 때 **alpha** 매개변수로 규제의 강도를 조절할 수 있다.\n",
        "\n",
        "alpha 값이 크면 규제 강도가 세진다. 따라서 계수 값을 더 줄이고 싶다면(기울기를 더 줄이고 싶다면) alpha 값을 높게 주면된다. \n",
        "\n",
        "이렇게 사람이 직접 지정해야하는 매개변수를 **하이퍼파라미터**라고 부른다.\n",
        "\n",
        "그런데 어떻게 적절한 alpha값을 찾을 수 있을까?\n",
        "\n",
        "훈련 세트와 테스트 세트의 점수가 가장 가까운 지점이 최적의 alpah 값이 된다. \n",
        "\n",
        "이를 확인하기 위해 alpha 값 별 score를 그래프로 나타내보자."
      ],
      "metadata": {
        "id": "bEsCvTPdIDla"
      }
    },
    {
      "cell_type": "code",
      "source": [
        "import matplotlib.pyplot as plt\n",
        "train_score = []\n",
        "test_score = []"
      ],
      "metadata": {
        "id": "fV8G1gAhJNDW"
      },
      "execution_count": 27,
      "outputs": []
    },
    {
      "cell_type": "code",
      "source": [
        "alpha_list = [0.0001, 0.01, 0.1, 1, 10, 100]\n",
        "for alpha in alpha_list:\n",
        "  ridge = Ridge(alpha=alpha)\n",
        "  ridge.fit(train_scaled, train_target)\n",
        "  train_score.append(ridge.score(train_scaled, train_target))\n",
        "  test_score.append(ridge.score(test_scaled, test_target))"
      ],
      "metadata": {
        "id": "dLNRHzbmJW0y"
      },
      "execution_count": 28,
      "outputs": []
    },
    {
      "cell_type": "markdown",
      "source": [
        "이제 그래프를 그릴 것에 alpha 값을 10배씩 늘렸기 때문에 그래프 왼쪽이 너무 촘촘해진다.(매우 적은 값) \n",
        "\n",
        "따라서 동일한 간격으로 나타내기 위해 로그 함수로 바꾸어 지수로 표현한다.\n",
        "\n",
        "0.001은 -3, 0.01은 -2"
      ],
      "metadata": {
        "id": "wNzgpB4IJ_l7"
      }
    },
    {
      "cell_type": "code",
      "source": [
        "plt.plot(np.log10(alpha_list), train_score)\n",
        "plt.plot(np.log10(alpha_list), test_score)\n",
        "plt.xlabel('alpha')\n",
        "plt.ylabel('R^2')\n",
        "plt.show()"
      ],
      "metadata": {
        "colab": {
          "base_uri": "https://localhost:8080/",
          "height": 279
        },
        "id": "GFfVGdSkKYTa",
        "outputId": "4e4f2da2-6f2a-40e3-d2f3-058b5f618b10"
      },
      "execution_count": 29,
      "outputs": [
        {
          "output_type": "display_data",
          "data": {
            "text/plain": [
              "<Figure size 432x288 with 1 Axes>"
            ],
            "image/png": "[encoded data removed]"
          },
          "metadata": {
            "needs_background": "light"
          }
        }
      ]
    },
    {
      "cell_type": "markdown",
      "source": [
        "파란색이 훈련세트, 주황색이 테스트 세트이다.\n",
        "\n",
        "왼쪽은 차이가 아주 크다. 즉 훈련세트에는 아주 잘 맞지만 테스트 세트에서는 형편이 없다.\n",
        "\n",
        "오른쪽은 훈련 세트, 테스트 세트 모두 점수가 낮아진다. 너무 많이 규제를 했다는 뜻이다.\n",
        "\n",
        "**적절한 alpha 값은 두 그래프가 가장 가깝고 점수가 높은 -1, 즉 0.1이다.**"
      ],
      "metadata": {
        "id": "3CAnR42NKzjC"
      }
    },
    {
      "cell_type": "code",
      "source": [
        "ridge =Ridge(alpha=0.1)\n",
        "ridge.fit(train_scaled, train_target)\n",
        "print(ridge.score(train_scaled, train_target))\n",
        "print(ridge.score(test_scaled, test_target))"
      ],
      "metadata": {
        "colab": {
          "base_uri": "https://localhost:8080/"
        },
        "id": "xK4ClHdOLmvu",
        "outputId": "b1a5d37f-4cbc-4e54-88d1-edeb05bb52e3"
      },
      "execution_count": 33,
      "outputs": [
        {
          "output_type": "stream",
          "name": "stdout",
          "text": [
            "0.9903815817570366\n",
            "0.9827976465386926\n"
          ]
        }
      ]
    },
    {
      "cell_type": "markdown",
      "source": [
        "실제로 훈련 세트와 테스트 세트에서 가장 좋은 성능을 보여주고 있다."
      ],
      "metadata": {
        "id": "d2erSDIWMANN"
      }
    },
    {
      "cell_type": "markdown",
      "source": [
        "#### **라쏘(lasso) 회귀**"
      ],
      "metadata": {
        "id": "HaDcw8TpLWSr"
      }
    },
    {
      "cell_type": "code",
      "source": [
        "from sklearn.linear_model import Lasso\n",
        "lasso = Lasso()\n",
        "lasso.fit(train_scaled, train_target)\n",
        "print(lasso.score(train_scaled, train_target))"
      ],
      "metadata": {
        "colab": {
          "base_uri": "https://localhost:8080/"
        },
        "id": "vYl3_aq7L-e7",
        "outputId": "9e0b314d-b3f5-44ee-c63a-734d26853a28"
      },
      "execution_count": 34,
      "outputs": [
        {
          "output_type": "stream",
          "name": "stdout",
          "text": [
            "0.989789897208096\n"
          ]
        }
      ]
    },
    {
      "cell_type": "code",
      "source": [
        "print(lasso.score(test_scaled, test_target))"
      ],
      "metadata": {
        "colab": {
          "base_uri": "https://localhost:8080/"
        },
        "id": "7lYiivuuMkji",
        "outputId": "f6cad69e-f600-428f-c5f7-a1729d352f8e"
      },
      "execution_count": 35,
      "outputs": [
        {
          "output_type": "stream",
          "name": "stdout",
          "text": [
            "0.9800593698421883\n"
          ]
        }
      ]
    },
    {
      "cell_type": "markdown",
      "source": [
        "라쏘에서도 적절한 alpha값을 찾아 규제를 최적화하자."
      ],
      "metadata": {
        "id": "Jac-AeZSMn20"
      }
    },
    {
      "cell_type": "code",
      "source": [
        "train_score = []\n",
        "test_score = []\n",
        "alpha_list = [0.0001, 0.01, 0.1, 1, 10, 100]\n",
        "for alpha in alpha_list:\n",
        "  lasso = Lasso(alpha=alpha, max_iter=10000)\n",
        "  lasso.fit(train_scaled, train_target)\n",
        "  train_score.append(lasso.score(train_scaled, train_target))\n",
        "  test_score.append(lasso.score(test_scaled, test_target))"
      ],
      "metadata": {
        "colab": {
          "base_uri": "https://localhost:8080/"
        },
        "id": "BGHofoHuM8Zx",
        "outputId": "7819e9e2-4252-417a-9410-0dadb927da43"
      },
      "execution_count": 36,
      "outputs": [
        {
          "output_type": "stream",
          "name": "stderr",
          "text": [
            "/usr/local/lib/python3.7/dist-packages/sklearn/linear_model/_coordinate_descent.py:648: ConvergenceWarning: Objective did not converge. You might want to increase the number of iterations, check the scale of the features or consider increasing regularisation. Duality gap: 1.937e+04, tolerance: 5.183e+02\n",
            "  coef_, l1_reg, l2_reg, X, y, max_iter, tol, rng, random, positive\n",
            "/usr/local/lib/python3.7/dist-packages/sklearn/linear_model/_coordinate_descent.py:648: ConvergenceWarning: Objective did not converge. You might want to increase the number of iterations, check the scale of the features or consider increasing regularisation. Duality gap: 1.297e+04, tolerance: 5.183e+02\n",
            "  coef_, l1_reg, l2_reg, X, y, max_iter, tol, rng, random, positive\n"
          ]
        }
      ]
    },
    {
      "cell_type": "code",
      "source": [
        "plt.plot(np.log10(alpha_list), train_score)\n",
        "plt.plot(np.log10(alpha_list), test_score)\n",
        "plt.xlabel('alpha')\n",
        "plt.ylabel('R^2')\n",
        "plt.show()"
      ],
      "metadata": {
        "colab": {
          "base_uri": "https://localhost:8080/",
          "height": 279
        },
        "id": "NksoprR7NbfC",
        "outputId": "63c50738-2b76-4d5a-adc4-d6763a07701f"
      },
      "execution_count": 37,
      "outputs": [
        {
          "output_type": "display_data",
          "data": {
            "text/plain": [
              "<Figure size 432x288 with 1 Axes>"
            ],
            "image/png": "[encoded data removed]"
          },
          "metadata": {
            "needs_background": "light"
          }
        }
      ]
    },
    {
      "cell_type": "markdown",
      "source": [
        "파란색이 훈련세트 그래프, 주황색이 테스트 세트 그래프이다.\n",
        "\n",
        "1에서 최적의 aplpha 값을 갖는다. 1=10^1 = **10이다.**"
      ],
      "metadata": {
        "id": "31pwKwa4Nobp"
      }
    },
    {
      "cell_type": "code",
      "source": [
        "lasso = Lasso(alpha=10)\n",
        "lasso.fit(train_scaled, train_target)\n",
        "print(lasso.score(train_scaled, train_target))\n",
        "print(lasso.score(test_scaled, test_target))"
      ],
      "metadata": {
        "colab": {
          "base_uri": "https://localhost:8080/"
        },
        "id": "LHLB5avZOKIp",
        "outputId": "e195514e-f71e-4e74-dee8-934a7d0261b8"
      },
      "execution_count": 39,
      "outputs": [
        {
          "output_type": "stream",
          "name": "stdout",
          "text": [
            "0.9888067471131867\n",
            "0.9824470598706695\n"
          ]
        }
      ]
    },
    {
      "cell_type": "markdown",
      "source": [
        "라쏘는 모델 계수를 아예 0으로 만들어 버려서 규제를 할 수도 있다. \n",
        "\n",
        "얼마나 많은 계수가 0으로 되었는지는 coef_ 속성에서 0인 것을 찾아 확인해볼 수 있다."
      ],
      "metadata": {
        "id": "f1T2Rbf8OdSi"
      }
    },
    {
      "cell_type": "code",
      "source": [
        "print(np.sum(lasso.coef_ == 0))"
      ],
      "metadata": {
        "colab": {
          "base_uri": "https://localhost:8080/"
        },
        "id": "cLiVC_oWPmzZ",
        "outputId": "0e8f9b0f-5641-4cda-8200-98d93335afc9"
      },
      "execution_count": 41,
      "outputs": [
        {
          "output_type": "stream",
          "name": "stdout",
          "text": [
            "40\n"
          ]
        }
      ]
    },
    {
      "cell_type": "markdown",
      "source": [
        "40개의 계수가 0으로 되었다. 즉 우리가 늘린 55개의 특성중 오직 15개만 사용하였다는 것이다.\n",
        "\n",
        "이처럼 **라소 모델은 유용한 특성을 골라낸는 용도로 사용할 수 있다.**"
      ],
      "metadata": {
        "id": "_UWQp4PTPshZ"
      }
    }
  ]
}